{
  "cells": [
    {
      "cell_type": "markdown",
      "metadata": {
        "id": "hahQd59q04nP"
      },
      "source": [
        "## CS 340: Intro to Data Science\n",
        "\n",
        "####Gabriel, Rishikesh and Essence"
      ]
    },
    {
      "cell_type": "markdown",
      "metadata": {
        "id": "ZrW3qfgywF9p"
      },
      "source": [
        "# **1. Problem Definition**"
      ]
    },
    {
      "cell_type": "markdown",
      "metadata": {
        "id": "YgYM29yXwSmz"
      },
      "source": [
        "Supply Chain data is important for many businesses as it can play a significant role in the distribution of their products. For example, based on data from a Supply Chain dataset a organization may focused to invest their adds in areas where people buy more products online. Likewise, it will also help businesses to determine prices of its products and forecast sales. Governments may also be interested to know the situation of the Supply Chain to carry out effective economic and development plans.\n",
        "\n",
        "This project's main goal is to study this dataset and analize its data to have a deeper understanding of what is behind different trends and to determine whether the sales profits will increase or decrease in the future years. Here, we will first collect the relevant data set, focused on how much was the profit in each year. Once we collect the data, we will prepare the data using pandas, numpy and visualize the data to determine the relationship between the variables. After studying the data set, we will preprocess the data using python where we will eliminate the outliers and manage missing values. Once we successfully preprocess the data, we will make use of python’s supervised learning packages and algorithms to build our model. Once we prepare the model, we will access the model based upon its accuracy, sensitivity, and specificity. If the model meets our requirements, we will deploy the model to make predictions on income level of individuals."
      ]
    },
    {
      "cell_type": "markdown",
      "metadata": {
        "id": "qfPGbZ4J0-E4"
      },
      "source": [
        "# **2. Why problem is important?**"
      ]
    },
    {
      "cell_type": "markdown",
      "metadata": {
        "id": "5MIouQm61F9A"
      },
      "source": [
        "Studying supply chain is important for several reasons, and it can be instrumental in predicting future strategies for a business. It can be important to Understand Demand-Supply Dynamics, Anticipate Supply Shortages or Surpluses, Identify Cost Savings Opportunities, and Enhance Forecasting and Planning. \n",
        "\n",
        "In this case, by studying the profit in the past years, we will be able to predict what will the profit look like in the years to come, which allows the company to decide what strategies to go for, such as decreasing the price in case the profit goes down. "
      ]
    },
    {
      "cell_type": "markdown",
      "metadata": {
        "id": "sKbOlNhE2SQ9"
      },
      "source": [
        "# **2. Understanding Dataset**"
      ]
    },
    {
      "cell_type": "markdown",
      "metadata": {
        "id": "usQszEWIVPYJ"
      },
      "source": [
        "The original dataset was obtained from Kaggle, an online community of data scientists and machine learning practitioners. The DataSet of Supply Chains was used by the company DataCo Global for analysis, allowing the use of Machine Learning Algorithms and R Software. \n",
        "\n",
        "Areas of important registered activities: Provisioning , Production , Sales , Commercial Distribution. \n",
        "\n",
        "The most important information captured in this Supply Chain database consists of:\n",
        "\n",
        "Days for Shipping: The amount of day that would take to deliver the order.\n",
        "\n",
        "* Category Name: Category of each item, such as Sporting Goods or eletronics.\n",
        "* Customer Segment: Informs if the costumer is Coporation, a Home Office or a regular customer. \n",
        "* Department Name: The department which the item sold belongs, such as Firness  or Technology Department.\n",
        "* Order Country: Country where this order will be delivered to.\n",
        "* Order State: The State in each country where the order is goinf to. \n",
        "* Order Item Profit Ratio: The profit in each order.\n",
        "* Sales: The amount in sales for each order. \n",
        "* Shipping Date: When the order is supposed to be shipped.\n",
        "* Shipping Mode: What kind of shipping method was chosen, such as First Class or Second Class.\n",
        "\n",
        "Source: Kaggle"
      ]
    },
    {
      "cell_type": "markdown",
      "metadata": {
        "id": "yBzp1vrreZn3"
      },
      "source": [
        "#**3. Importing modules**"
      ]
    },
    {
      "cell_type": "code",
      "execution_count": null,
      "metadata": {
        "id": "0I4nWwa7ebik"
      },
      "outputs": [],
      "source": [
        "#dataframe\n",
        "import pandas as pd\n",
        "import numpy as np\n",
        "\n",
        "#visualization\n",
        "import matplotlib.pyplot as plt\n",
        "import seaborn as sns\n",
        "\n",
        "#preprocessing\n",
        "from sklearn import preprocessing\n",
        "from sklearn.preprocessing import StandardScaler\n",
        "from sklearn.preprocessing import Binarizer\n",
        "from imblearn. over_sampling import SMOTE\n"
      ]
    },
    {
      "cell_type": "markdown",
      "metadata": {
        "id": "C2PqfG3kfjhO"
      },
      "source": [
        "#**4. Importing Dataset**"
      ]
    },
    {
      "cell_type": "code",
      "execution_count": null,
      "metadata": {
        "colab": {
          "base_uri": "https://localhost:8080/",
          "height": 421
        },
        "id": "ome54qFwfh7t",
        "outputId": "290e010b-0eba-4631-b8dd-08e6924e7a44"
      },
      "outputs": [
        {
          "data": {
            "text/html": [
              "\n",
              "  <div id=\"df-52c12c6c-a311-4be1-bd2b-a689b7eaf091\">\n",
              "    <div class=\"colab-df-container\">\n",
              "      <div>\n",
              "<style scoped>\n",
              "    .dataframe tbody tr th:only-of-type {\n",
              "        vertical-align: middle;\n",
              "    }\n",
              "\n",
              "    .dataframe tbody tr th {\n",
              "        vertical-align: top;\n",
              "    }\n",
              "\n",
              "    .dataframe thead th {\n",
              "        text-align: right;\n",
              "    }\n",
              "</style>\n",
              "<table border=\"1\" class=\"dataframe\">\n",
              "  <thead>\n",
              "    <tr style=\"text-align: right;\">\n",
              "      <th></th>\n",
              "      <th>Type</th>\n",
              "      <th>Days for shipping (real)</th>\n",
              "      <th>Days for shipment (scheduled)</th>\n",
              "      <th>Benefit per order</th>\n",
              "      <th>Sales per customer</th>\n",
              "      <th>Delivery Status</th>\n",
              "      <th>Late_delivery_risk</th>\n",
              "      <th>Category Id</th>\n",
              "      <th>Category Name</th>\n",
              "      <th>Customer City</th>\n",
              "      <th>...</th>\n",
              "      <th>Order Zipcode</th>\n",
              "      <th>Product Card Id</th>\n",
              "      <th>Product Category Id</th>\n",
              "      <th>Product Description</th>\n",
              "      <th>Product Image</th>\n",
              "      <th>Product Name</th>\n",
              "      <th>Product Price</th>\n",
              "      <th>Product Status</th>\n",
              "      <th>shipping date (DateOrders)</th>\n",
              "      <th>Shipping Mode</th>\n",
              "    </tr>\n",
              "  </thead>\n",
              "  <tbody>\n",
              "    <tr>\n",
              "      <th>0</th>\n",
              "      <td>DEBIT</td>\n",
              "      <td>3</td>\n",
              "      <td>4</td>\n",
              "      <td>91.250000</td>\n",
              "      <td>314.640015</td>\n",
              "      <td>Advance shipping</td>\n",
              "      <td>0</td>\n",
              "      <td>73</td>\n",
              "      <td>Sporting Goods</td>\n",
              "      <td>Caguas</td>\n",
              "      <td>...</td>\n",
              "      <td>NaN</td>\n",
              "      <td>1360</td>\n",
              "      <td>73</td>\n",
              "      <td>NaN</td>\n",
              "      <td>http://images.acmesports.sports/Smart+watch</td>\n",
              "      <td>Smart watch</td>\n",
              "      <td>327.75</td>\n",
              "      <td>0</td>\n",
              "      <td>2/3/2018 22:56</td>\n",
              "      <td>Standard Class</td>\n",
              "    </tr>\n",
              "    <tr>\n",
              "      <th>1</th>\n",
              "      <td>TRANSFER</td>\n",
              "      <td>5</td>\n",
              "      <td>4</td>\n",
              "      <td>-249.089996</td>\n",
              "      <td>311.359985</td>\n",
              "      <td>Late delivery</td>\n",
              "      <td>1</td>\n",
              "      <td>73</td>\n",
              "      <td>Sporting Goods</td>\n",
              "      <td>Caguas</td>\n",
              "      <td>...</td>\n",
              "      <td>NaN</td>\n",
              "      <td>1360</td>\n",
              "      <td>73</td>\n",
              "      <td>NaN</td>\n",
              "      <td>http://images.acmesports.sports/Smart+watch</td>\n",
              "      <td>Smart watch</td>\n",
              "      <td>327.75</td>\n",
              "      <td>0</td>\n",
              "      <td>1/18/2018 12:27</td>\n",
              "      <td>Standard Class</td>\n",
              "    </tr>\n",
              "    <tr>\n",
              "      <th>2</th>\n",
              "      <td>CASH</td>\n",
              "      <td>4</td>\n",
              "      <td>4</td>\n",
              "      <td>-247.779999</td>\n",
              "      <td>309.720001</td>\n",
              "      <td>Shipping on time</td>\n",
              "      <td>0</td>\n",
              "      <td>73</td>\n",
              "      <td>Sporting Goods</td>\n",
              "      <td>San Jose</td>\n",
              "      <td>...</td>\n",
              "      <td>NaN</td>\n",
              "      <td>1360</td>\n",
              "      <td>73</td>\n",
              "      <td>NaN</td>\n",
              "      <td>http://images.acmesports.sports/Smart+watch</td>\n",
              "      <td>Smart watch</td>\n",
              "      <td>327.75</td>\n",
              "      <td>0</td>\n",
              "      <td>1/17/2018 12:06</td>\n",
              "      <td>Standard Class</td>\n",
              "    </tr>\n",
              "    <tr>\n",
              "      <th>3</th>\n",
              "      <td>DEBIT</td>\n",
              "      <td>3</td>\n",
              "      <td>4</td>\n",
              "      <td>22.860001</td>\n",
              "      <td>304.809998</td>\n",
              "      <td>Advance shipping</td>\n",
              "      <td>0</td>\n",
              "      <td>73</td>\n",
              "      <td>Sporting Goods</td>\n",
              "      <td>Los Angeles</td>\n",
              "      <td>...</td>\n",
              "      <td>NaN</td>\n",
              "      <td>1360</td>\n",
              "      <td>73</td>\n",
              "      <td>NaN</td>\n",
              "      <td>http://images.acmesports.sports/Smart+watch</td>\n",
              "      <td>Smart watch</td>\n",
              "      <td>327.75</td>\n",
              "      <td>0</td>\n",
              "      <td>1/16/2018 11:45</td>\n",
              "      <td>Standard Class</td>\n",
              "    </tr>\n",
              "    <tr>\n",
              "      <th>4</th>\n",
              "      <td>PAYMENT</td>\n",
              "      <td>2</td>\n",
              "      <td>4</td>\n",
              "      <td>134.210007</td>\n",
              "      <td>298.250000</td>\n",
              "      <td>Advance shipping</td>\n",
              "      <td>0</td>\n",
              "      <td>73</td>\n",
              "      <td>Sporting Goods</td>\n",
              "      <td>Caguas</td>\n",
              "      <td>...</td>\n",
              "      <td>NaN</td>\n",
              "      <td>1360</td>\n",
              "      <td>73</td>\n",
              "      <td>NaN</td>\n",
              "      <td>http://images.acmesports.sports/Smart+watch</td>\n",
              "      <td>Smart watch</td>\n",
              "      <td>327.75</td>\n",
              "      <td>0</td>\n",
              "      <td>1/15/2018 11:24</td>\n",
              "      <td>Standard Class</td>\n",
              "    </tr>\n",
              "  </tbody>\n",
              "</table>\n",
              "<p>5 rows × 53 columns</p>\n",
              "</div>\n",
              "      <button class=\"colab-df-convert\" onclick=\"convertToInteractive('df-52c12c6c-a311-4be1-bd2b-a689b7eaf091')\"\n",
              "              title=\"Convert this dataframe to an interactive table.\"\n",
              "              style=\"display:none;\">\n",
              "        \n",
              "  <svg xmlns=\"http://www.w3.org/2000/svg\" height=\"24px\"viewBox=\"0 0 24 24\"\n",
              "       width=\"24px\">\n",
              "    <path d=\"M0 0h24v24H0V0z\" fill=\"none\"/>\n",
              "    <path d=\"M18.56 5.44l.94 2.06.94-2.06 2.06-.94-2.06-.94-.94-2.06-.94 2.06-2.06.94zm-11 1L8.5 8.5l.94-2.06 2.06-.94-2.06-.94L8.5 2.5l-.94 2.06-2.06.94zm10 10l.94 2.06.94-2.06 2.06-.94-2.06-.94-.94-2.06-.94 2.06-2.06.94z\"/><path d=\"M17.41 7.96l-1.37-1.37c-.4-.4-.92-.59-1.43-.59-.52 0-1.04.2-1.43.59L10.3 9.45l-7.72 7.72c-.78.78-.78 2.05 0 2.83L4 21.41c.39.39.9.59 1.41.59.51 0 1.02-.2 1.41-.59l7.78-7.78 2.81-2.81c.8-.78.8-2.07 0-2.86zM5.41 20L4 18.59l7.72-7.72 1.47 1.35L5.41 20z\"/>\n",
              "  </svg>\n",
              "      </button>\n",
              "      \n",
              "  <style>\n",
              "    .colab-df-container {\n",
              "      display:flex;\n",
              "      flex-wrap:wrap;\n",
              "      gap: 12px;\n",
              "    }\n",
              "\n",
              "    .colab-df-convert {\n",
              "      background-color: #E8F0FE;\n",
              "      border: none;\n",
              "      border-radius: 50%;\n",
              "      cursor: pointer;\n",
              "      display: none;\n",
              "      fill: #1967D2;\n",
              "      height: 32px;\n",
              "      padding: 0 0 0 0;\n",
              "      width: 32px;\n",
              "    }\n",
              "\n",
              "    .colab-df-convert:hover {\n",
              "      background-color: #E2EBFA;\n",
              "      box-shadow: 0px 1px 2px rgba(60, 64, 67, 0.3), 0px 1px 3px 1px rgba(60, 64, 67, 0.15);\n",
              "      fill: #174EA6;\n",
              "    }\n",
              "\n",
              "    [theme=dark] .colab-df-convert {\n",
              "      background-color: #3B4455;\n",
              "      fill: #D2E3FC;\n",
              "    }\n",
              "\n",
              "    [theme=dark] .colab-df-convert:hover {\n",
              "      background-color: #434B5C;\n",
              "      box-shadow: 0px 1px 3px 1px rgba(0, 0, 0, 0.15);\n",
              "      filter: drop-shadow(0px 1px 2px rgba(0, 0, 0, 0.3));\n",
              "      fill: #FFFFFF;\n",
              "    }\n",
              "  </style>\n",
              "\n",
              "      <script>\n",
              "        const buttonEl =\n",
              "          document.querySelector('#df-52c12c6c-a311-4be1-bd2b-a689b7eaf091 button.colab-df-convert');\n",
              "        buttonEl.style.display =\n",
              "          google.colab.kernel.accessAllowed ? 'block' : 'none';\n",
              "\n",
              "        async function convertToInteractive(key) {\n",
              "          const element = document.querySelector('#df-52c12c6c-a311-4be1-bd2b-a689b7eaf091');\n",
              "          const dataTable =\n",
              "            await google.colab.kernel.invokeFunction('convertToInteractive',\n",
              "                                                     [key], {});\n",
              "          if (!dataTable) return;\n",
              "\n",
              "          const docLinkHtml = 'Like what you see? Visit the ' +\n",
              "            '<a target=\"_blank\" href=https://colab.research.google.com/notebooks/data_table.ipynb>data table notebook</a>'\n",
              "            + ' to learn more about interactive tables.';\n",
              "          element.innerHTML = '';\n",
              "          dataTable['output_type'] = 'display_data';\n",
              "          await google.colab.output.renderOutput(dataTable, element);\n",
              "          const docLink = document.createElement('div');\n",
              "          docLink.innerHTML = docLinkHtml;\n",
              "          element.appendChild(docLink);\n",
              "        }\n",
              "      </script>\n",
              "    </div>\n",
              "  </div>\n",
              "  "
            ],
            "text/plain": [
              "       Type  Days for shipping (real)  Days for shipment (scheduled)  \\\n",
              "0     DEBIT                         3                              4   \n",
              "1  TRANSFER                         5                              4   \n",
              "2      CASH                         4                              4   \n",
              "3     DEBIT                         3                              4   \n",
              "4   PAYMENT                         2                              4   \n",
              "\n",
              "   Benefit per order  Sales per customer   Delivery Status  \\\n",
              "0          91.250000          314.640015  Advance shipping   \n",
              "1        -249.089996          311.359985     Late delivery   \n",
              "2        -247.779999          309.720001  Shipping on time   \n",
              "3          22.860001          304.809998  Advance shipping   \n",
              "4         134.210007          298.250000  Advance shipping   \n",
              "\n",
              "   Late_delivery_risk  Category Id   Category Name Customer City  ...  \\\n",
              "0                   0           73  Sporting Goods        Caguas  ...   \n",
              "1                   1           73  Sporting Goods        Caguas  ...   \n",
              "2                   0           73  Sporting Goods      San Jose  ...   \n",
              "3                   0           73  Sporting Goods   Los Angeles  ...   \n",
              "4                   0           73  Sporting Goods        Caguas  ...   \n",
              "\n",
              "  Order Zipcode Product Card Id Product Category Id  Product Description  \\\n",
              "0           NaN            1360                  73                  NaN   \n",
              "1           NaN            1360                  73                  NaN   \n",
              "2           NaN            1360                  73                  NaN   \n",
              "3           NaN            1360                  73                  NaN   \n",
              "4           NaN            1360                  73                  NaN   \n",
              "\n",
              "                                  Product Image  Product Name Product Price  \\\n",
              "0  http://images.acmesports.sports/Smart+watch   Smart watch         327.75   \n",
              "1  http://images.acmesports.sports/Smart+watch   Smart watch         327.75   \n",
              "2  http://images.acmesports.sports/Smart+watch   Smart watch         327.75   \n",
              "3  http://images.acmesports.sports/Smart+watch   Smart watch         327.75   \n",
              "4  http://images.acmesports.sports/Smart+watch   Smart watch         327.75   \n",
              "\n",
              "  Product Status shipping date (DateOrders)   Shipping Mode  \n",
              "0              0             2/3/2018 22:56  Standard Class  \n",
              "1              0            1/18/2018 12:27  Standard Class  \n",
              "2              0            1/17/2018 12:06  Standard Class  \n",
              "3              0            1/16/2018 11:45  Standard Class  \n",
              "4              0            1/15/2018 11:24  Standard Class  \n",
              "\n",
              "[5 rows x 53 columns]"
            ]
          },
          "execution_count": 3,
          "metadata": {},
          "output_type": "execute_result"
        }
      ],
      "source": [
        "df = pd.read_csv('DataCoSupplyChainDataset.csv',encoding='ISO-8859-1')\n",
        "df.head()"
      ]
    },
    {
      "cell_type": "markdown",
      "metadata": {
        "id": "BQg_8KFCwSQz"
      },
      "source": [
        "#**5. Exploratory Data Analysis**"
      ]
    },
    {
      "cell_type": "markdown",
      "metadata": {
        "id": "hdW1SA8OgftK"
      },
      "source": [
        "### Determining the shape of the dataset"
      ]
    },
    {
      "cell_type": "code",
      "execution_count": null,
      "metadata": {
        "colab": {
          "base_uri": "https://localhost:8080/"
        },
        "id": "S6LizU-wgp9c",
        "outputId": "9a4c2af4-f93e-493b-c64c-c8010236a02b"
      },
      "outputs": [
        {
          "data": {
            "text/plain": [
              "(11943, 53)"
            ]
          },
          "execution_count": 4,
          "metadata": {},
          "output_type": "execute_result"
        }
      ],
      "source": [
        "df.shape"
      ]
    },
    {
      "cell_type": "markdown",
      "metadata": {
        "id": "WHgIRMGwwcBl"
      },
      "source": [
        "As we can see, there are 180,519 rows (records) and 53 columns in our dataset."
      ]
    },
    {
      "cell_type": "markdown",
      "metadata": {
        "id": "UKGWYHmfg2JL"
      },
      "source": [
        "###Listing the columns of the dataset"
      ]
    },
    {
      "cell_type": "code",
      "execution_count": null,
      "metadata": {
        "colab": {
          "base_uri": "https://localhost:8080/"
        },
        "id": "XI21SwgDg_xx",
        "outputId": "061da325-e76d-4693-c40e-c066d8c83c10"
      },
      "outputs": [
        {
          "data": {
            "text/plain": [
              "Index(['Type', 'Days for shipping (real)', 'Days for shipment (scheduled)',\n",
              "       'Benefit per order', 'Sales per customer', 'Delivery Status',\n",
              "       'Late_delivery_risk', 'Category Id', 'Category Name', 'Customer City',\n",
              "       'Customer Country', 'Customer Email', 'Customer Fname', 'Customer Id',\n",
              "       'Customer Lname', 'Customer Password', 'Customer Segment',\n",
              "       'Customer State', 'Customer Street', 'Customer Zipcode',\n",
              "       'Department Id', 'Department Name', 'Latitude', 'Longitude', 'Market',\n",
              "       'Order City', 'Order Country', 'Order Customer Id',\n",
              "       'order date (DateOrders)', 'Order Id', 'Order Item Cardprod Id',\n",
              "       'Order Item Discount', 'Order Item Discount Rate', 'Order Item Id',\n",
              "       'Order Item Product Price', 'Order Item Profit Ratio',\n",
              "       'Order Item Quantity', 'Sales', 'Order Item Total',\n",
              "       'Order Profit Per Order', 'Order Region', 'Order State', 'Order Status',\n",
              "       'Order Zipcode', 'Product Card Id', 'Product Category Id',\n",
              "       'Product Description', 'Product Image', 'Product Name', 'Product Price',\n",
              "       'Product Status', 'shipping date (DateOrders)', 'Shipping Mode'],\n",
              "      dtype='object')"
            ]
          },
          "execution_count": 5,
          "metadata": {},
          "output_type": "execute_result"
        }
      ],
      "source": [
        "df.columns"
      ]
    },
    {
      "cell_type": "markdown",
      "metadata": {
        "id": "CAB5i2ZXhxma"
      },
      "source": [
        "### Replacing spaces (' ') between Column names with '_'"
      ]
    },
    {
      "cell_type": "code",
      "execution_count": null,
      "metadata": {
        "id": "4-nsuQlUh21h"
      },
      "outputs": [],
      "source": [
        "columns= list(df.columns)\n",
        "adder = \"\"\n",
        "new_columns =[]\n",
        "for each_column in columns:\n",
        "    for letter in each_column:\n",
        "        if letter==\" \":\n",
        "            adder = adder + \"_\"\n",
        "        else:\n",
        "            adder = adder + letter\n",
        "    new_columns.append(adder)\n",
        "    adder=\"\"\n"
      ]
    },
    {
      "cell_type": "markdown",
      "metadata": {
        "id": "-mt2ScBzi4T4"
      },
      "source": [
        "###Replacing old columns with new_columns"
      ]
    },
    {
      "cell_type": "code",
      "execution_count": null,
      "metadata": {
        "id": "Iw94J_NBineU"
      },
      "outputs": [],
      "source": [
        "df.columns=new_columns"
      ]
    },
    {
      "cell_type": "markdown",
      "metadata": {
        "id": "BXAI_f10ww8J"
      },
      "source": [
        "Our column names had too many spaces and we decided to change it to '_' to avoid any issues with Pandas"
      ]
    },
    {
      "cell_type": "markdown",
      "metadata": {
        "id": "96P8T4YxjIf3"
      },
      "source": [
        "###Determining dataframe columns characteristics"
      ]
    },
    {
      "cell_type": "code",
      "execution_count": null,
      "metadata": {
        "colab": {
          "base_uri": "https://localhost:8080/"
        },
        "id": "bLyam4OmjO7g",
        "outputId": "7fe7a351-b150-4869-9107-bdad6d874d6e"
      },
      "outputs": [
        {
          "name": "stdout",
          "output_type": "stream",
          "text": [
            "<class 'pandas.core.frame.DataFrame'>\n",
            "RangeIndex: 11943 entries, 0 to 11942\n",
            "Data columns (total 53 columns):\n",
            " #   Column                         Non-Null Count  Dtype  \n",
            "---  ------                         --------------  -----  \n",
            " 0   Type                           11943 non-null  object \n",
            " 1   Days_for_shipping_(real)       11943 non-null  int64  \n",
            " 2   Days_for_shipment_(scheduled)  11943 non-null  int64  \n",
            " 3   Benefit_per_order              11943 non-null  float64\n",
            " 4   Sales_per_customer             11943 non-null  float64\n",
            " 5   Delivery_Status                11943 non-null  object \n",
            " 6   Late_delivery_risk             11943 non-null  int64  \n",
            " 7   Category_Id                    11943 non-null  int64  \n",
            " 8   Category_Name                  11943 non-null  object \n",
            " 9   Customer_City                  11943 non-null  object \n",
            " 10  Customer_Country               11943 non-null  object \n",
            " 11  Customer_Email                 11943 non-null  object \n",
            " 12  Customer_Fname                 11943 non-null  object \n",
            " 13  Customer_Id                    11943 non-null  int64  \n",
            " 14  Customer_Lname                 11943 non-null  object \n",
            " 15  Customer_Password              11943 non-null  object \n",
            " 16  Customer_Segment               11943 non-null  object \n",
            " 17  Customer_State                 11943 non-null  object \n",
            " 18  Customer_Street                11943 non-null  object \n",
            " 19  Customer_Zipcode               11943 non-null  int64  \n",
            " 20  Department_Id                  11943 non-null  int64  \n",
            " 21  Department_Name                11943 non-null  object \n",
            " 22  Latitude                       11943 non-null  float64\n",
            " 23  Longitude                      11943 non-null  float64\n",
            " 24  Market                         11943 non-null  object \n",
            " 25  Order_City                     11943 non-null  object \n",
            " 26  Order_Country                  11943 non-null  object \n",
            " 27  Order_Customer_Id              11943 non-null  int64  \n",
            " 28  order_date_(DateOrders)        11943 non-null  object \n",
            " 29  Order_Id                       11943 non-null  int64  \n",
            " 30  Order_Item_Cardprod_Id         11943 non-null  int64  \n",
            " 31  Order_Item_Discount            11943 non-null  float64\n",
            " 32  Order_Item_Discount_Rate       11943 non-null  float64\n",
            " 33  Order_Item_Id                  11943 non-null  int64  \n",
            " 34  Order_Item_Product_Price       11943 non-null  float64\n",
            " 35  Order_Item_Profit_Ratio        11943 non-null  float64\n",
            " 36  Order_Item_Quantity            11943 non-null  int64  \n",
            " 37  Sales                          11943 non-null  float64\n",
            " 38  Order_Item_Total               11943 non-null  float64\n",
            " 39  Order_Profit_Per_Order         11943 non-null  float64\n",
            " 40  Order_Region                   11943 non-null  object \n",
            " 41  Order_State                    11943 non-null  object \n",
            " 42  Order_Status                   11943 non-null  object \n",
            " 43  Order_Zipcode                  1471 non-null   float64\n",
            " 44  Product_Card_Id                11943 non-null  int64  \n",
            " 45  Product_Category_Id            11943 non-null  int64  \n",
            " 46  Product_Description            0 non-null      float64\n",
            " 47  Product_Image                  11943 non-null  object \n",
            " 48  Product_Name                   11943 non-null  object \n",
            " 49  Product_Price                  11943 non-null  float64\n",
            " 50  Product_Status                 11943 non-null  int64  \n",
            " 51  shipping_date_(DateOrders)     11942 non-null  object \n",
            " 52  Shipping_Mode                  11942 non-null  object \n",
            "dtypes: float64(14), int64(15), object(24)\n",
            "memory usage: 4.8+ MB\n"
          ]
        }
      ],
      "source": [
        "df.info()"
      ]
    },
    {
      "cell_type": "markdown",
      "metadata": {
        "id": "Pp-qlImljUkB"
      },
      "source": [
        "###Listing datatypes of the columns"
      ]
    },
    {
      "cell_type": "code",
      "execution_count": null,
      "metadata": {
        "colab": {
          "base_uri": "https://localhost:8080/"
        },
        "id": "gChGR_5pjYUZ",
        "outputId": "c81d28c1-8114-4f76-b66c-497f4cf630ac"
      },
      "outputs": [
        {
          "data": {
            "text/plain": [
              "Type                              object\n",
              "Days_for_shipping_(real)           int64\n",
              "Days_for_shipment_(scheduled)      int64\n",
              "Benefit_per_order                float64\n",
              "Sales_per_customer               float64\n",
              "Delivery_Status                   object\n",
              "Late_delivery_risk                 int64\n",
              "Category_Id                        int64\n",
              "Category_Name                     object\n",
              "Customer_City                     object\n",
              "Customer_Country                  object\n",
              "Customer_Email                    object\n",
              "Customer_Fname                    object\n",
              "Customer_Id                        int64\n",
              "Customer_Lname                    object\n",
              "Customer_Password                 object\n",
              "Customer_Segment                  object\n",
              "Customer_State                    object\n",
              "Customer_Street                   object\n",
              "Customer_Zipcode                   int64\n",
              "Department_Id                      int64\n",
              "Department_Name                   object\n",
              "Latitude                         float64\n",
              "Longitude                        float64\n",
              "Market                            object\n",
              "Order_City                        object\n",
              "Order_Country                     object\n",
              "Order_Customer_Id                  int64\n",
              "order_date_(DateOrders)           object\n",
              "Order_Id                           int64\n",
              "Order_Item_Cardprod_Id             int64\n",
              "Order_Item_Discount              float64\n",
              "Order_Item_Discount_Rate         float64\n",
              "Order_Item_Id                      int64\n",
              "Order_Item_Product_Price         float64\n",
              "Order_Item_Profit_Ratio          float64\n",
              "Order_Item_Quantity                int64\n",
              "Sales                            float64\n",
              "Order_Item_Total                 float64\n",
              "Order_Profit_Per_Order           float64\n",
              "Order_Region                      object\n",
              "Order_State                       object\n",
              "Order_Status                      object\n",
              "Order_Zipcode                    float64\n",
              "Product_Card_Id                    int64\n",
              "Product_Category_Id                int64\n",
              "Product_Description              float64\n",
              "Product_Image                     object\n",
              "Product_Name                      object\n",
              "Product_Price                    float64\n",
              "Product_Status                     int64\n",
              "shipping_date_(DateOrders)        object\n",
              "Shipping_Mode                     object\n",
              "dtype: object"
            ]
          },
          "execution_count": 9,
          "metadata": {},
          "output_type": "execute_result"
        }
      ],
      "source": [
        "df.dtypes"
      ]
    },
    {
      "cell_type": "markdown",
      "metadata": {
        "id": "MHNmJWvxjeSk"
      },
      "source": [
        "###Descriptive Analytics of quantitative variables in the dataframe"
      ]
    },
    {
      "cell_type": "code",
      "execution_count": null,
      "metadata": {
        "colab": {
          "base_uri": "https://localhost:8080/",
          "height": 959
        },
        "id": "ie9At8_zjfms",
        "outputId": "b4cc1cb3-0b92-405c-fd85-069d9cfb3a09"
      },
      "outputs": [
        {
          "data": {
            "text/html": [
              "\n",
              "  <div id=\"df-f0aafebf-3cf8-4f44-b151-f0da8d96a68f\">\n",
              "    <div class=\"colab-df-container\">\n",
              "      <div>\n",
              "<style scoped>\n",
              "    .dataframe tbody tr th:only-of-type {\n",
              "        vertical-align: middle;\n",
              "    }\n",
              "\n",
              "    .dataframe tbody tr th {\n",
              "        vertical-align: top;\n",
              "    }\n",
              "\n",
              "    .dataframe thead th {\n",
              "        text-align: right;\n",
              "    }\n",
              "</style>\n",
              "<table border=\"1\" class=\"dataframe\">\n",
              "  <thead>\n",
              "    <tr style=\"text-align: right;\">\n",
              "      <th></th>\n",
              "      <th>count</th>\n",
              "      <th>mean</th>\n",
              "      <th>std</th>\n",
              "      <th>min</th>\n",
              "      <th>25%</th>\n",
              "      <th>50%</th>\n",
              "      <th>75%</th>\n",
              "      <th>max</th>\n",
              "    </tr>\n",
              "  </thead>\n",
              "  <tbody>\n",
              "    <tr>\n",
              "      <th>Days_for_shipping_(real)</th>\n",
              "      <td>11943.0</td>\n",
              "      <td>3.654442</td>\n",
              "      <td>1.545516</td>\n",
              "      <td>0.000000</td>\n",
              "      <td>2.000000</td>\n",
              "      <td>4.000000</td>\n",
              "      <td>5.000000</td>\n",
              "      <td>6.000000</td>\n",
              "    </tr>\n",
              "    <tr>\n",
              "      <th>Days_for_shipment_(scheduled)</th>\n",
              "      <td>11943.0</td>\n",
              "      <td>3.085322</td>\n",
              "      <td>1.251830</td>\n",
              "      <td>0.000000</td>\n",
              "      <td>2.000000</td>\n",
              "      <td>4.000000</td>\n",
              "      <td>4.000000</td>\n",
              "      <td>4.000000</td>\n",
              "    </tr>\n",
              "    <tr>\n",
              "      <th>Benefit_per_order</th>\n",
              "      <td>11943.0</td>\n",
              "      <td>21.582287</td>\n",
              "      <td>110.543832</td>\n",
              "      <td>-3366.000000</td>\n",
              "      <td>6.835000</td>\n",
              "      <td>30.740000</td>\n",
              "      <td>64.940002</td>\n",
              "      <td>614.250000</td>\n",
              "    </tr>\n",
              "    <tr>\n",
              "      <th>Sales_per_customer</th>\n",
              "      <td>11943.0</td>\n",
              "      <td>181.839720</td>\n",
              "      <td>120.686932</td>\n",
              "      <td>8.470000</td>\n",
              "      <td>100.099998</td>\n",
              "      <td>155.160004</td>\n",
              "      <td>251.970001</td>\n",
              "      <td>1485.000000</td>\n",
              "    </tr>\n",
              "    <tr>\n",
              "      <th>Late_delivery_risk</th>\n",
              "      <td>11943.0</td>\n",
              "      <td>0.539228</td>\n",
              "      <td>0.498480</td>\n",
              "      <td>0.000000</td>\n",
              "      <td>0.000000</td>\n",
              "      <td>1.000000</td>\n",
              "      <td>1.000000</td>\n",
              "      <td>1.000000</td>\n",
              "    </tr>\n",
              "    <tr>\n",
              "      <th>Category_Id</th>\n",
              "      <td>11943.0</td>\n",
              "      <td>26.108683</td>\n",
              "      <td>16.538863</td>\n",
              "      <td>2.000000</td>\n",
              "      <td>17.000000</td>\n",
              "      <td>24.000000</td>\n",
              "      <td>29.000000</td>\n",
              "      <td>76.000000</td>\n",
              "    </tr>\n",
              "    <tr>\n",
              "      <th>Customer_Id</th>\n",
              "      <td>11943.0</td>\n",
              "      <td>7069.821318</td>\n",
              "      <td>4542.817232</td>\n",
              "      <td>1.000000</td>\n",
              "      <td>3420.500000</td>\n",
              "      <td>6746.000000</td>\n",
              "      <td>10080.000000</td>\n",
              "      <td>20755.000000</td>\n",
              "    </tr>\n",
              "    <tr>\n",
              "      <th>Customer_Zipcode</th>\n",
              "      <td>11943.0</td>\n",
              "      <td>29283.193754</td>\n",
              "      <td>36684.605594</td>\n",
              "      <td>603.000000</td>\n",
              "      <td>725.000000</td>\n",
              "      <td>957.000000</td>\n",
              "      <td>60649.000000</td>\n",
              "      <td>98632.000000</td>\n",
              "    </tr>\n",
              "    <tr>\n",
              "      <th>Department_Id</th>\n",
              "      <td>11943.0</td>\n",
              "      <td>4.579335</td>\n",
              "      <td>1.612280</td>\n",
              "      <td>2.000000</td>\n",
              "      <td>4.000000</td>\n",
              "      <td>4.000000</td>\n",
              "      <td>5.000000</td>\n",
              "      <td>12.000000</td>\n",
              "    </tr>\n",
              "    <tr>\n",
              "      <th>Latitude</th>\n",
              "      <td>11943.0</td>\n",
              "      <td>27.513113</td>\n",
              "      <td>9.865790</td>\n",
              "      <td>17.982491</td>\n",
              "      <td>18.250216</td>\n",
              "      <td>21.305620</td>\n",
              "      <td>37.304783</td>\n",
              "      <td>48.781933</td>\n",
              "    </tr>\n",
              "    <tr>\n",
              "      <th>Longitude</th>\n",
              "      <td>11943.0</td>\n",
              "      <td>-81.497745</td>\n",
              "      <td>21.063133</td>\n",
              "      <td>-158.025986</td>\n",
              "      <td>-90.678600</td>\n",
              "      <td>-70.668617</td>\n",
              "      <td>-66.370552</td>\n",
              "      <td>115.049789</td>\n",
              "    </tr>\n",
              "    <tr>\n",
              "      <th>Order_Customer_Id</th>\n",
              "      <td>11943.0</td>\n",
              "      <td>7069.821318</td>\n",
              "      <td>4542.817232</td>\n",
              "      <td>1.000000</td>\n",
              "      <td>3420.500000</td>\n",
              "      <td>6746.000000</td>\n",
              "      <td>10080.000000</td>\n",
              "      <td>20755.000000</td>\n",
              "    </tr>\n",
              "    <tr>\n",
              "      <th>Order_Id</th>\n",
              "      <td>11943.0</td>\n",
              "      <td>36108.654693</td>\n",
              "      <td>21577.612697</td>\n",
              "      <td>12.000000</td>\n",
              "      <td>18017.500000</td>\n",
              "      <td>34102.000000</td>\n",
              "      <td>53958.000000</td>\n",
              "      <td>77202.000000</td>\n",
              "    </tr>\n",
              "    <tr>\n",
              "      <th>Order_Item_Cardprod_Id</th>\n",
              "      <td>11943.0</td>\n",
              "      <td>553.782299</td>\n",
              "      <td>334.010498</td>\n",
              "      <td>19.000000</td>\n",
              "      <td>365.000000</td>\n",
              "      <td>403.000000</td>\n",
              "      <td>627.000000</td>\n",
              "      <td>1363.000000</td>\n",
              "    </tr>\n",
              "    <tr>\n",
              "      <th>Order_Item_Discount</th>\n",
              "      <td>11943.0</td>\n",
              "      <td>20.922142</td>\n",
              "      <td>22.255595</td>\n",
              "      <td>0.000000</td>\n",
              "      <td>5.500000</td>\n",
              "      <td>14.400000</td>\n",
              "      <td>29.990000</td>\n",
              "      <td>375.000000</td>\n",
              "    </tr>\n",
              "    <tr>\n",
              "      <th>Order_Item_Discount_Rate</th>\n",
              "      <td>11943.0</td>\n",
              "      <td>0.103250</td>\n",
              "      <td>0.070626</td>\n",
              "      <td>0.000000</td>\n",
              "      <td>0.040000</td>\n",
              "      <td>0.100000</td>\n",
              "      <td>0.160000</td>\n",
              "      <td>0.250000</td>\n",
              "    </tr>\n",
              "    <tr>\n",
              "      <th>Order_Item_Id</th>\n",
              "      <td>11943.0</td>\n",
              "      <td>89725.873985</td>\n",
              "      <td>53008.986144</td>\n",
              "      <td>35.000000</td>\n",
              "      <td>45024.500000</td>\n",
              "      <td>85121.000000</td>\n",
              "      <td>134911.000000</td>\n",
              "      <td>180517.000000</td>\n",
              "    </tr>\n",
              "    <tr>\n",
              "      <th>Order_Item_Product_Price</th>\n",
              "      <td>11943.0</td>\n",
              "      <td>118.653255</td>\n",
              "      <td>130.234442</td>\n",
              "      <td>11.290000</td>\n",
              "      <td>50.000000</td>\n",
              "      <td>59.990002</td>\n",
              "      <td>129.990005</td>\n",
              "      <td>1500.000000</td>\n",
              "    </tr>\n",
              "    <tr>\n",
              "      <th>Order_Item_Profit_Ratio</th>\n",
              "      <td>11943.0</td>\n",
              "      <td>0.122056</td>\n",
              "      <td>0.460543</td>\n",
              "      <td>-2.750000</td>\n",
              "      <td>0.080000</td>\n",
              "      <td>0.270000</td>\n",
              "      <td>0.360000</td>\n",
              "      <td>0.500000</td>\n",
              "    </tr>\n",
              "    <tr>\n",
              "      <th>Order_Item_Quantity</th>\n",
              "      <td>11943.0</td>\n",
              "      <td>2.522566</td>\n",
              "      <td>1.588501</td>\n",
              "      <td>1.000000</td>\n",
              "      <td>1.000000</td>\n",
              "      <td>2.000000</td>\n",
              "      <td>4.000000</td>\n",
              "      <td>5.000000</td>\n",
              "    </tr>\n",
              "    <tr>\n",
              "      <th>Sales</th>\n",
              "      <td>11943.0</td>\n",
              "      <td>202.761600</td>\n",
              "      <td>133.627943</td>\n",
              "      <td>11.290000</td>\n",
              "      <td>119.980003</td>\n",
              "      <td>179.970001</td>\n",
              "      <td>299.950012</td>\n",
              "      <td>1500.000000</td>\n",
              "    </tr>\n",
              "    <tr>\n",
              "      <th>Order_Item_Total</th>\n",
              "      <td>11943.0</td>\n",
              "      <td>181.839720</td>\n",
              "      <td>120.686932</td>\n",
              "      <td>8.470000</td>\n",
              "      <td>100.099998</td>\n",
              "      <td>155.160004</td>\n",
              "      <td>251.970001</td>\n",
              "      <td>1485.000000</td>\n",
              "    </tr>\n",
              "    <tr>\n",
              "      <th>Order_Profit_Per_Order</th>\n",
              "      <td>11943.0</td>\n",
              "      <td>21.582287</td>\n",
              "      <td>110.543832</td>\n",
              "      <td>-3366.000000</td>\n",
              "      <td>6.835000</td>\n",
              "      <td>30.740000</td>\n",
              "      <td>64.940002</td>\n",
              "      <td>614.250000</td>\n",
              "    </tr>\n",
              "    <tr>\n",
              "      <th>Order_Zipcode</th>\n",
              "      <td>1471.0</td>\n",
              "      <td>55149.051666</td>\n",
              "      <td>31823.568132</td>\n",
              "      <td>1453.000000</td>\n",
              "      <td>23877.500000</td>\n",
              "      <td>60174.000000</td>\n",
              "      <td>90004.000000</td>\n",
              "      <td>99301.000000</td>\n",
              "    </tr>\n",
              "    <tr>\n",
              "      <th>Product_Card_Id</th>\n",
              "      <td>11943.0</td>\n",
              "      <td>553.782299</td>\n",
              "      <td>334.010498</td>\n",
              "      <td>19.000000</td>\n",
              "      <td>365.000000</td>\n",
              "      <td>403.000000</td>\n",
              "      <td>627.000000</td>\n",
              "      <td>1363.000000</td>\n",
              "    </tr>\n",
              "    <tr>\n",
              "      <th>Product_Category_Id</th>\n",
              "      <td>11943.0</td>\n",
              "      <td>26.108683</td>\n",
              "      <td>16.538863</td>\n",
              "      <td>2.000000</td>\n",
              "      <td>17.000000</td>\n",
              "      <td>24.000000</td>\n",
              "      <td>29.000000</td>\n",
              "      <td>76.000000</td>\n",
              "    </tr>\n",
              "    <tr>\n",
              "      <th>Product_Description</th>\n",
              "      <td>0.0</td>\n",
              "      <td>NaN</td>\n",
              "      <td>NaN</td>\n",
              "      <td>NaN</td>\n",
              "      <td>NaN</td>\n",
              "      <td>NaN</td>\n",
              "      <td>NaN</td>\n",
              "      <td>NaN</td>\n",
              "    </tr>\n",
              "    <tr>\n",
              "      <th>Product_Price</th>\n",
              "      <td>11943.0</td>\n",
              "      <td>118.653255</td>\n",
              "      <td>130.234442</td>\n",
              "      <td>11.290000</td>\n",
              "      <td>50.000000</td>\n",
              "      <td>59.990002</td>\n",
              "      <td>129.990005</td>\n",
              "      <td>1500.000000</td>\n",
              "    </tr>\n",
              "    <tr>\n",
              "      <th>Product_Status</th>\n",
              "      <td>11943.0</td>\n",
              "      <td>0.000000</td>\n",
              "      <td>0.000000</td>\n",
              "      <td>0.000000</td>\n",
              "      <td>0.000000</td>\n",
              "      <td>0.000000</td>\n",
              "      <td>0.000000</td>\n",
              "      <td>0.000000</td>\n",
              "    </tr>\n",
              "  </tbody>\n",
              "</table>\n",
              "</div>\n",
              "      <button class=\"colab-df-convert\" onclick=\"convertToInteractive('df-f0aafebf-3cf8-4f44-b151-f0da8d96a68f')\"\n",
              "              title=\"Convert this dataframe to an interactive table.\"\n",
              "              style=\"display:none;\">\n",
              "        \n",
              "  <svg xmlns=\"http://www.w3.org/2000/svg\" height=\"24px\"viewBox=\"0 0 24 24\"\n",
              "       width=\"24px\">\n",
              "    <path d=\"M0 0h24v24H0V0z\" fill=\"none\"/>\n",
              "    <path d=\"M18.56 5.44l.94 2.06.94-2.06 2.06-.94-2.06-.94-.94-2.06-.94 2.06-2.06.94zm-11 1L8.5 8.5l.94-2.06 2.06-.94-2.06-.94L8.5 2.5l-.94 2.06-2.06.94zm10 10l.94 2.06.94-2.06 2.06-.94-2.06-.94-.94-2.06-.94 2.06-2.06.94z\"/><path d=\"M17.41 7.96l-1.37-1.37c-.4-.4-.92-.59-1.43-.59-.52 0-1.04.2-1.43.59L10.3 9.45l-7.72 7.72c-.78.78-.78 2.05 0 2.83L4 21.41c.39.39.9.59 1.41.59.51 0 1.02-.2 1.41-.59l7.78-7.78 2.81-2.81c.8-.78.8-2.07 0-2.86zM5.41 20L4 18.59l7.72-7.72 1.47 1.35L5.41 20z\"/>\n",
              "  </svg>\n",
              "      </button>\n",
              "      \n",
              "  <style>\n",
              "    .colab-df-container {\n",
              "      display:flex;\n",
              "      flex-wrap:wrap;\n",
              "      gap: 12px;\n",
              "    }\n",
              "\n",
              "    .colab-df-convert {\n",
              "      background-color: #E8F0FE;\n",
              "      border: none;\n",
              "      border-radius: 50%;\n",
              "      cursor: pointer;\n",
              "      display: none;\n",
              "      fill: #1967D2;\n",
              "      height: 32px;\n",
              "      padding: 0 0 0 0;\n",
              "      width: 32px;\n",
              "    }\n",
              "\n",
              "    .colab-df-convert:hover {\n",
              "      background-color: #E2EBFA;\n",
              "      box-shadow: 0px 1px 2px rgba(60, 64, 67, 0.3), 0px 1px 3px 1px rgba(60, 64, 67, 0.15);\n",
              "      fill: #174EA6;\n",
              "    }\n",
              "\n",
              "    [theme=dark] .colab-df-convert {\n",
              "      background-color: #3B4455;\n",
              "      fill: #D2E3FC;\n",
              "    }\n",
              "\n",
              "    [theme=dark] .colab-df-convert:hover {\n",
              "      background-color: #434B5C;\n",
              "      box-shadow: 0px 1px 3px 1px rgba(0, 0, 0, 0.15);\n",
              "      filter: drop-shadow(0px 1px 2px rgba(0, 0, 0, 0.3));\n",
              "      fill: #FFFFFF;\n",
              "    }\n",
              "  </style>\n",
              "\n",
              "      <script>\n",
              "        const buttonEl =\n",
              "          document.querySelector('#df-f0aafebf-3cf8-4f44-b151-f0da8d96a68f button.colab-df-convert');\n",
              "        buttonEl.style.display =\n",
              "          google.colab.kernel.accessAllowed ? 'block' : 'none';\n",
              "\n",
              "        async function convertToInteractive(key) {\n",
              "          const element = document.querySelector('#df-f0aafebf-3cf8-4f44-b151-f0da8d96a68f');\n",
              "          const dataTable =\n",
              "            await google.colab.kernel.invokeFunction('convertToInteractive',\n",
              "                                                     [key], {});\n",
              "          if (!dataTable) return;\n",
              "\n",
              "          const docLinkHtml = 'Like what you see? Visit the ' +\n",
              "            '<a target=\"_blank\" href=https://colab.research.google.com/notebooks/data_table.ipynb>data table notebook</a>'\n",
              "            + ' to learn more about interactive tables.';\n",
              "          element.innerHTML = '';\n",
              "          dataTable['output_type'] = 'display_data';\n",
              "          await google.colab.output.renderOutput(dataTable, element);\n",
              "          const docLink = document.createElement('div');\n",
              "          docLink.innerHTML = docLinkHtml;\n",
              "          element.appendChild(docLink);\n",
              "        }\n",
              "      </script>\n",
              "    </div>\n",
              "  </div>\n",
              "  "
            ],
            "text/plain": [
              "                                 count          mean           std  \\\n",
              "Days_for_shipping_(real)       11943.0      3.654442      1.545516   \n",
              "Days_for_shipment_(scheduled)  11943.0      3.085322      1.251830   \n",
              "Benefit_per_order              11943.0     21.582287    110.543832   \n",
              "Sales_per_customer             11943.0    181.839720    120.686932   \n",
              "Late_delivery_risk             11943.0      0.539228      0.498480   \n",
              "Category_Id                    11943.0     26.108683     16.538863   \n",
              "Customer_Id                    11943.0   7069.821318   4542.817232   \n",
              "Customer_Zipcode               11943.0  29283.193754  36684.605594   \n",
              "Department_Id                  11943.0      4.579335      1.612280   \n",
              "Latitude                       11943.0     27.513113      9.865790   \n",
              "Longitude                      11943.0    -81.497745     21.063133   \n",
              "Order_Customer_Id              11943.0   7069.821318   4542.817232   \n",
              "Order_Id                       11943.0  36108.654693  21577.612697   \n",
              "Order_Item_Cardprod_Id         11943.0    553.782299    334.010498   \n",
              "Order_Item_Discount            11943.0     20.922142     22.255595   \n",
              "Order_Item_Discount_Rate       11943.0      0.103250      0.070626   \n",
              "Order_Item_Id                  11943.0  89725.873985  53008.986144   \n",
              "Order_Item_Product_Price       11943.0    118.653255    130.234442   \n",
              "Order_Item_Profit_Ratio        11943.0      0.122056      0.460543   \n",
              "Order_Item_Quantity            11943.0      2.522566      1.588501   \n",
              "Sales                          11943.0    202.761600    133.627943   \n",
              "Order_Item_Total               11943.0    181.839720    120.686932   \n",
              "Order_Profit_Per_Order         11943.0     21.582287    110.543832   \n",
              "Order_Zipcode                   1471.0  55149.051666  31823.568132   \n",
              "Product_Card_Id                11943.0    553.782299    334.010498   \n",
              "Product_Category_Id            11943.0     26.108683     16.538863   \n",
              "Product_Description                0.0           NaN           NaN   \n",
              "Product_Price                  11943.0    118.653255    130.234442   \n",
              "Product_Status                 11943.0      0.000000      0.000000   \n",
              "\n",
              "                                       min           25%           50%  \\\n",
              "Days_for_shipping_(real)          0.000000      2.000000      4.000000   \n",
              "Days_for_shipment_(scheduled)     0.000000      2.000000      4.000000   \n",
              "Benefit_per_order             -3366.000000      6.835000     30.740000   \n",
              "Sales_per_customer                8.470000    100.099998    155.160004   \n",
              "Late_delivery_risk                0.000000      0.000000      1.000000   \n",
              "Category_Id                       2.000000     17.000000     24.000000   \n",
              "Customer_Id                       1.000000   3420.500000   6746.000000   \n",
              "Customer_Zipcode                603.000000    725.000000    957.000000   \n",
              "Department_Id                     2.000000      4.000000      4.000000   \n",
              "Latitude                         17.982491     18.250216     21.305620   \n",
              "Longitude                      -158.025986    -90.678600    -70.668617   \n",
              "Order_Customer_Id                 1.000000   3420.500000   6746.000000   \n",
              "Order_Id                         12.000000  18017.500000  34102.000000   \n",
              "Order_Item_Cardprod_Id           19.000000    365.000000    403.000000   \n",
              "Order_Item_Discount               0.000000      5.500000     14.400000   \n",
              "Order_Item_Discount_Rate          0.000000      0.040000      0.100000   \n",
              "Order_Item_Id                    35.000000  45024.500000  85121.000000   \n",
              "Order_Item_Product_Price         11.290000     50.000000     59.990002   \n",
              "Order_Item_Profit_Ratio          -2.750000      0.080000      0.270000   \n",
              "Order_Item_Quantity               1.000000      1.000000      2.000000   \n",
              "Sales                            11.290000    119.980003    179.970001   \n",
              "Order_Item_Total                  8.470000    100.099998    155.160004   \n",
              "Order_Profit_Per_Order        -3366.000000      6.835000     30.740000   \n",
              "Order_Zipcode                  1453.000000  23877.500000  60174.000000   \n",
              "Product_Card_Id                  19.000000    365.000000    403.000000   \n",
              "Product_Category_Id               2.000000     17.000000     24.000000   \n",
              "Product_Description                    NaN           NaN           NaN   \n",
              "Product_Price                    11.290000     50.000000     59.990002   \n",
              "Product_Status                    0.000000      0.000000      0.000000   \n",
              "\n",
              "                                         75%            max  \n",
              "Days_for_shipping_(real)            5.000000       6.000000  \n",
              "Days_for_shipment_(scheduled)       4.000000       4.000000  \n",
              "Benefit_per_order                  64.940002     614.250000  \n",
              "Sales_per_customer                251.970001    1485.000000  \n",
              "Late_delivery_risk                  1.000000       1.000000  \n",
              "Category_Id                        29.000000      76.000000  \n",
              "Customer_Id                     10080.000000   20755.000000  \n",
              "Customer_Zipcode                60649.000000   98632.000000  \n",
              "Department_Id                       5.000000      12.000000  \n",
              "Latitude                           37.304783      48.781933  \n",
              "Longitude                         -66.370552     115.049789  \n",
              "Order_Customer_Id               10080.000000   20755.000000  \n",
              "Order_Id                        53958.000000   77202.000000  \n",
              "Order_Item_Cardprod_Id            627.000000    1363.000000  \n",
              "Order_Item_Discount                29.990000     375.000000  \n",
              "Order_Item_Discount_Rate            0.160000       0.250000  \n",
              "Order_Item_Id                  134911.000000  180517.000000  \n",
              "Order_Item_Product_Price          129.990005    1500.000000  \n",
              "Order_Item_Profit_Ratio             0.360000       0.500000  \n",
              "Order_Item_Quantity                 4.000000       5.000000  \n",
              "Sales                             299.950012    1500.000000  \n",
              "Order_Item_Total                  251.970001    1485.000000  \n",
              "Order_Profit_Per_Order             64.940002     614.250000  \n",
              "Order_Zipcode                   90004.000000   99301.000000  \n",
              "Product_Card_Id                   627.000000    1363.000000  \n",
              "Product_Category_Id                29.000000      76.000000  \n",
              "Product_Description                      NaN            NaN  \n",
              "Product_Price                     129.990005    1500.000000  \n",
              "Product_Status                      0.000000       0.000000  "
            ]
          },
          "execution_count": 10,
          "metadata": {},
          "output_type": "execute_result"
        }
      ],
      "source": [
        "df.describe().T"
      ]
    },
    {
      "cell_type": "markdown",
      "metadata": {
        "id": "zMaXggX-xGj3"
      },
      "source": [
        "The above table shows descriptive statistics for numerical variables in our dataset."
      ]
    },
    {
      "cell_type": "markdown",
      "metadata": {
        "id": "VlKTxrzKkXsx"
      },
      "source": [
        "### Calculating and printing mode for categorical variables:"
      ]
    },
    {
      "cell_type": "code",
      "execution_count": null,
      "metadata": {
        "colab": {
          "base_uri": "https://localhost:8080/"
        },
        "id": "5rAfx9WmkaHI",
        "outputId": "489c5daf-2a0a-4bf2-cd86-51e19a63d898"
      },
      "outputs": [
        {
          "name": "stdout",
          "output_type": "stream",
          "text": [
            "0    Type mode: DEBIT\n",
            "Name: Type, dtype: object\n",
            "0    Delivery_Status mode: Late delivery\n",
            "Name: Delivery_Status, dtype: object\n",
            "0    Category_Name mode: Cleats\n",
            "Name: Category_Name, dtype: object\n",
            "0    Customer_City mode: Caguas\n",
            "Name: Customer_City, dtype: object\n",
            "0    Customer_Country mode: Puerto Rico\n",
            "Name: Customer_Country, dtype: object\n",
            "0    Customer_Email mode: XXXXXXXXX\n",
            "Name: Customer_Email, dtype: object\n",
            "0    Customer_Fname mode: Mary\n",
            "Name: Customer_Fname, dtype: object\n",
            "0    Customer_Lname mode: Smith\n",
            "Name: Customer_Lname, dtype: object\n",
            "0    Customer_Password mode: XXXXXXXXX\n",
            "Name: Customer_Password, dtype: object\n",
            "0    Customer_Segment mode: Consumer\n",
            "Name: Customer_Segment, dtype: object\n",
            "0    Customer_State mode: PR\n",
            "Name: Customer_State, dtype: object\n",
            "0    Customer_Street mode: 398 Emerald Grove\n",
            "Name: Customer_Street, dtype: object\n",
            "0    Department_Name mode: Apparel\n",
            "Name: Department_Name, dtype: object\n",
            "0    Market mode: Europe\n",
            "Name: Market, dtype: object\n",
            "0    Order_City mode: Santo Domingo\n",
            "Name: Order_City, dtype: object\n",
            "0    Order_Country mode: Estados Unidos\n",
            "Name: Order_Country, dtype: object\n",
            "0     order_date_(DateOrders) mode: 1/11/2017 17:21\n",
            "1      order_date_(DateOrders) mode: 1/13/2016 2:27\n",
            "2      order_date_(DateOrders) mode: 1/19/2017 2:58\n",
            "3     order_date_(DateOrders) mode: 1/28/2017 22:45\n",
            "4      order_date_(DateOrders) mode: 1/5/2015 11:12\n",
            "                          ...                      \n",
            "57     order_date_(DateOrders) mode: 9/29/2015 9:36\n",
            "58    order_date_(DateOrders) mode: 9/29/2016 22:24\n",
            "59      order_date_(DateOrders) mode: 9/4/2017 2:18\n",
            "60      order_date_(DateOrders) mode: 9/6/2016 5:26\n",
            "61     order_date_(DateOrders) mode: 9/6/2017 12:28\n",
            "Name: order_date_(DateOrders), Length: 62, dtype: object\n",
            "0    Order_Region mode: Western Europe\n",
            "Name: Order_Region, dtype: object\n",
            "0    Order_State mode: Inglaterra\n",
            "Name: Order_State, dtype: object\n",
            "0    Order_Status mode: COMPLETE\n",
            "Name: Order_Status, dtype: object\n",
            "0    Product_Image mode: http://images.acmesports.s...\n",
            "Name: Product_Image, dtype: object\n",
            "0    Product_Name mode: Perfect Fitness Perfect Rip...\n",
            "Name: Product_Name, dtype: object\n",
            "0    shipping_date_(DateOrders) mode: 12/10/2015 20:43\n",
            "1      shipping_date_(DateOrders) mode: 3/15/2017 6:35\n",
            "2      shipping_date_(DateOrders) mode: 4/13/2017 9:10\n",
            "3       shipping_date_(DateOrders) mode: 9/1/2017 0:44\n",
            "Name: shipping_date_(DateOrders), dtype: object\n",
            "0    Shipping_Mode mode: Standard Class\n",
            "Name: Shipping_Mode, dtype: object\n"
          ]
        }
      ],
      "source": [
        "def mode(list_of_nums):\n",
        "    average = list_of_nums.mode()\n",
        "    return average\n",
        "\n",
        "categorical_var = list(df.select_dtypes(include=object).columns)\n",
        "\n",
        "#printing mode of categorical variables\n",
        "for item in categorical_var:\n",
        "    print(item + \" mode: \"+ mode(df[item]))\n",
        "    "
      ]
    },
    {
      "cell_type": "markdown",
      "metadata": {
        "id": "4E_0E538xPV5"
      },
      "source": [
        "Above result shows the mode of each categorical columns in the dataset."
      ]
    },
    {
      "cell_type": "markdown",
      "metadata": {
        "id": "75J4pYBxlnRd"
      },
      "source": [
        "###Checking if any cells has missing values\n"
      ]
    },
    {
      "cell_type": "code",
      "execution_count": null,
      "metadata": {
        "colab": {
          "base_uri": "https://localhost:8080/"
        },
        "id": "j4JEJZTjlpsM",
        "outputId": "9d2f5357-e5e8-4bfc-83ca-caa0392973a8"
      },
      "outputs": [
        {
          "data": {
            "text/plain": [
              "Type                                 0\n",
              "Days_for_shipping_(real)             0\n",
              "Days_for_shipment_(scheduled)        0\n",
              "Benefit_per_order                    0\n",
              "Sales_per_customer                   0\n",
              "Delivery_Status                      0\n",
              "Late_delivery_risk                   0\n",
              "Category_Id                          0\n",
              "Category_Name                        0\n",
              "Customer_City                        0\n",
              "Customer_Country                     0\n",
              "Customer_Email                       0\n",
              "Customer_Fname                       0\n",
              "Customer_Id                          0\n",
              "Customer_Lname                       0\n",
              "Customer_Password                    0\n",
              "Customer_Segment                     0\n",
              "Customer_State                       0\n",
              "Customer_Street                      0\n",
              "Customer_Zipcode                     0\n",
              "Department_Id                        0\n",
              "Department_Name                      0\n",
              "Latitude                             0\n",
              "Longitude                            0\n",
              "Market                               0\n",
              "Order_City                           0\n",
              "Order_Country                        0\n",
              "Order_Customer_Id                    0\n",
              "order_date_(DateOrders)              0\n",
              "Order_Id                             0\n",
              "Order_Item_Cardprod_Id               0\n",
              "Order_Item_Discount                  0\n",
              "Order_Item_Discount_Rate             0\n",
              "Order_Item_Id                        0\n",
              "Order_Item_Product_Price             0\n",
              "Order_Item_Profit_Ratio              0\n",
              "Order_Item_Quantity                  0\n",
              "Sales                                0\n",
              "Order_Item_Total                     0\n",
              "Order_Profit_Per_Order               0\n",
              "Order_Region                         0\n",
              "Order_State                          0\n",
              "Order_Status                         0\n",
              "Order_Zipcode                    10472\n",
              "Product_Card_Id                      0\n",
              "Product_Category_Id                  0\n",
              "Product_Description              11943\n",
              "Product_Image                        0\n",
              "Product_Name                         0\n",
              "Product_Price                        0\n",
              "Product_Status                       0\n",
              "shipping_date_(DateOrders)           1\n",
              "Shipping_Mode                        1\n",
              "dtype: int64"
            ]
          },
          "execution_count": 12,
          "metadata": {},
          "output_type": "execute_result"
        }
      ],
      "source": [
        "df.isnull().sum()"
      ]
    },
    {
      "cell_type": "markdown",
      "metadata": {
        "id": "mHqwc1t6xfWr"
      },
      "source": [
        "Above code checks whether there are any empty/blank cells in the dataset. As we can see, there are some empty cells in the **Customer_Zipcode, Order_Zipcode,Customer_Lname, and Product_Description** Collums "
      ]
    },
    {
      "cell_type": "code",
      "execution_count": null,
      "metadata": {
        "id": "gFl9OplzqRMl"
      },
      "outputs": [],
      "source": [
        "df['Order_Zipcode'].replace(np.nan, '0',inplace=True)\n",
        "df['Product_Description'].replace(np.nan, '0',inplace=True)\n",
        "df['Customer_Zipcode'].replace(np.nan, '0',inplace=True)\n",
        "df['Customer_Lname'].replace(np.nan, '0',inplace=True)\n",
        "df['Product_Image'].replace(np.nan, '0',inplace=True)\n",
        "df['Product_Image'].replace(np.nan, '0',inplace=True)\n",
        "df['Product_Name'].replace(np.nan, '0',inplace=True)\n",
        "df['Product_Price'].replace(np.nan, '0',inplace=True)\n",
        "df['Product_Status'].replace(np.nan, '0',inplace=True)\n",
        "df['shipping_date_(DateOrders)'].replace(np.nan, '0',inplace=True)\n",
        "df['Shipping_Mode'].replace(np.nan, '0',inplace=True)\n",
        "df['Product_Card_Id'].replace(np.nan, '0',inplace=True)\n",
        "df['Product_Category_Id'].replace(np.nan, '0',inplace=True)\n",
        "df['Order_Item_Profit_Ratio'].replace(np.nan, '0',inplace=True)\n",
        "df['Order_Item_Quantity'].replace(np.nan, '0',inplace=True)\n",
        "df['Sales'].replace(np.nan, '0',inplace=True)\n",
        "df['Order_Item_Total'].replace(np.nan, '0',inplace=True)\n",
        "df['Order_Profit_Per_Order'].replace(np.nan, '0',inplace=True)\n",
        "df['Order_Region'].replace(np.nan, '0',inplace=True)\n",
        "df['Order_State'].replace(np.nan, '0',inplace=True)\n",
        "df['Order_Status'].replace(np.nan, '0',inplace=True)\n",
        "\n"
      ]
    },
    {
      "cell_type": "code",
      "execution_count": null,
      "metadata": {
        "colab": {
          "base_uri": "https://localhost:8080/"
        },
        "id": "ncpU129SqdFP",
        "outputId": "d555a81e-4be8-43fc-a7df-1cb151f4aab6"
      },
      "outputs": [
        {
          "data": {
            "text/plain": [
              "Type                             0\n",
              "Days_for_shipping_(real)         0\n",
              "Days_for_shipment_(scheduled)    0\n",
              "Benefit_per_order                0\n",
              "Sales_per_customer               0\n",
              "Delivery_Status                  0\n",
              "Late_delivery_risk               0\n",
              "Category_Id                      0\n",
              "Category_Name                    0\n",
              "Customer_City                    0\n",
              "Customer_Country                 0\n",
              "Customer_Email                   0\n",
              "Customer_Fname                   0\n",
              "Customer_Id                      0\n",
              "Customer_Lname                   0\n",
              "Customer_Password                0\n",
              "Customer_Segment                 0\n",
              "Customer_State                   0\n",
              "Customer_Street                  0\n",
              "Customer_Zipcode                 0\n",
              "Department_Id                    0\n",
              "Department_Name                  0\n",
              "Latitude                         0\n",
              "Longitude                        0\n",
              "Market                           0\n",
              "Order_City                       0\n",
              "Order_Country                    0\n",
              "Order_Customer_Id                0\n",
              "order_date_(DateOrders)          0\n",
              "Order_Id                         0\n",
              "Order_Item_Cardprod_Id           0\n",
              "Order_Item_Discount              0\n",
              "Order_Item_Discount_Rate         0\n",
              "Order_Item_Id                    0\n",
              "Order_Item_Product_Price         0\n",
              "Order_Item_Profit_Ratio          0\n",
              "Order_Item_Quantity              0\n",
              "Sales                            0\n",
              "Order_Item_Total                 0\n",
              "Order_Profit_Per_Order           0\n",
              "Order_Region                     0\n",
              "Order_State                      0\n",
              "Order_Status                     0\n",
              "Order_Zipcode                    0\n",
              "Product_Card_Id                  0\n",
              "Product_Category_Id              0\n",
              "Product_Description              0\n",
              "Product_Image                    0\n",
              "Product_Name                     0\n",
              "Product_Price                    0\n",
              "Product_Status                   0\n",
              "shipping_date_(DateOrders)       0\n",
              "Shipping_Mode                    0\n",
              "dtype: int64"
            ]
          },
          "execution_count": 14,
          "metadata": {},
          "output_type": "execute_result"
        }
      ],
      "source": [
        "df.isnull().sum()"
      ]
    },
    {
      "cell_type": "markdown",
      "metadata": {
        "id": "kSHVtqkCx5Fk"
      },
      "source": [
        "Checking again after the change was made and we are all good."
      ]
    },
    {
      "cell_type": "markdown",
      "metadata": {
        "id": "7T3OlFT0mgqP"
      },
      "source": [
        "### Now, we will be determining different attributes for categorical variables"
      ]
    },
    {
      "cell_type": "code",
      "execution_count": null,
      "metadata": {
        "colab": {
          "base_uri": "https://localhost:8080/"
        },
        "id": "7XJ7ouNrlrAB",
        "outputId": "034ce84b-cd61-4313-a539-619b1a330be7"
      },
      "outputs": [
        {
          "name": "stdout",
          "output_type": "stream",
          "text": [
            "Type:\n",
            "['DEBIT' 'TRANSFER' 'CASH' 'PAYMENT']\n",
            "Delivery_Status:\n",
            "['Advance shipping' 'Late delivery' 'Shipping on time' 'Shipping canceled']\n",
            "Category_Name:\n",
            "['Sporting Goods' 'Cleats' 'Shop By Sport' \"Women's Apparel\" 'Electronics'\n",
            " 'Boxing & MMA' 'Cardio Equipment' 'Trade-In' \"Kids' Golf Clubs\"\n",
            " 'Hunting & Shooting' 'Baseball & Softball' \"Men's Footwear\"\n",
            " 'Camping & Hiking' 'Consumer Electronics' 'Cameras ' 'Computers'\n",
            " 'Basketball' 'Soccer' \"Girls' Apparel\" 'Accessories' \"Women's Clothing\"\n",
            " 'Crafts' \"Men's Clothing\" 'Tennis & Racquet' 'Fitness Accessories'\n",
            " 'As Seen on  TV!' 'Golf Balls' 'Strength Training' \"Children's Clothing\"\n",
            " 'Lacrosse' 'Baby ' 'Fishing' 'Books ' 'DVDs' 'CDs ' 'Garden' 'Hockey'\n",
            " 'Pet Supplies' 'Health and Beauty' 'Music' 'Video Games']\n",
            "Customer_City:\n",
            "['Caguas' 'San Jose' 'Los Angeles' 'Tonawanda' 'Miami' 'San Ramon'\n",
            " 'Freeport' 'Salinas' 'Peabody' 'Canovanas' 'Paramount' 'Mount Prospect'\n",
            " 'Long Beach' 'Rancho Cordova' 'Billings' 'Wilkes Barre' 'Roseville'\n",
            " 'Bellflower' 'Wheaton' 'Detroit' 'Dallas' 'Carlisle' 'Newark'\n",
            " 'Panorama City' 'Atlanta' 'Fremont' 'Rochester' 'Bayamon' 'Guayama'\n",
            " 'Juana Diaz' 'Fort Washington' 'Bakersfield' 'Corona' 'Cincinnati'\n",
            " 'Germantown' 'Carrollton' 'Houston' 'Ewa Beach' 'Lakewood' 'Rome' 'Vista'\n",
            " 'Fort Worth' 'Fond Du Lac' 'Philadelphia' 'Ontario' 'Oviedo' 'Buffalo'\n",
            " 'Honolulu' 'Oceanside' 'North Tonawanda' 'Clovis' 'Jamaica'\n",
            " 'Granite City' 'Medford' 'Pomona' 'Tempe' 'Santa Ana' 'York' 'Aurora'\n",
            " 'Simi Valley' 'Silver Spring' 'Saint Paul' 'San Antonio' 'Bronx'\n",
            " 'Greenville' 'Morristown' 'San Diego' 'Oxnard' 'Albuquerque' 'Amarillo'\n",
            " 'Lutz' 'Bend' 'East Brunswick' 'Lancaster' 'Hampton' 'New York'\n",
            " 'Porterville' 'Portland' 'Strongsville' 'El Paso' 'Del Rio' 'Bountiful'\n",
            " 'Kent' 'Chicago' 'Plymouth' 'Far Rockaway' 'Garden Grove' 'Placentia'\n",
            " 'Mentor' 'Santa Clara' 'Union' 'Westminster' 'Pompano Beach' 'Azusa'\n",
            " 'Fort Lauderdale' 'Princeton' 'Perth Amboy' 'Loveland' 'Virginia Beach'\n",
            " 'Louisville' 'Lockport' 'Staten Island' 'Tucson' 'Cleveland' 'Webster'\n",
            " 'Stockton' 'Martinsburg' 'Cumberland' 'Pekin' 'Tallahassee'\n",
            " 'Jacksonville' 'Woonsocket' 'Lithonia' 'Oak Lawn' 'Alhambra' 'New Haven'\n",
            " 'Phoenix' 'Kenner' 'Washington' 'Holland' 'Morrisville' 'Memphis'\n",
            " 'Federal Way' 'West Covina' 'Ventura' 'Valrico' 'Kaneohe' 'Brooklyn'\n",
            " 'Lodi' 'Murfreesboro' 'Carlsbad' 'Hamilton' 'Hayward' 'Bridgeton'\n",
            " 'Bay Shore' 'Palatine' 'Smyrna' 'Van Nuys' 'Opa Locka' 'Edison' 'Baytown'\n",
            " 'Sylmar' 'Burnsville' 'Huntington Station' 'Sunnyvale' 'Sugar Land'\n",
            " 'Brighton' 'Bismarck' 'Gaithersburg' 'Lilburn' 'Provo' 'Columbia'\n",
            " 'Marietta' 'Rio Grande' 'Denver' 'Taylor' 'Saint Charles' 'Cupertino'\n",
            " 'Springfield' 'Mission Viejo' 'Roswell' 'Ypsilanti' 'Peoria' 'Clementon'\n",
            " 'Antioch' 'Salt Lake City' 'Granada Hills' 'Hempstead' 'Astoria' 'Gilroy'\n",
            " 'Lenoir' 'Columbus' 'Albany' 'Humacao' 'Lindenhurst' 'Elyria' 'Riverside'\n",
            " 'Carson' 'Mesa' 'San Juan' 'Vega Baja' 'Mayaguez' 'Arecibo'\n",
            " 'San Sebastian' 'Eugene' 'Algonquin' 'Indianapolis' 'Buena Park'\n",
            " 'Catonsville' 'Jersey City' 'Lombard' 'New Bedford' 'Newburgh' 'Lansdale'\n",
            " 'Baltimore' 'Fullerton' 'Sacramento' 'Greensboro' 'Roseburg' 'Modesto'\n",
            " 'Encinitas' 'Watsonville' 'Meridian' 'Endicott' 'Katy' 'Visalia' 'Lompoc'\n",
            " 'Ogden' 'Raleigh' 'Hacienda Heights' 'Union City' 'Hollywood'\n",
            " 'Bolingbrook' 'West Lafayette' 'Woodbridge' 'Weslaco' 'Bell Gardens'\n",
            " 'La Mirada' 'North Bergen' 'Madison' 'South San Francisco'\n",
            " 'North Las Vegas' 'Methuen' 'Costa Mesa' 'Glen Burnie' 'Fairfield'\n",
            " 'Winnetka' 'Mcallen' 'Joliet' 'Brownsville' 'Pawtucket'\n",
            " 'Colorado Springs' 'Quincy' 'Pittsfield' 'Chino' 'Marion' 'North Hills'\n",
            " 'Salina' 'Hyattsville' 'North Richland Hills' 'Spring Valley' 'Lawrence'\n",
            " 'Milpitas' 'Rowland Heights' 'Gardena' 'Cicero' 'Asheboro' 'La Crosse'\n",
            " 'Florissant' 'Canyon Country' 'Ithaca' 'Allentown' 'Escondido' 'Martinez'\n",
            " 'Troy' 'Arlington' 'Davis' 'Chandler' 'Elgin' 'Palmdale' 'Massapequa'\n",
            " 'Pittsburg' 'West New York' 'Orlando' 'Hanover' 'Glendale' 'Enfield'\n",
            " 'Baldwin Park' 'Chino Hills' 'Toms River' 'Wyandotte' 'Mililani' 'Harvey'\n",
            " 'Mechanicsburg' 'Opelousas' 'Kailua' 'Norfolk' 'Elmhurst' 'Chillicothe'\n",
            " 'Canoga Park' 'Jackson' 'Moreno Valley' 'New Orleans' 'San Benito'\n",
            " 'New Castle' 'Bloomfield' 'Cypress' 'Marrero' 'Grand Prairie' 'Greeley'\n",
            " 'Littleton' 'Longmont' 'Chesapeake' 'Englewood' 'Arlington Heights'\n",
            " 'Tampa' 'Irvington' 'Forest Hills' 'Dearborn' 'Compton' 'Garland'\n",
            " 'Waipahu' 'Carmichael' 'Tustin' 'Anaheim' 'Canton' 'Stafford'\n",
            " 'South Richmond Hill' 'Middletown' 'West Orange' 'Daly City'\n",
            " 'Powder Springs' 'Parkville' 'Hialeah' 'Beloit' 'Aguadilla' 'Carolina'\n",
            " 'Yauco' 'Saint Peters' 'Augusta' 'Chapel Hill' 'East Lansing' 'Stamford'\n",
            " 'Diamond Bar' 'Milwaukee' 'Lawrenceville' 'Manchester' 'La Puente'\n",
            " 'Victorville' 'Richmond' 'Eagle Pass' 'Fontana' 'Ballwin' 'New Braunfels'\n",
            " 'Las Vegas' 'Goose Creek' 'Pharr' 'Yonkers' 'El Monte' 'Reynoldsburg'\n",
            " 'Hamtramck' 'Medina' 'Highland' 'Jonesboro' 'Elk Grove' 'Montebello'\n",
            " 'San Francisco' 'Glenview' 'Rock Hill' 'Austin' 'Scottsdale' 'Santa Cruz'\n",
            " 'Oregon City' 'Annandale' 'Plano' 'Piscataway' 'El Cajon' 'Hilliard'\n",
            " 'Orange Park' 'Decatur' 'San Pablo' 'Douglasville' 'Henderson'\n",
            " 'College Station' 'Round Rock' 'Mesquite' 'Broken Arrow' 'Redmond'\n",
            " 'Findlay' 'La Habra' 'Laguna Hills' 'San Bernardino' 'Apex'\n",
            " 'South El Monte' 'Irving' 'Blacksburg' 'Dorchester Center' 'Potomac'\n",
            " 'Winter Park' 'Stone Mountain' 'Goleta' 'Hagerstown' 'Alameda'\n",
            " 'Saint Louis' 'Pico Rivera' 'Chula Vista' 'Hollister' 'North Hollywood'\n",
            " 'New Brunswick' 'Beaverton' 'Chicago Heights' 'Hesperia' 'Cary' 'Sanford'\n",
            " 'Laredo' 'Westland' 'Stockbridge' 'Carol Stream' 'Wichita' 'Olathe'\n",
            " 'Flushing' 'Lynwood' 'Revere' 'Westerville' 'Cordova' 'Hanford' 'Rialto'\n",
            " 'Mchenry' 'Mission' 'Salem' 'Duluth' 'Danbury' 'Frankfort' 'Upland'\n",
            " 'Rosemead' 'Mount Pleasant' 'Lake Forest' 'West Chester' 'Woodside'\n",
            " 'Norcross' 'Fresno' 'Zanesville' 'Painesville' 'Lynnwood' 'Massillon'\n",
            " 'Crystal Lake' 'Rego Park' 'Ann Arbor' 'Wyoming' 'La Mesa' 'Edinburg'\n",
            " 'Howell' 'Michigan City' 'Sheboygan' 'Moline' 'Yuma' 'Campbell'\n",
            " 'Charlotte' 'Oakland' 'San Marcos' 'Walnut' 'Harlingen' 'Rio Rancho'\n",
            " 'Nashville' 'Annapolis' 'Laguna Niguel' 'Santee' 'West Jordan' 'Hickory'\n",
            " 'Manati' 'Trujillo Alto' 'Ponce' 'Toa Alta' 'Irwin' 'South Ozone Park'\n",
            " 'Ridgewood' 'Bowling Green' 'Richardson' 'Sun Valley' 'Huntington Beach'\n",
            " 'Fargo' 'Waukegan' 'Highland Park' 'Cerritos' 'Lewisville' 'Alpharetta'\n",
            " 'New Albany' 'Denton' 'Temecula' 'Tinley Park' 'Dundalk' 'Crown Point'\n",
            " 'Lawton' 'Fayetteville' 'Milford' 'Bartlett' 'Reno' 'Passaic' 'Reseda'\n",
            " 'Levittown' 'Wayne' 'Metairie' 'Wheeling' 'Hawthorne' 'Napa' 'Berwyn'\n",
            " 'Fountain Valley' 'Las Cruces' 'Apopka' 'Folsom' 'El Centro'\n",
            " 'Jackson Heights' 'Pacoima' 'Hendersonville' 'Clearfield' 'Seattle'\n",
            " 'Saginaw' 'Conway' 'Sandusky' 'San Pedro' 'Grove City' 'Knoxville'\n",
            " 'Huntington Park' 'Greensburg' 'Poway' 'O Fallon' 'Chambersburg' 'Normal'\n",
            " 'Lynn' 'Bensalem' 'Bristol' 'Williamsport' 'Longview' 'Norwalk' 'Bayonne'\n",
            " 'Tulare' 'National City' 'Dayton' 'Tracy' 'Summerville' 'Merced'\n",
            " 'Brockton' 'Vallejo' 'West Haven' 'Pasadena' 'South Gate' 'Warren'\n",
            " 'Clarksville' 'Muskegon' 'Brandon' 'Rancho Cucamonga' 'Santa Maria'\n",
            " 'Doylestown' 'Colton' 'Indio' 'Plainfield' 'Bellingham' 'Spring'\n",
            " 'Livermore' 'Santa Fe' 'Palo Alto' 'Henrico' 'Des Plaines' 'Birmingham'\n",
            " 'Broomfield']\n",
            "Customer_Country:\n",
            "['Puerto Rico' 'EE. UU.']\n",
            "Customer_Email:\n",
            "['XXXXXXXXX']\n",
            "Customer_Fname:\n",
            "['Cally' 'Irene' 'Gillian' 'Tana' 'Orli' 'Kimberly' 'Constance' 'Erica'\n",
            " 'Nichole' 'Oprah' 'Germane' 'Freya' 'Cassandra' 'Natalie' 'Kimberley'\n",
            " 'Sade' 'Brynne' 'Ciara' 'Bo' 'Kim' 'Kellie' 'Alma' 'Yeo' 'Lucy' 'Simone'\n",
            " 'Roary' 'Quail' 'Hannah' 'Evelyn' 'Jael' 'Teagan' 'Joan' 'Basia'\n",
            " 'Dominique' 'Ainsley' 'Aurora' 'Libby' 'Amy' 'Ivory' 'Karina' 'Deanna'\n",
            " 'Dacey' 'Adele' 'Sybill' 'Kay' 'Stacy' 'Marah' 'Taylor' 'Mary'\n",
            " 'Elizabeth' 'Katherine' 'Dennis' 'Frances' 'Alice' 'Kyle' 'Brenda'\n",
            " 'Frank' 'Johnny' 'Austin' 'Michael' 'Vincent' 'Gregory' 'Lisa' 'Megan'\n",
            " 'Grace' 'Douglas' 'Wayne' 'Ronald' 'Tammy' 'Christina' 'Alexander'\n",
            " 'Sandra' 'Ruth' 'Lauren' 'Melissa' 'Maria' 'Eugene' 'James' 'John' 'Roy'\n",
            " 'Janet' 'Nicole' 'Sharon' 'Matthew' 'Anthony' 'Jerry' 'Laura' 'Jack'\n",
            " 'Kirestin' 'Nora' 'Jennifer' 'Madonna' 'Noelani' 'Sydnee' 'Willa' 'Ila'\n",
            " 'Belle' 'Alyssa' 'Lani' 'Demetria' 'Gay' 'Audrey' 'Riley' 'Imani'\n",
            " 'Mechelle' 'Whitney' 'Roanna' 'Vivian' 'Xantha' 'Zia' 'Mara' 'Sloane'\n",
            " 'Winifred' 'Giselle' 'Nancy' 'David' 'Patricia' 'Julie' 'Tyler' 'Karen'\n",
            " 'Shawn' 'Willie' 'Bruce' 'Mark' 'Paul' 'Walter' 'Joyce' 'Daniel' 'Pamela'\n",
            " 'Betty' 'Christian' 'Tiffany' 'Stephen' 'George' 'Samuel' 'Larry' 'Peter'\n",
            " 'Diana' 'Theresa' 'Cynthia' 'Sean' 'Jonathan' 'Christopher' 'Donald'\n",
            " 'Rana' 'William' 'Rachel' 'Dorothy' 'Robert' 'Andrea' 'Martha' 'Carolyn'\n",
            " 'Lynn' 'Julia' 'Patience' 'Cheryl' 'Timothy' 'Aimee' 'Virginia' 'Jessica'\n",
            " 'Margaret' 'Richard' 'Deborah' 'Emma' 'Adam' 'Sarah' 'Edward' 'Harry'\n",
            " 'Charles' 'Debra' 'Doris' 'Benjamin' 'Stephanie' 'Nicholas' 'Joseph'\n",
            " 'Diane' 'Andrew' 'Roger' 'Danielle' 'Patrick' 'Brandon' 'Jacqueline'\n",
            " 'Kathy' 'Rebecca' 'Jeremy' 'Amanda' 'Felicia' 'Wanda' 'Hayfa' 'Lavinia'\n",
            " 'Yetta' 'Cleo' 'Wynter' 'Hyacinth' 'Xerxes' 'Noel' 'Maryam' 'Naida'\n",
            " 'Lana' 'Rylee' 'Dakota' 'Fallon' 'Kylynn' 'Inez' 'Miriam' 'Chloe'\n",
            " 'Beverly' 'Madeline' 'Yoshi' 'Hadley' 'Renee' 'Iola' 'Tamekah' 'Cherokee'\n",
            " 'Odessa' 'Rose' 'Linda' 'May' 'Lilah' 'Emi' 'Myra' 'Medge' 'Beatrice'\n",
            " 'Ria' 'Charity' 'Nell' 'Tamara' 'Phyllis' 'Nelle' 'Blossom' 'Breanna'\n",
            " 'Katelyn' 'Karly' 'Olga' 'Brenna' 'Tatyana' 'Ifeoma' 'Kitra' 'Summer'\n",
            " 'Sopoline' 'Eliana' 'Denise' 'Hermione' 'Lara' 'Hedy' 'Violet' 'Clare'\n",
            " 'Rhonda' 'Morgan' 'Illiana' 'Amity' 'Jayme' 'Geraldine' 'Anika' 'Dana'\n",
            " 'Sybil' 'Genevieve' 'Tara' 'Ella' 'Heather' 'Brittany' 'Lori' 'Billy'\n",
            " 'Terry' 'Lawrence' 'Aaron' 'Madison' 'Jane' 'Jordan' 'Kevin' 'Octavia'\n",
            " 'Emily' 'Kelsie' 'Marie' 'Judy' 'Kenneth' 'Jaime' 'Justin' 'Harold'\n",
            " 'Ryan' 'Kelly' 'Carl' 'Teresa' 'Nathan' 'Jason' 'Steven' 'Judith' 'Sara'\n",
            " 'Marilyn' 'Kathryn' 'Ralph' 'Amber' 'Donna' 'Scott' 'Thomas' 'Catherine'\n",
            " 'Barbara' 'Joshua' 'Susan' 'Zachary' 'Janice' 'Crystal' 'Michelle'\n",
            " 'Henry' 'Anna' 'Ann' 'Jesse' 'Raymond' 'Audra' 'Cora' 'Hillary' 'Bryan'\n",
            " 'Gloria' 'Louis' 'Shirley' 'Martina' 'Delilah' 'Jacob' 'Brian' 'Victoria'\n",
            " 'Jeffrey' 'Helen' 'Gary' 'Ethan' 'Philip' 'Christine' 'Ashley' 'Jean'\n",
            " 'Eric' 'Hope' 'Unity' 'Blythe' 'Cara' 'Jorden' 'Heidi' 'Lenore' 'Aiko'\n",
            " 'Kylie' 'Moana' 'Imelda' 'Mariam' 'Rae' 'Jamalia' 'Reagan' 'Amena'\n",
            " 'Mercedes' 'Brianna' 'Xyla' 'Daria' 'Yvette' 'Ina' 'Fay' 'Destiny'\n",
            " 'Petra' 'Farrah' 'Clio' 'Leigh' 'Tallulah' 'Pearl' 'Maya' 'Kiayada'\n",
            " 'Shannon' 'Nayda' 'Charissa' 'Fatima' 'Shelley' 'Yoko' 'Olympia' 'Raya'\n",
            " 'Quyn' 'Hilary' 'Karyn' 'Germaine' 'Maile' 'Vivien' 'Raven' 'Charlotte'\n",
            " 'Zelda' 'Isabella' 'Carla' 'Aspen' 'Janna' 'Xena' 'Ocean' 'Hedwig' 'Alea'\n",
            " 'Aileen' 'Cameron' 'Cailin' 'Jeanette' 'Suki' 'Maxine' 'Sophia' 'Skyler'\n",
            " 'Yvonne' 'Penelope' 'Tatum' 'Sylvia' 'Amela' 'Keiko' 'Shana' 'Whoopi'\n",
            " 'Mira' 'Jaden' 'Pascale' 'Maris' 'Cassady' 'Quynn' 'Sage' 'Calista'\n",
            " 'Sacha' 'Daryl' 'Aphrodite' 'Olivia' 'Mallory' 'Veronica' 'Yuri' 'Joelle'\n",
            " 'Hiroko' 'Kameko' 'Hollee' 'Eden' 'Lydia' 'Azalia' 'Alika' 'Dahlia'\n",
            " 'Jenette' 'Paloma' 'Xandra' 'Mariko' 'Darryl' 'Fiona' 'Zephr' 'Uta'\n",
            " 'Wendy' 'Sierra' 'Kelsey' 'Alexis' 'September' 'McKenzie' 'Eleanor'\n",
            " 'Chastity' 'Cheyenne' 'Hanna' 'Mona' 'Mari' 'Robin' 'Samantha' 'Gerald'\n",
            " 'Kyla' 'Xaviera' 'Macy' 'Briar' 'Athena' 'Desirae' 'Maia' 'Carol'\n",
            " 'Angela' 'Carissa' 'Zena' 'Phillip' 'Bobby' 'Blair' 'Melodie' 'Keith'\n",
            " 'India' 'Nadine' 'Miranda' 'Piper' 'Charde' 'Russell' 'Isabelle'\n",
            " 'Mildred' 'Dylan' 'Albert' 'Arthur' 'Kathleen' 'Juan' 'Cathleen' 'Jose'\n",
            " 'Holly' 'Zenaida' 'Ramona' 'Zorita' 'Jocelyn' 'Alan' 'Mia' 'Justina'\n",
            " 'Rosalyn' 'Rinah' 'Remedios' 'Shay' 'Aubrey' 'Neve' 'Lacy' 'Leilani'\n",
            " 'Shelby' 'Stella' 'Camille' 'Carly' 'Teegan' 'Lareina' 'Kirby' 'Kevyn'\n",
            " 'Gisela' 'Randy' 'Willow' 'Jolie' 'Jade' 'Gwendolyn' 'Lee' 'Celeste'\n",
            " 'Noelle' 'Brynn' 'Desiree' 'Christen' 'Gemma' 'Kendall' 'Bethany'\n",
            " 'Callie' 'Ayanna' 'Zoe' 'Brooke' 'Bree' 'Adrienne' 'Nomlanga' 'Sig'\n",
            " 'Stela' 'Ulla' 'Lesley' 'TaShya' 'Illana' 'Courtney' 'Larissa' 'Juliet'\n",
            " 'Melyssa' 'Latifah' 'Angelica' 'Eve' 'Melanie' 'Montana' 'Nevada'\n",
            " 'Abigail' 'Ivy' 'Lacota' 'Stacey' 'Meghan' 'Joe' 'Howard' 'Winter'\n",
            " 'Jolene' 'Ursa' 'Camilla' 'Iris' 'Bell' 'Chanda' 'Rhiannon' 'Candice'\n",
            " 'Regan' 'Avye' 'Whilemina' 'Lisandra' 'Guinevere' 'Ivana' 'Velma' 'Rhea'\n",
            " 'Dora' 'Lael' 'Echo' 'Kyra' 'Rhoda' 'Jana' 'Minerva' 'Jenna' 'Inga'\n",
            " 'Quemby' 'Abra' 'Quincy' 'Maisie' 'Leila' 'Rossy' 'Charly' 'Iona'\n",
            " 'Ignacia' 'Marcia' 'Florence' 'Ariel' 'Yen' 'Rowan' 'Halee' 'Nita'\n",
            " 'Signe' 'Kessie' 'Maggy' 'Aretha' 'Dawn' 'Elaine' 'Meredith' 'Josephine'\n",
            " 'Maite' 'Anjolie' 'Melinda']\n",
            "Customer_Lname:\n",
            "['Holloway' 'Luna' 'Maldonado' ... 'Levine' 'Barry' 'William']\n",
            "Customer_Password:\n",
            "['XXXXXXXXX']\n",
            "Customer_Segment:\n",
            "['Consumer' 'Home Office' 'Corporate']\n",
            "Customer_State:\n",
            "['PR' 'CA' 'NY' 'FL' 'MA' 'IL' 'MT' 'PA' 'MI' 'TX' 'DE' 'GA' 'MD' 'OH'\n",
            " 'HI' 'NJ' 'WI' 'AZ' 'CO' 'MN' 'NC' 'NM' 'OR' 'SC' 'VA' 'UT' 'WA' 'KY'\n",
            " 'WV' 'RI' 'CT' 'LA' 'TN' 'DC' 'ND' 'MO' 'IN' 'ID' 'NV' 'KS' 'AR' 'OK'\n",
            " 'AL']\n",
            "Customer_Street:\n",
            "['5365 Noble Nectar Island' '2679 Rustic Loop' '8510 Round Bear Gate' ...\n",
            " '7274 Middle Wynd ' '4979 Stony Chase' '1100 Amber Turnabout']\n",
            "Department_Name:\n",
            "['Fitness' 'Apparel' 'Golf' 'Footwear' 'Outdoors' 'Fan Shop' 'Technology'\n",
            " 'Book Shop' 'Discs Shop' 'Pet Shop' 'Health and Beauty ']\n",
            "Market:\n",
            "['Pacific Asia' 'USCA' 'Africa' 'Europe' 'LATAM']\n",
            "Order_City:\n",
            "['Bekasi' 'Bikaner' 'Townsville' ... 'Echirolles' 'Saumur'\n",
            " 'Villingen-Schwenningen']\n",
            "Order_Country:\n",
            "['Indonesia' 'India' 'Australia' 'China' 'Japón' 'Corea del Sur'\n",
            " 'Singapur' 'Turquía' 'Mongolia' 'Estados Unidos' 'Nigeria'\n",
            " 'República Democrática del Congo' 'Senegal' 'Marruecos' 'Alemania'\n",
            " 'Francia' 'Países Bajos' 'Reino Unido' 'Guatemala' 'El Salvador' 'Panamá'\n",
            " 'República Dominicana' 'Venezuela' 'Colombia' 'Honduras' 'Brasil'\n",
            " 'México' 'Uruguay' 'Argentina' 'Cuba' 'Perú' 'Nicaragua' 'Ecuador'\n",
            " 'Angola' 'Sudán' 'Somalia' 'Costa de Marfil' 'Egipto' 'Italia' 'España'\n",
            " 'Suecia' 'Austria' 'Canada' 'Madagascar' 'Argelia' 'Liberia' 'Zambia'\n",
            " 'Níger' 'SudAfrica' 'Mozambique' 'Tanzania' 'Ruanda' 'Israel'\n",
            " 'Nueva Zelanda' 'Bangladés' 'Tailandia' 'Irak' 'Arabia Saudí' 'Filipinas'\n",
            " 'Kazajistán' 'Irán' 'Myanmar (Birmania)' 'Uzbekistán' 'Benín' 'Camerún'\n",
            " 'Kenia' 'Togo' 'Ucrania' 'Polonia' 'Portugal' 'Rumania'\n",
            " 'Trinidad y Tobago' 'Afganistán' 'Pakistán' 'Vietnam' 'Malasia'\n",
            " 'Finlandia' 'Rusia' 'Irlanda' 'Noruega' 'Eslovaquia' 'Bélgica' 'Bolivia'\n",
            " 'Chile' 'Jamaica' 'Yemen' 'Ghana' 'Guinea' 'Etiopía' 'Bulgaria'\n",
            " 'Kirguistán' 'Georgia' 'Nepal' 'Emiratos Árabes Unidos' 'Camboya'\n",
            " 'Uganda' 'Lesoto' 'Lituania' 'Suiza' 'Hungría' 'Dinamarca' 'Haití'\n",
            " 'Bielorrusia' 'Croacia' 'Laos' 'Baréin' 'Macedonia' 'República Checa'\n",
            " 'Sri Lanka' 'Zimbabue' 'Eritrea' 'Burkina Faso' 'Costa Rica' 'Libia'\n",
            " 'Barbados' 'Tayikistán' 'Siria' 'Guadalupe' 'Papúa Nueva Guinea'\n",
            " 'Azerbaiyán' 'Turkmenistán' 'Paraguay' 'Jordania' 'Hong Kong' 'Martinica'\n",
            " 'Moldavia' 'Qatar' 'Mali' 'Albania' 'República del Congo'\n",
            " 'Bosnia y Herzegovina' 'Omán' 'Túnez' 'Sierra Leona' 'Yibuti' 'Burundi'\n",
            " 'Montenegro' 'Gabón' 'Sudán del Sur' 'Luxemburgo']\n",
            "order_date_(DateOrders):\n",
            "['1/31/2018 22:56' '1/13/2018 12:27' '1/13/2018 12:06' ... '8/9/2015 0:02'\n",
            " '6/10/2015 18:41' '10/18/2015 12:12']\n",
            "Order_Region:\n",
            "['Southeast Asia' 'South Asia' 'Oceania' 'Eastern Asia' 'West Asia'\n",
            " 'West of USA ' 'US Center ' 'West Africa' 'Central Africa' 'North Africa'\n",
            " 'Western Europe' 'Northern Europe' 'Central America' 'Caribbean'\n",
            " 'South America' 'East Africa' 'Southern Europe' 'East of USA' 'Canada'\n",
            " 'Southern Africa' 'Central Asia' 'Eastern Europe' 'South of  USA ']\n",
            "Order_State:\n",
            "['Java Occidental' 'Rajastán' 'Queensland' 'Guangdong' 'Tokio'\n",
            " 'Célebes Septentrional' 'Maharashtra' 'Seúl' 'Madhya Pradesh' 'Victoria'\n",
            " 'Australia Occidental' 'Guangxi' 'Delhi' 'Gansu' 'Singapur' 'Karnataka'\n",
            " 'Nueva Gales del Sur' 'Sumatra Septentrional'\n",
            " 'Territorio de la Capital Australiana' 'Zhejiang' 'Uttar Pradesh' 'Bursa'\n",
            " 'Australia del Sur' 'Estambul' 'Ulán Bator' 'Washington' 'California'\n",
            " 'Kansas' 'Cross River' 'Kinshasa' 'Dakar' 'Gran Casablanca'\n",
            " 'Renania del Norte-Westfalia' 'Isla de Francia' 'Países del Loira'\n",
            " 'Groningen' 'Inglaterra' 'Alsacia-Champaña-Ardenas-Lorena'\n",
            " 'Provenza-Alpes-Costa Azul' 'Guatemala' 'San Salvador' 'Chiriquí'\n",
            " 'Santo Domingo' 'Zulia' 'Risaralda' 'Francisco Morazán' 'Bahía'\n",
            " 'Distrito Federal' 'Jalisco' 'Puebla' 'São Paulo' 'Montevideo'\n",
            " 'Buenos Aires' 'Paraná' 'Camagüey' 'Las Tunas' 'Nayarit' 'Panamá'\n",
            " 'México' 'Alagoas' 'Minas Gerais' 'Santiago de Cuba' 'Cortés'\n",
            " 'Lima (ciudad)' 'Holguín' 'Veracruz' 'Managua' 'Tabasco' 'Ceará'\n",
            " 'Isla de la Juventud' 'Chimaltenango' 'Pichincha' 'Guárico' 'Marañón'\n",
            " 'León' 'Río Negro' 'Atlántida' 'Bié' 'Jartum' 'Gobolka Woqooyi Galbeed'\n",
            " 'Garb-Chrarda-Beni Hsen' 'Lagunes' 'Ash Sharqiyah' 'Umbría' 'Bavaria'\n",
            " 'Sajonia-Anhalt' 'Bremen' 'Campania' 'Sicilia' 'Madrid' 'Cataluña'\n",
            " 'Norte-Paso de Calais-Picardía' 'Aquitania-Lemosín-Poitou-Charentes'\n",
            " 'Escocia' 'Baja Sajonia' 'País Vasco' 'Estocolmo' 'Holanda Septentrional'\n",
            " 'Viena' 'Texas' 'Arizona' 'Ohio' 'Indiana' 'Ontario' 'Pensilvania'\n",
            " 'Illinois' 'Analamanga' 'Alger' 'Montserrado' 'Fromager' 'Meridional'\n",
            " 'Fez-Bulmán' 'El Cairo' 'Al Bahr al Ahmar' 'Niamey'\n",
            " 'Rabat-Salé-Zemur-Zaer' 'Gauteng' 'Marrakech-Tensift-Al Hauz' 'Mar Rojo'\n",
            " 'Lagos' 'Zambezia' 'Cabo Oriental' 'Shinyanga' 'Jubbada Hoose'\n",
            " 'KwaZulu-Natal' 'Jerusalén' 'Wellington' 'Daca' 'Bangkok' 'Bagdad'\n",
            " 'Adana' 'Riad' 'Tianjin' 'Otago' 'Capital Nacional' 'Mersin' 'Karagandá'\n",
            " 'Shandong' 'Jiangsu' 'Liaoning' 'Hunan' 'Kerman' 'Guyarat' 'Java Central'\n",
            " 'Rangún' 'Kütahya' 'Namangán' 'Hubei' 'Heilongjiang' 'Mono' 'Akwa Ibom'\n",
            " 'Delta' 'Bandundu' 'Ouest' 'Luanda' 'Borno' 'Nairobi' 'Copperbelt'\n",
            " 'Littoral' 'Kasai Oriental' 'Marítima' 'Boeny' 'Kano' 'Annaba'\n",
            " 'Dar es Salaam' 'Cabo Occidental' 'Languedoc-Rosellón-Mediodía-Pirineos'\n",
            " 'Khmelnytskyi' 'Bretaña' 'Centro-Valle de Loira' 'Véneto' 'Marche'\n",
            " 'Pomerania' 'Castilla-La Mancha' 'Lisboa' 'Satu Mare'\n",
            " 'Norte de Santander' 'Zacatecas' 'Chihuahua' 'Pará' 'Santa Catarina'\n",
            " 'Nuevo León' 'Huila' 'Querétaro' 'Chaguanas' 'Sonora' 'Monagas'\n",
            " 'Amazonas' 'Huehuetenango' 'Santa Fe' 'Morelos' 'Goiás' 'Bogotá'\n",
            " 'Chhattisgarh' 'Herat' 'Shaanxi' 'Kalimantan Oriental' 'Yogyakarta'\n",
            " 'Jilin' 'Shanghái' 'Kanagawa' 'Punyab' 'Java Oriental'\n",
            " 'Ciudad Ho Chi Minh' 'Daegu' 'Haryana' 'Nakhon Ratchasima' 'Sabah'\n",
            " 'Tabuk' 'Auckland' 'Yakarta' 'Bihar' 'Nueva York' 'Carolina del Norte'\n",
            " 'Noroeste' 'Hesse' 'Giurgiu' 'Lviv' 'Michoacán' 'Guanajuato' 'Qom'\n",
            " 'Colorado' 'Florida' 'Apulia' 'Hamburgo' 'Holanda Meridional' 'Galati'\n",
            " 'Güeldres' 'Emilia-Romaña' 'Uusimaa' 'Lacio' 'Yaroslavl'\n",
            " 'Finlandia del Sudoeste' 'Bashkortostán' 'Lublin' 'Dublín' 'Toscana'\n",
            " 'Baden-Wurtemberg' 'Oslo' 'Banská Bystrica' 'Lombardía' 'Andalucía'\n",
            " 'Piamonte' 'Lieja' 'Donetsk' 'Schleswig-Holstein' 'Silesia' 'Durango'\n",
            " 'Espíritu Santo' 'Santiago de Chile' 'Pinar del Río' 'Puno' 'Tamaulipas'\n",
            " 'La Paz' 'Matagalpa' 'Baja California' 'Campeche' 'Carabobo' 'Amapá'\n",
            " 'Santa Caterina' 'Coahuila' 'Guantánamo' 'Valle del Cauca' 'Arequipa'\n",
            " 'Acre' 'Ayacucho' 'Río de Janeiro' 'Telangana' 'Canterbury' 'Calabarzón'\n",
            " 'Lorestan' 'Izmir' 'Antalya' 'Taiz' 'Hokkaido' 'Mindanao Septentrional'\n",
            " 'Chauía-Uardiga' 'Gran Accra' 'Tizi Ouzou' 'Mequinez-Tafilalet' 'Central'\n",
            " 'Nilo Blanco' 'Alejandría' 'Katanga' 'Gezira' 'Benadir' 'Kindia'\n",
            " 'Taza-Alhucemas-Taunat' 'Dire Dawa' 'Tambov' 'Utrecht' 'Limburgo'\n",
            " 'Sofía-Ciudad' 'Normandía' 'Berlín' 'Cerdeña' 'Abruzos' 'Lugansk' 'Henao'\n",
            " 'Valenciana' 'Shizuoka' 'Anhui' 'Gyeongsangnam' 'Hebei' 'Andhra Pradesh'\n",
            " 'Surjandarín' 'Bishkek' 'Pekín' 'Bengala Occidental' 'Visayas Occidental'\n",
            " 'Luzón Central' 'Tekirdag' 'Meca' 'Imericia' 'Osaka' 'Sichuan'\n",
            " 'Célebes Suroriental' 'Territorio del Norte' 'Guilán' 'Juzestán'\n",
            " 'Liguria' 'Sajonia' 'Auvernia-Ródano-Alpes' 'Moscú' 'Amberes' 'Daguestán'\n",
            " 'Cheliábinsk' 'Brandenburgo' 'Auvernia' 'Astracán' 'Mazovia' 'Manisa'\n",
            " 'Tel Aviv' 'Astaná' 'Tasmania' 'Jharkhand' 'Taranaki' 'Markazí'\n",
            " 'Eskisehir' 'Jambi' 'Ankara' 'Shanxi' 'Fukui' 'Basora' 'Waikato' 'Almaty'\n",
            " 'Ajmán' 'Gyeonggi' 'Nelson' 'Jiangxi' 'Chongqing' 'Jaiber Pajtunjuá'\n",
            " 'Nom Pen' 'Tamil Nadu' 'Perak' 'Sumatra Meridional' 'Cuscatlán' 'Kabul'\n",
            " 'Oklahoma' 'Kaduna' 'Kampala' 'Ríos' 'Níger' 'Constantina' 'Ebonyi'\n",
            " 'Tánger-Tetuán' 'Maseru' 'Västra Götaland' 'Castilla y León'\n",
            " 'Dnipropetrovsk' 'Renania-Palatinado' 'Mykolayiv' 'Calabria'\n",
            " 'Mecklemburgo-Pomerania Occidental' 'Vilna' 'Timis' 'Berna'\n",
            " 'Borgoña-Franco Condado' 'Budapest' 'Navarra' 'Corse' 'Región Capital'\n",
            " 'Porto' 'Gales' 'Drenthe' 'Amur' 'Värmland' 'Salzburgo' 'Salta'\n",
            " 'Quezaltenango' 'Islas Baleares' 'Sumy' 'Bacau' 'Kymenlaakso' 'Opole'\n",
            " 'Brabante Septentrional' 'Gómel' 'Rogaland' 'Primorje-Gorski Kotar'\n",
            " 'Kaunas' 'Vínnytsia' 'Ginebra' 'Turingia' 'Irkutsk' 'Prahova' 'Járkov'\n",
            " 'Misiones' 'Sinaloa' 'Cienfuegos' 'Denizli' 'Assam' 'Corum' 'Fujian'\n",
            " 'Cordillera' 'Prefectura de Vientián' 'Th? Dô Hà N?i' 'Uttarakhand'\n",
            " 'Kashkadar' 'Sistán y Baluchistán' 'Aichi' 'Trengganu' 'Kerala'\n",
            " 'Muharraq' 'Maryland' 'Georgia' 'Alabama' 'Massachusetts' 'Virginia'\n",
            " 'Nevada' 'Michigan' 'Minnesota' 'Columbia británica' 'Nebraska' 'Alberta'\n",
            " 'Connecticut' 'Kentucky' 'Fayún' 'Flanders Oriental' 'Kumanovo'\n",
            " 'Overijssel' 'Dinamarca Meridional' 'Kaliningrado' 'Grad Zagreb' 'Frisia'\n",
            " 'Stávropol' 'Constanza' 'Hedmark' 'San Galo' 'Varna' 'Moravia-Silesia'\n",
            " 'Liberec' 'Zúrich' 'Ivanovo' 'Melilla' 'Kaluga' 'Poltava' 'Upsala'\n",
            " 'Medina' 'Kuala Lumpur' 'Cadisia' 'Hyogo' 'Arbil' 'Fars' 'Henan'\n",
            " 'Chittagong' 'Nangarhar' 'Bay of Plenty' 'Pahang' 'Tiflis' 'Nínive'\n",
            " 'Zanyán' 'Bali' 'Daejeon' 'Gisborne' 'Occidental' 'Kiên Giang'\n",
            " 'Hormozgán' 'Delaware' 'Tennessee' 'Arkansas' 'Misuri' 'Oregón' 'Maine'\n",
            " 'Saskatchewan' 'Harare' 'Donga' 'Anseba' 'Centro' 'Vâlcea' 'Brest'\n",
            " 'Rio Grande do Sul' 'Masaya' 'Antioquía' 'Guanacaste' 'Estelí' 'Oruro'\n",
            " 'Yucatán' 'Ouémé' 'Nigde' 'Ardahan' 'Kasai Occidental' 'Gran Polonia'\n",
            " 'Équateur' 'Septentrional' 'Sanliurfa' 'Kahramanmara?' 'Haifa' 'Thiès'\n",
            " 'Orán' 'Nueva Jersey' 'Virginia Occidental' 'Misisipi' 'Manipur'\n",
            " 'Pernambuco' 'Mato Grosso' 'Arauca' 'San Luis Potosí' 'Mendoza'\n",
            " 'Tocantins' 'Mayabeque' 'Matanzas' 'Villa Clara' 'Los Lagos' 'Santa Ana'\n",
            " 'Anzoátegui' 'La Romana' 'Barahona' 'Paraíba' 'La Vega' 'Magdalena'\n",
            " 'Ivano-Frankivsk' 'Mwanza' 'Bengasi' 'Arjánguelsk' 'Jizán' 'Lodz'\n",
            " '\\x8aiauliai' 'Choluteca' 'Chiapas' 'Río Grande del Norte' 'Artibonito'\n",
            " 'Sancti Spíritus' 'Quindío' 'Hidalgo' 'Santander' 'Atlántico'\n",
            " 'San Fernando' 'Aragua' 'San Juan' 'Granma' 'Callao' 'Canelones' 'Colón'\n",
            " 'Piauí' 'Gaziantep' 'Busan' 'Konya' 'Hamadán' 'Oita' 'Mongolia Interior'\n",
            " 'Odisha' 'Granada' 'Escuintla' 'Distrito Capital' 'Yoro' 'Bío-Bío'\n",
            " 'San Miguel' 'Guerrero' 'Cochabamba' 'Caldas' 'Lara' 'Casanare' 'Sylhet'\n",
            " 'Khatlon' 'Ciudad de Almatý' 'Borneo Occidental' 'Pavlodar'\n",
            " 'Manawatu-Wanganui' 'Jammu y Cachemira' 'Hims' 'Riau' 'Babilonia'\n",
            " 'Khulna' 'Guadalupe' 'Colima' 'Junín' 'Entre Ríos' 'Hiroshima' 'Oyo'\n",
            " 'Katsina' 'Buenos Aires (provincia)' 'Carolina del Sur' 'Klaip?da'\n",
            " 'Yunnan' 'Espaillat' 'Bulawayo' 'Malanje' 'Marlborough' 'Baki'\n",
            " 'Negeri Sembilan' 'Sind' 'Sarawak' 'Jorasán Razaví' 'Lebap' 'Sevastopol'\n",
            " 'Oaxaca' 'Guayas' 'San Pedro de Macorís' \"O'Higgins\" 'La Libertad'\n",
            " 'Peravia' 'Chaco' 'Paysandú' 'Rivera' 'Duarte' 'Córdoba' 'Santa Cruz'\n",
            " 'Asunción' 'Piura' 'Ciego de Ávila' 'Cajamarca' 'Chinandega'\n",
            " 'Antofagasta' 'Rondônia' 'Quintana Roo' 'Táchira' 'Kirsehir' 'Asjabad'\n",
            " 'Guizhou' 'Isfahán' 'Amán' 'Yazd' 'Al Jawf' 'Kermanshah'\n",
            " 'Sumatra Occidental' 'Hong Kong' 'Akmola' 'Aydin' 'Nagasaki' 'Sivas'\n",
            " 'Mardin' 'Mures' 'Carintia' 'Vladímir' 'Bélgorod' 'Valparaíso' 'Manabí'\n",
            " 'El Beni' 'Sergipe' 'Sonsonate' 'Southland' 'Kilis' 'Siirt' 'Erzurum'\n",
            " 'Jeju' 'Kastamonu' 'Wisconsin' 'Quebec' 'Nuevo México' 'Dukala-Abda'\n",
            " 'Asir' 'Hatay' 'Nzérékoré' 'Chiba' 'Asturias' 'Cork' 'Alta Austria'\n",
            " 'Murcia' 'Enugu' 'Costa' 'Suhaj' 'Dublín del Sur' 'Martinica' 'Bolívar'\n",
            " 'San Cristóbal' 'Balikesir' 'Balti' 'Osjecko-Baranjska' 'Kayseri'\n",
            " 'Northland' 'Luisiana' 'Manitoba' 'Cidade De Maputo' 'Cundinamarca'\n",
            " 'Tarapacá' 'Chandigarh' 'Inhambane' 'Galicia' 'Teherán' 'Khánh Hòa'\n",
            " \"Hawke's Bay\" 'Doha' 'Rhode Island' 'Utah' 'Namibe' 'Nyanza' 'Nord'\n",
            " 'Mazandarán' 'Saga' 'Mopti' 'Durrës' 'Ashanti' 'Ancash'\n",
            " 'Borneo Meridional' 'Ica' 'Laghouat' 'Mpumalanga' 'Lusaka' 'Grodno'\n",
            " 'Praga' 'Brabante Flamenco' 'Briansk' 'Stiria' 'Bruselas' 'Potosí'\n",
            " 'Bengkulu' 'Hainan' 'Nuevo Hampshire' 'Béchar' 'Abia' 'Sud' 'Ogun'\n",
            " 'Bani Suwayf' 'Adamawa' 'Provincia Oriental' 'Kankan' 'Niari' 'Cluj'\n",
            " 'Podlaquia' 'Flanders Occidental' 'Polonia Menor'\n",
            " 'Federación de Bosnia y Herzegovina' 'Zaporiyia' 'Burgas'\n",
            " 'Friuli-Venecia Julia' 'Corrientes' 'Roraima' 'Tolima' 'Mascate' 'Mary'\n",
            " 'Osmaniye' 'Karbala' 'Yamaguchi' 'Idaho' 'Distrito de Columbia'\n",
            " 'Estado Libre' 'Batna' 'Sokoto' 'Túnez' 'Maradi' 'Benguela' 'Sarre'\n",
            " 'Caras-Severin' 'Arad' 'Cherkasy' 'Volinia' 'Adamaoua' 'Mbeya' 'Kwara'\n",
            " 'Plateau' 'Atakora' 'Yibuti' 'Est' 'Trentino-Alto Adigio' 'Maramures'\n",
            " 'Chisináu' 'Aceh' 'Nagano' 'Kigoma' 'Buyumbura Mairie' 'Ceuta'\n",
            " 'Chernihiv' 'Cantabria' 'Podgorica' 'Pwani' 'Estuaire' 'Vlorë' 'Andiján'\n",
            " 'Territorio de la Capital Federal' 'Gulu' 'Azuay' 'Al Buhayrah' 'Kigali'\n",
            " 'Ecuatoria Central' 'Luxemburgo' 'Chuquisaca' 'Miranda' 'Selangor'\n",
            " 'Ouest del Sur' 'Tadla-Azilal' 'Iasi' 'Yambol']\n",
            "Order_Status:\n",
            "['COMPLETE' 'PENDING' 'CLOSED' 'PENDING_PAYMENT' 'CANCELED' 'PROCESSING'\n",
            " 'SUSPECTED_FRAUD' 'ON_HOLD' 'PAYMENT_REVIEW']\n",
            "Order_Zipcode:\n",
            "['0' 99301.0 90049.0 94110.0 66212.0 77041.0 85234.0 95123.0 93727.0\n",
            " 85345.0 45231.0 47201.0 19134.0 60016.0 60126.0 98103.0 94601.0 10009.0\n",
            " 28110.0 80219.0 90008.0 77095.0 32216.0 77036.0 74133.0 94109.0 92553.0\n",
            " 20735.0 60543.0 60174.0 31907.0 62521.0 92627.0 28806.0 35630.0 1852.0\n",
            " 10024.0 44312.0 22153.0 89015.0 90045.0 10011.0 49505.0 78664.0 76017.0\n",
            " 92105.0 85705.0 90032.0 48227.0 55407.0 28205.0 23602.0 94122.0 11572.0\n",
            " 78207.0 68104.0 21215.0 75081.0 10035.0 98115.0 49201.0 43229.0 60653.0\n",
            " 6708.0 98105.0 19143.0 42420.0 80134.0 94533.0 92037.0 90036.0 22304.0\n",
            " 35810.0 19711.0 38109.0 72701.0 23223.0 40475.0 65807.0 33801.0 13021.0\n",
            " 45503.0 78577.0 11550.0 40214.0 67212.0 76106.0 21044.0 30318.0 79762.0\n",
            " 60610.0 75217.0 90004.0 89115.0 95037.0 97206.0 14215.0 79109.0 33614.0\n",
            " 75034.0 28540.0 32303.0 4240.0 34952.0 63116.0 77070.0 1841.0 97756.0\n",
            " 19140.0 28314.0 13440.0 60623.0 95823.0 37042.0 46060.0 8701.0 26003.0\n",
            " 19120.0 19013.0 99207.0 2138.0 72209.0 39212.0 44256.0 19805.0 74012.0\n",
            " 23320.0 80112.0 85023.0 38671.0 92374.0 62301.0 55106.0 22801.0 47150.0\n",
            " 37167.0 28403.0 29203.0 37064.0 27604.0 80013.0 24153.0 43055.0 54880.0\n",
            " 85281.0 92024.0 87105.0 27893.0 75150.0 95695.0 33311.0 77506.0 44240.0\n",
            " 4401.0 77340.0 7960.0 35601.0 33023.0 22204.0 37211.0 92704.0 30062.0\n",
            " 33178.0 91104.0 60302.0 54401.0 68025.0 33180.0 53209.0 60505.0 55044.0\n",
            " 27707.0 75701.0 72401.0 98661.0 48234.0 95051.0 41042.0 46368.0 91941.0\n",
            " 74403.0 37130.0 36608.0 7090.0 66062.0 70506.0 7501.0 47905.0 11561.0\n",
            " 33021.0 33142.0 80004.0 30344.0 90301.0 43130.0 76117.0 98042.0 98632.0\n",
            " 48146.0 73120.0 32839.0 45373.0 92804.0 80027.0 72032.0 79907.0 90805.0\n",
            " 2908.0 55901.0 92503.0 1453.0 78745.0 98052.0 84106.0 6824.0 76706.0\n",
            " 60440.0 92404.0 32712.0 2169.0 33024.0 98208.0 98006.0 42104.0 85301.0\n",
            " 30328.0 71203.0 32137.0 22980.0 61032.0 92345.0 37620.0 97301.0 78539.0\n",
            " 97477.0 92530.0 46203.0 18103.0 75051.0 2740.0 12180.0 67846.0 54601.0\n",
            " 43017.0 94061.0 2149.0 37421.0 38301.0 85204.0 3820.0 10550.0 89031.0\n",
            " 53142.0 47374.0 44105.0 75220.0 85323.0 54302.0 60540.0 60025.0 13601.0\n",
            " 48183.0 44107.0 93309.0 75023.0 87124.0 94591.0 71111.0 30080.0 61701.0\n",
            " 7601.0 27217.0 43615.0 93101.0 77590.0 6457.0 60201.0 97405.0 32503.0\n",
            " 98026.0 7060.0 33437.0 46350.0 75061.0 30605.0 48205.0 48126.0 17403.0\n",
            " 91767.0 83605.0 28052.0 48601.0 19901.0 44052.0 79424.0 10701.0 36116.0\n",
            " 55113.0 23434.0 98198.0 13501.0 92307.0 20016.0 8302.0 97224.0 2038.0\n",
            " 61107.0 2148.0 45014.0 90712.0 94086.0 75007.0 71603.0 78041.0 46544.0\n",
            " 37075.0 85254.0 28601.0 83642.0 37918.0 48310.0 33012.0 85224.0 7050.0\n",
            " 76021.0 6010.0 37604.0 70601.0 92691.0 20877.0 88220.0 8360.0]\n",
            "Product_Description:\n",
            "['0']\n",
            "Product_Image:\n",
            "['http://images.acmesports.sports/Smart+watch '\n",
            " 'http://images.acmesports.sports/Perfect+Fitness+Perfect+Rip+Deck'\n",
            " 'http://images.acmesports.sports/Under+Armour+Girls%27+Toddler+Spine+Surge+Running+Shoe'\n",
            " 'http://images.acmesports.sports/Nike+Men%27s+Dri-FIT+Victory+Golf+Polo'\n",
            " 'http://images.acmesports.sports/Under+Armour+Men%27s+Compression+EV+SL+Slide'\n",
            " 'http://images.acmesports.sports/Under+Armour+Women%27s+Micro+G+Skulpt+Running+Shoe'\n",
            " 'http://images.acmesports.sports/Nike+Men%27s+Free+5.0%2B+Running+Shoe'\n",
            " 'http://images.acmesports.sports/Glove+It+Women%27s+Mod+Oval+3-Zip+Carry+All+Golf+Bag'\n",
            " 'http://images.acmesports.sports/Bridgestone+e6+Straight+Distance+NFL+San+Diego+Chargers...'\n",
            " 'http://images.acmesports.sports/Columbia+Men%27s+PFG+Anchor+Tough+T-Shirt'\n",
            " 'http://images.acmesports.sports/Titleist+Pro+V1x+Golf+Balls'\n",
            " 'http://images.acmesports.sports/Bridgestone+e6+Straight+Distance+NFL+Tennessee+Titans+Golf...'\n",
            " 'http://images.acmesports.sports/Polar+FT4+Heart+Rate+Monitor'\n",
            " 'http://images.acmesports.sports/ENO+Atlas+Hammock+Straps'\n",
            " 'http://images.acmesports.sports/adidas+Men%27s+F10+Messi+TRX+FG+Soccer+Cleat'\n",
            " 'http://images.acmesports.sports/Brooks+Women%27s+Ghost+6+Running+Shoe'\n",
            " 'http://images.acmesports.sports/Nike+Men%27s+CJ+Elite+2+TD+Football+Cleat'\n",
            " 'http://images.acmesports.sports/Diamondback+Women%27s+Serene+Classic+Comfort+Bike+2014'\n",
            " 'http://images.acmesports.sports/Industrial+consumer+electronics'\n",
            " 'http://images.acmesports.sports/Web+Camera'\n",
            " 'http://images.acmesports.sports/Dell+Laptop'\n",
            " 'http://images.acmesports.sports/SOLE+E25+Elliptical'\n",
            " 'http://images.acmesports.sports/Elevation+Training+Mask+2.0'\n",
            " 'http://images.acmesports.sports/adidas+Men%27s+Germany+Black+Crest+Away+Tee'\n",
            " 'http://images.acmesports.sports/Team+Golf+Pittsburgh+Steelers+Putter+Grip'\n",
            " 'http://images.acmesports.sports/Glove+It+Urban+Brick+Golf+Towel'\n",
            " 'http://images.acmesports.sports/Team+Golf+Texas+Longhorns+Putter+Grip'\n",
            " 'http://images.acmesports.sports/Nike+Men%27s+Deutschland+Weltmeister+Winners+Black+T-Shirt'\n",
            " 'http://images.acmesports.sports/Team+Golf+St.+Louis+Cardinals+Putter+Grip'\n",
            " 'http://images.acmesports.sports/Summer+dresses'\n",
            " 'http://images.acmesports.sports/Porcelain+crafts'\n",
            " 'http://images.acmesports.sports/Men+gala+suit'\n",
            " 'http://images.acmesports.sports/Team+Golf+Tennessee+Volunteers+Putter+Grip'\n",
            " 'http://images.acmesports.sports/Team+Golf+San+Francisco+Giants+Putter+Grip'\n",
            " 'http://images.acmesports.sports/Glove+It+Imperial+Golf+Towel'\n",
            " 'http://images.acmesports.sports/Nike+Men%27s+Comfort+2+Slide'\n",
            " 'http://images.acmesports.sports/Under+Armour+Hustle+Storm+Medium+Duffle+Bag'\n",
            " 'http://images.acmesports.sports/Under+Armour+Kids%27+Mercenary+Slide'\n",
            " 'http://images.acmesports.sports/Under+Armour+Women%27s+Ignite+PIP+VI+Slide'\n",
            " 'http://images.acmesports.sports/Nike+Men%27s+Free+TR+5.0+TB+Training+Shoe'\n",
            " 'http://images.acmesports.sports/adidas+Youth+Germany+Black%2FRed+Away+Match+Soccer+Jersey'\n",
            " 'http://images.acmesports.sports/TYR+Boys%27+Team+Digi+Jammer'\n",
            " 'http://images.acmesports.sports/Glove+It+Women%27s+Imperial+Golf+Glove'\n",
            " 'http://images.acmesports.sports/Titleist+Pro+V1x+High+Numbers+Golf+Balls'\n",
            " 'http://images.acmesports.sports/Bridgestone+e6+Straight+Distance+NFL+Carolina+Panthers+Golf...'\n",
            " 'http://images.acmesports.sports/Under+Armour+Women%27s+Ignite+Slide'\n",
            " 'http://images.acmesports.sports/Titleist+Pro+V1x+High+Numbers+Personalized+Golf+Balls'\n",
            " 'http://images.acmesports.sports/GoPro+HERO3%2B+Black+Edition+Camera'\n",
            " 'http://images.acmesports.sports/Total+Gym+1400'\n",
            " 'http://images.acmesports.sports/Children+heaters'\n",
            " 'http://images.acmesports.sports/Team+Golf+New+England+Patriots+Putter+Grip'\n",
            " 'http://images.acmesports.sports/adidas+Kids%27+F5+Messi+FG+Soccer+Cleat'\n",
            " 'http://images.acmesports.sports/Nike+Women%27s+Tempo+Shorts'\n",
            " 'http://images.acmesports.sports/Glove+It+Women%27s+Mod+Oval+Golf+Glove'\n",
            " 'http://images.acmesports.sports/Titleist+Pro+V1+High+Numbers+Personalized+Golf+Balls'\n",
            " 'http://images.acmesports.sports/Under+Armour+Men%27s+Tech+II+T-Shirt'\n",
            " 'http://images.acmesports.sports/Baby+sweater'\n",
            " 'http://images.acmesports.sports/Mio+ALPHA+Heart+Rate+Monitor%2FSport+Watch'\n",
            " 'http://images.acmesports.sports/Field+%26+Stream+Sportsman+16+Gun+Fire+Safe'\n",
            " 'http://images.acmesports.sports/Sports+Books'\n",
            " 'http://images.acmesports.sports/Diamondback+Boys%27+Insight+24+Performance+Hybrid+Bike+2014'\n",
            " 'http://images.acmesports.sports/Polar+Loop+Activity+Tracker'\n",
            " 'http://images.acmesports.sports/Garmin+Forerunner+910XT+GPS+Watch'\n",
            " 'http://images.acmesports.sports/DVDs'\n",
            " 'http://images.acmesports.sports/CDs+of+rock'\n",
            " 'http://images.acmesports.sports/Nike+Kids%27+Grade+School+KD+VI+Basketball+Shoe'\n",
            " 'http://images.acmesports.sports/Nike+Women%27s+Free+5.0+TR+FIT+PRT+4+Training+Shoe'\n",
            " 'http://images.acmesports.sports/Hirzl+Women%27s+Soffft+Flex+Golf+Glove'\n",
            " 'http://images.acmesports.sports/The+North+Face+Women%27s+Recon+Backpack'\n",
            " 'http://images.acmesports.sports/Lawn+mower'\n",
            " 'http://images.acmesports.sports/Nike+Dri-FIT+Crew+Sock+6+Pack'\n",
            " 'http://images.acmesports.sports/Nike+Women%27s+Legend+V-Neck+T-Shirt'\n",
            " 'http://images.acmesports.sports/Garmin+Approach+S4+Golf+GPS+Watch'\n",
            " 'http://images.acmesports.sports/insta-bed+Neverflat+Air+Mattress'\n",
            " 'http://images.acmesports.sports/Nike+Men%27s+Kobe+IX+Elite+Low+Basketball+Shoe'\n",
            " 'http://images.acmesports.sports/Adult+dog+supplies'\n",
            " 'http://images.acmesports.sports/First+aid+kit'\n",
            " 'http://images.acmesports.sports/Garmin+Approach+S3+Golf+GPS+Watch'\n",
            " 'http://images.acmesports.sports/Rock+music'\n",
            " 'http://images.acmesports.sports/Fighting+video+games'\n",
            " 'http://images.acmesports.sports/Fitbit+The+One+Wireless+Activity+%26+Sleep+Tracker'\n",
            " 'http://images.acmesports.sports/Stiga+Master+Series+ST3100+Competition+Indoor+Table+Tennis...'\n",
            " 'http://images.acmesports.sports/Diamondback+Girls%27+Clarity+24+Hybrid+Bike+2014'\n",
            " 'http://images.acmesports.sports/adidas+Brazuca+2014+Official+Match+Ball'\n",
            " 'http://images.acmesports.sports/GolfBuddy+VT3+GPS+Watch'\n",
            " 'http://images.acmesports.sports/Bushnell+Pro+X7+Jolt+Slope+Rangefinder'\n",
            " 'http://images.acmesports.sports/Yakima+DoubleDown+Ace+Hitch+Mount+4-Bike+Rack'\n",
            " 'http://images.acmesports.sports/Nike+Men%27s+Fingertrap+Max+Training+Shoe']\n",
            "Product_Name:\n",
            "['Smart watch ' 'Perfect Fitness Perfect Rip Deck'\n",
            " \"Under Armour Girls' Toddler Spine Surge Runni\"\n",
            " \"Nike Men's Dri-FIT Victory Golf Polo\"\n",
            " \"Under Armour Men's Compression EV SL Slide\"\n",
            " \"Under Armour Women's Micro G Skulpt Running S\"\n",
            " \"Nike Men's Free 5.0+ Running Shoe\"\n",
            " \"Glove It Women's Mod Oval 3-Zip Carry All Gol\"\n",
            " 'Bridgestone e6 Straight Distance NFL San Dieg'\n",
            " \"Columbia Men's PFG Anchor Tough T-Shirt\" 'Titleist Pro V1x Golf Balls'\n",
            " 'Bridgestone e6 Straight Distance NFL Tennesse'\n",
            " 'Polar FT4 Heart Rate Monitor' 'ENO Atlas Hammock Straps'\n",
            " \"adidas Men's F10 Messi TRX FG Soccer Cleat\"\n",
            " \"Brooks Women's Ghost 6 Running Shoe\"\n",
            " \"Nike Men's CJ Elite 2 TD Football Cleat\"\n",
            " \"Diamondback Women's Serene Classic Comfort Bi\"\n",
            " 'Industrial consumer electronics' 'Web Camera' 'Dell Laptop'\n",
            " 'SOLE E25 Elliptical' 'Elevation Training Mask 2.0'\n",
            " \"adidas Men's Germany Black Crest Away Tee\"\n",
            " 'Team Golf Pittsburgh Steelers Putter Grip'\n",
            " 'Glove It Urban Brick Golf Towel' 'Team Golf Texas Longhorns Putter Grip'\n",
            " \"Nike Men's Deutschland Weltmeister Winners Bl\"\n",
            " 'Team Golf St. Louis Cardinals Putter Grip' 'Summer dresses'\n",
            " 'Porcelain crafts' \"Men's gala suit\"\n",
            " 'Team Golf Tennessee Volunteers Putter Grip'\n",
            " 'Team Golf San Francisco Giants Putter Grip'\n",
            " 'Glove It Imperial Golf Towel' \"Nike Men's Comfort 2 Slide\"\n",
            " 'Under Armour Hustle Storm Medium Duffle Bag'\n",
            " \"Under Armour Kids' Mercenary Slide\"\n",
            " \"Under Armour Women's Ignite PIP VI Slide\"\n",
            " \"Nike Men's Free TR 5.0 TB Training Shoe\"\n",
            " 'adidas Youth Germany Black/Red Away Match Soc'\n",
            " \"TYR Boys' Team Digi Jammer\" \"Glove It Women's Imperial Golf Glove\"\n",
            " 'Titleist Pro V1x High Numbers Golf Balls'\n",
            " 'Bridgestone e6 Straight Distance NFL Carolina'\n",
            " \"Under Armour Women's Ignite Slide\"\n",
            " 'Titleist Pro V1x High Numbers Personalized Go'\n",
            " 'GoPro HERO3+ Black Edition Camera' 'Total Gym 1400' \"Children's heaters\"\n",
            " 'Team Golf New England Patriots Putter Grip'\n",
            " \"adidas Kids' F5 Messi FG Soccer Cleat\" \"Nike Women's Tempo Shorts\"\n",
            " \"Glove It Women's Mod Oval Golf Glove\"\n",
            " 'Titleist Pro V1 High Numbers Personalized Gol'\n",
            " \"Under Armour Men's Tech II T-Shirt\" 'Baby sweater'\n",
            " 'Mio ALPHA Heart Rate Monitor/Sport Watch'\n",
            " 'Field & Stream Sportsman 16 Gun Fire Safe' 'Sports Books '\n",
            " \"Diamondback Boys' Insight 24 Performance Hybr\"\n",
            " 'Polar Loop Activity Tracker' 'Garmin Forerunner 910XT GPS Watch' 'DVDs '\n",
            " 'CDs of rock' \"Nike Kids' Grade School KD VI Basketball Shoe\"\n",
            " \"Nike Women's Free 5.0 TR FIT PRT 4 Training S\"\n",
            " \"Hirzl Women's Soffft Flex Golf Glove\"\n",
            " \"The North Face Women's Recon Backpack\" 'Lawn mower'\n",
            " 'Nike Dri-FIT Crew Sock 6 Pack' \"Nike Women's Legend V-Neck T-Shirt\"\n",
            " 'Garmin Approach S4 Golf GPS Watch' 'insta-bed Neverflat Air Mattress'\n",
            " \"Nike Men's Kobe IX Elite Low Basketball Shoe\" 'Adult dog supplies'\n",
            " 'First aid kit' 'Garmin Approach S3 Golf GPS Watch' 'Rock music'\n",
            " 'Fighting video games' 'Fitbit The One Wireless Activity & Sleep Trac'\n",
            " 'Stiga Master Series ST3100 Competition Indoor'\n",
            " \"Diamondback Girls' Clarity 24 Hybrid Bike 201\"\n",
            " 'adidas Brazuca 2014 Official Match Ball' 'GolfBuddy VT3 GPS Watch'\n",
            " 'Bushnell Pro X7 Jolt Slope Rangefinder'\n",
            " 'Yakima DoubleDown Ace Hitch Mount 4-Bike Rack'\n",
            " \"Nike Men's Fingertrap Max Training Shoe\"]\n",
            "shipping_date_(DateOrders):\n",
            "['2/3/2018 22:56' '1/18/2018 12:27' '1/17/2018 12:06' ... '8/12/2015 0:02'\n",
            " '6/16/2015 18:41' '0']\n",
            "Shipping_Mode:\n",
            "['Standard Class' 'First Class' 'Second Class' 'Same Day' '0']\n"
          ]
        }
      ],
      "source": [
        "categorical_var = list(df.select_dtypes(include=object).columns)\n",
        "for item in categorical_var:\n",
        "    print(item + \":\")\n",
        "    print(df[item].unique())"
      ]
    },
    {
      "cell_type": "markdown",
      "metadata": {
        "id": "BgzrIISBnvJO"
      },
      "source": [
        "Here, we do not see any placeholders like '?' which represents a missing or unknown value. So, we are good to go."
      ]
    },
    {
      "cell_type": "markdown",
      "metadata": {
        "id": "GPkDH6tJn6Pc"
      },
      "source": [
        "# **6. Data Visualization**"
      ]
    },
    {
      "cell_type": "markdown",
      "metadata": {
        "id": "9dgayx2Cy7b9"
      },
      "source": [
        "### a. Categorical Variables"
      ]
    },
    {
      "cell_type": "code",
      "execution_count": null,
      "metadata": {
        "id": "_Y9aB3-Qn7tL"
      },
      "outputs": [],
      "source": [
        "categorical_var = list(df.select_dtypes(include=object).columns)"
      ]
    },
    {
      "cell_type": "markdown",
      "metadata": {
        "id": "v4Yqzk3woXnG"
      },
      "source": [
        "Creating bargraph for Delivery_Type"
      ]
    },
    {
      "cell_type": "markdown",
      "metadata": {
        "id": "KpYAZG3StfY_"
      },
      "source": [
        "### Graph representing days of shipping(real), days of shipping(expected) for different Delivery_Status"
      ]
    },
    {
      "cell_type": "code",
      "execution_count": null,
      "metadata": {
        "colab": {
          "base_uri": "https://localhost:8080/",
          "height": 487
        },
        "id": "xeEhhJ_eoZNN",
        "outputId": "37429e67-286e-4ef7-f13e-215980df6493"
      },
      "outputs": [
        {
          "data": {
            "text/plain": [
              "Text(0.5, 0, '\\n Delivery Status')"
            ]
          },
          "execution_count": 17,
          "metadata": {},
          "output_type": "execute_result"
        },
        {
          "data": {
            "image/png": "[encoded data removed]",
            "text/plain": [
              "<Figure size 1500x500 with 1 Axes>"
            ]
          },
          "metadata": {},
          "output_type": "display_data"
        }
      ],
      "source": [
        "plt.figure(figsize=(15,5))\n",
        "sns.set(style = 'white')\n",
        "sns.countplot(x=\"Delivery_Status\", data=df)\n",
        "plt.title(\"Count of Delivery Status\\n\",size =14)\n",
        "plt.ylabel(\"No of Orders\")\n",
        "plt.xlabel(\"\\n Delivery Status\")"
      ]
    },
    {
      "cell_type": "markdown",
      "metadata": {
        "id": "jmKh-p_7bYqI"
      },
      "source": [
        "This graph shows that most of the orders had a Late Delivery Status"
      ]
    },
    {
      "cell_type": "markdown",
      "metadata": {
        "id": "msxVG1HFLOXE"
      },
      "source": [
        "### Now we have to filter the DateOrders collum to obtain the only the year the orders were placed so we can make predictions over the foture years. "
      ]
    },
    {
      "cell_type": "code",
      "execution_count": null,
      "metadata": {
        "colab": {
          "base_uri": "https://localhost:8080/"
        },
        "id": "4ZD5FQ7-1kGK",
        "outputId": "fc9065c8-12ee-4220-e5fa-712a3acc3cdf"
      },
      "outputs": [
        {
          "data": {
            "text/plain": [
              "0     1/31/2018 22:56\n",
              "1     1/13/2018 12:27\n",
              "2     1/13/2018 12:06\n",
              "3     1/13/2018 11:45\n",
              "4     1/13/2018 11:24\n",
              "5     1/13/2018 11:03\n",
              "6     1/13/2018 10:42\n",
              "7     1/13/2018 10:21\n",
              "8     1/13/2018 10:00\n",
              "9      1/13/2018 9:39\n",
              "10     1/13/2018 9:18\n",
              "11     1/13/2018 8:57\n",
              "12     1/13/2018 8:36\n",
              "13     1/13/2018 8:15\n",
              "14     1/13/2018 7:54\n",
              "15     1/13/2018 7:33\n",
              "16     1/13/2018 7:12\n",
              "17     1/13/2018 6:51\n",
              "18     1/13/2018 6:30\n",
              "19     1/13/2018 6:09\n",
              "Name: order_date_(DateOrders), dtype: object"
            ]
          },
          "execution_count": 18,
          "metadata": {},
          "output_type": "execute_result"
        }
      ],
      "source": [
        "df['order_date_(DateOrders)'].head(20)"
      ]
    },
    {
      "cell_type": "code",
      "execution_count": null,
      "metadata": {
        "id": "tEmzHsyP0WKg"
      },
      "outputs": [],
      "source": [
        "date=[]\n",
        "for i in df['order_date_(DateOrders)']:\n",
        "    date.append(i.split())\n",
        "\n",
        "for j in date:\n",
        "    del j[1]\n",
        "\n",
        "YearOrdered=[]\n",
        "for k in date:\n",
        "    YearOrdered.append(k[0].split('/'))\n",
        "\n",
        "for j in YearOrdered:\n",
        "    del j[0]\n",
        "\n",
        "for j in YearOrdered:\n",
        "    del j[0]\n",
        "\n",
        "#print(YearOrdered)\n",
        "\n",
        "\n",
        "#df['order_date_(DateOrders)'] = YearOrdered"
      ]
    },
    {
      "cell_type": "code",
      "execution_count": null,
      "metadata": {
        "id": "8OyuFukE9Eli"
      },
      "outputs": [],
      "source": [
        "se = pd.array(YearOrdered)\n",
        "df['Year'] = np.array(YearOrdered)\n",
        "\n",
        "#df.loc[:,'Year']"
      ]
    },
    {
      "cell_type": "code",
      "execution_count": null,
      "metadata": {
        "colab": {
          "base_uri": "https://localhost:8080/",
          "height": 487
        },
        "id": "7Zm9gZJX2R6F",
        "outputId": "e41e7cd3-6db8-4917-cc7a-c0b076c74f06"
      },
      "outputs": [
        {
          "data": {
            "text/plain": [
              "Text(0.5, 0, '\\n Year')"
            ]
          },
          "execution_count": 21,
          "metadata": {},
          "output_type": "execute_result"
        },
        {
          "data": {
            "image/png": "[encoded data removed]",
            "text/plain": [
              "<Figure size 1500x500 with 1 Axes>"
            ]
          },
          "metadata": {},
          "output_type": "display_data"
        }
      ],
      "source": [
        "\n",
        "plt.figure(figsize=(15,5))\n",
        "sns.set(style = 'white')\n",
        "sns.countplot(x=\"Year\", data=df, order= ['2015','2016','2017'])\n",
        "plt.title(\"Sales over the Years\\n\",size =14)\n",
        "plt.ylabel(\"Sales\")\n",
        "plt.xlabel(\"\\n Year\")\n",
        "\n"
      ]
    },
    {
      "cell_type": "markdown",
      "metadata": {
        "id": "dvw7C5vYcXBU"
      },
      "source": [
        "Unlike expected, sale seem to be oging down. We should disconsider 2018 since we do not have the data for the whole year. "
      ]
    },
    {
      "cell_type": "markdown",
      "metadata": {
        "id": "t0pFuPG2OUbu"
      },
      "source": [
        "### Barchart representing the relationship between Benefit Per Order with Delivery Status"
      ]
    },
    {
      "cell_type": "code",
      "execution_count": null,
      "metadata": {
        "colab": {
          "base_uri": "https://localhost:8080/",
          "height": 494
        },
        "id": "H_no1z9NGXhR",
        "outputId": "6ee4bd0d-34bd-4382-8e2a-f8993ba16740"
      },
      "outputs": [
        {
          "data": {
            "text/plain": [
              "Text(0.5, 0, '\\n Delivery Status')"
            ]
          },
          "execution_count": 22,
          "metadata": {},
          "output_type": "execute_result"
        },
        {
          "data": {
            "image/png": "[encoded data removed]",
            "text/plain": [
              "<Figure size 1500x500 with 1 Axes>"
            ]
          },
          "metadata": {},
          "output_type": "display_data"
        }
      ],
      "source": [
        "plt.figure(figsize=(15,5))\n",
        "sns.set(style = 'white')\n",
        "sns.barplot(x=\"Delivery_Status\", y=\"Benefit_per_order\", data=df)\n",
        "plt.title(\"Delivery Status VS Benefit Per Order\\n\",size =14)\n",
        "plt.ylabel(\"Benefit Per Order\")\n",
        "plt.xlabel(\"\\n Delivery Status\")"
      ]
    },
    {
      "cell_type": "markdown",
      "metadata": {
        "id": "7oa252F6cHM3"
      },
      "source": [
        "This graph shows how On Time Shipping get the most Benefit per Order"
      ]
    },
    {
      "cell_type": "markdown",
      "metadata": {
        "id": "J1KsvYNEzSsG"
      },
      "source": [
        "### Graph representing the count for Category Name of Goods"
      ]
    },
    {
      "cell_type": "code",
      "execution_count": null,
      "metadata": {
        "colab": {
          "base_uri": "https://localhost:8080/",
          "height": 1000
        },
        "id": "PyXKZUvmzZci",
        "outputId": "ac209a04-f2e9-44aa-c704-cc8d70b1b98f"
      },
      "outputs": [
        {
          "data": {
            "text/plain": [
              "(array([ 0,  1,  2,  3,  4,  5,  6,  7,  8,  9, 10, 11, 12, 13, 14, 15, 16,\n",
              "        17, 18, 19, 20, 21, 22, 23, 24, 25, 26, 27, 28, 29, 30, 31, 32, 33,\n",
              "        34, 35, 36, 37, 38, 39, 40]),\n",
              " [Text(0, 0, 'Sporting Goods'),\n",
              "  Text(1, 0, 'Cleats'),\n",
              "  Text(2, 0, 'Shop By Sport'),\n",
              "  Text(3, 0, \"Women's Apparel\"),\n",
              "  Text(4, 0, 'Electronics'),\n",
              "  Text(5, 0, 'Boxing & MMA'),\n",
              "  Text(6, 0, 'Cardio Equipment'),\n",
              "  Text(7, 0, 'Trade-In'),\n",
              "  Text(8, 0, \"Kids' Golf Clubs\"),\n",
              "  Text(9, 0, 'Hunting & Shooting'),\n",
              "  Text(10, 0, 'Baseball & Softball'),\n",
              "  Text(11, 0, \"Men's Footwear\"),\n",
              "  Text(12, 0, 'Camping & Hiking'),\n",
              "  Text(13, 0, 'Consumer Electronics'),\n",
              "  Text(14, 0, 'Cameras '),\n",
              "  Text(15, 0, 'Computers'),\n",
              "  Text(16, 0, 'Basketball'),\n",
              "  Text(17, 0, 'Soccer'),\n",
              "  Text(18, 0, \"Girls' Apparel\"),\n",
              "  Text(19, 0, 'Accessories'),\n",
              "  Text(20, 0, \"Women's Clothing\"),\n",
              "  Text(21, 0, 'Crafts'),\n",
              "  Text(22, 0, \"Men's Clothing\"),\n",
              "  Text(23, 0, 'Tennis & Racquet'),\n",
              "  Text(24, 0, 'Fitness Accessories'),\n",
              "  Text(25, 0, 'As Seen on  TV!'),\n",
              "  Text(26, 0, 'Golf Balls'),\n",
              "  Text(27, 0, 'Strength Training'),\n",
              "  Text(28, 0, \"Children's Clothing\"),\n",
              "  Text(29, 0, 'Lacrosse'),\n",
              "  Text(30, 0, 'Baby '),\n",
              "  Text(31, 0, 'Fishing'),\n",
              "  Text(32, 0, 'Books '),\n",
              "  Text(33, 0, 'DVDs'),\n",
              "  Text(34, 0, 'CDs '),\n",
              "  Text(35, 0, 'Garden'),\n",
              "  Text(36, 0, 'Hockey'),\n",
              "  Text(37, 0, 'Pet Supplies'),\n",
              "  Text(38, 0, 'Health and Beauty'),\n",
              "  Text(39, 0, 'Music'),\n",
              "  Text(40, 0, 'Video Games')])"
            ]
          },
          "execution_count": 23,
          "metadata": {},
          "output_type": "execute_result"
        },
        {
          "data": {
            "image/png": "[encoded data removed]",
            "text/plain": [
              "<Figure size 3500x500 with 1 Axes>"
            ]
          },
          "metadata": {},
          "output_type": "display_data"
        }
      ],
      "source": [
        "plt.figure(figsize=(35,5))\n",
        "sns.set(style = 'white')\n",
        "sns.countplot(x=\"Category_Name\", data=df)\n",
        "plt.title(\"Count of Goods Category Name\\n\",size =14)\n",
        "plt.ylabel(\"No of Count\")\n",
        "plt.xlabel(\"\\n Category Name\")\n",
        "plt.xticks(rotation=45)"
      ]
    },
    {
      "cell_type": "markdown",
      "metadata": {
        "id": "AhInuedsc23v"
      },
      "source": [
        "As we can see, Sporting Goods, Indoor/Outdoor Games and Baseball & Softball are the item they have the most in stock. "
      ]
    },
    {
      "cell_type": "markdown",
      "metadata": {
        "id": "nt1fU4ck00Zs"
      },
      "source": [
        "### Pie Chart representing the count for Shipping Mode of Goods"
      ]
    },
    {
      "cell_type": "code",
      "execution_count": null,
      "metadata": {
        "colab": {
          "base_uri": "https://localhost:8080/",
          "height": 413
        },
        "id": "Kq-pf-Rl00g6",
        "outputId": "588f65c1-b468-4071-b932-8421ba3f9d7e"
      },
      "outputs": [
        {
          "data": {
            "image/png": "[encoded data removed]",
            "text/plain": [
              "<Figure size 640x480 with 1 Axes>"
            ]
          },
          "metadata": {},
          "output_type": "display_data"
        }
      ],
      "source": [
        "\n",
        "fig1, ax1 = plt.subplots()\n",
        "X = list(df['Shipping_Mode'].value_counts().index)\n",
        "Y = list(df['Shipping_Mode'].value_counts().values)\n",
        "ax1.pie(Y,labels=X)\n",
        "ax1.axis('equal') \n",
        "plt.show()\n"
      ]
    },
    {
      "cell_type": "markdown",
      "metadata": {
        "id": "nzl5H8GrdUTY"
      },
      "source": [
        "Standart Class is the most used, followed by Second Class and First. "
      ]
    },
    {
      "cell_type": "markdown",
      "metadata": {
        "id": "E_BwHgq84adB"
      },
      "source": [
        "### Variation between Days for Shipping(real) and Benefit Per Order"
      ]
    },
    {
      "cell_type": "code",
      "execution_count": null,
      "metadata": {
        "colab": {
          "base_uri": "https://localhost:8080/",
          "height": 524
        },
        "id": "YuQ4Qc0Y4mGR",
        "outputId": "a9b1ca42-7d8b-4bd3-c40d-a3001f3196c7"
      },
      "outputs": [
        {
          "data": {
            "text/plain": [
              "Text(0.5, 1.0, 'Box plot representing Days for Shipping and Benefit Per Order \\n')"
            ]
          },
          "execution_count": 25,
          "metadata": {},
          "output_type": "execute_result"
        },
        {
          "data": {
            "image/png": "[encoded data removed]",
            "text/plain": [
              "<Figure size 640x480 with 1 Axes>"
            ]
          },
          "metadata": {},
          "output_type": "display_data"
        }
      ],
      "source": [
        "sns.boxplot(x=df['Days_for_shipping_(real)'],y=df['Benefit_per_order'],color='r')\n",
        "plt.title(\"Box plot representing Days for Shipping and Benefit Per Order \\n\", size = 15)"
      ]
    },
    {
      "cell_type": "markdown",
      "metadata": {
        "id": "PHIbtrKe5gKy"
      },
      "source": [
        "### Variation between Product Price and Benefit Per Order"
      ]
    },
    {
      "cell_type": "code",
      "execution_count": null,
      "metadata": {
        "colab": {
          "base_uri": "https://localhost:8080/",
          "height": 524
        },
        "id": "jeQn0Pp24vCx",
        "outputId": "3896f024-6bbd-4fd8-87a5-6469d9f88662"
      },
      "outputs": [
        {
          "data": {
            "text/plain": [
              "Text(0.5, 1.0, 'Box plot representing Product Price and Benefit Per Order \\n')"
            ]
          },
          "execution_count": 26,
          "metadata": {},
          "output_type": "execute_result"
        },
        {
          "data": {
            "image/png": "[encoded data removed]",
            "text/plain": [
              "<Figure size 640x480 with 1 Axes>"
            ]
          },
          "metadata": {},
          "output_type": "display_data"
        }
      ],
      "source": [
        "sns.boxplot(x=df['Product_Price'],y=df['Benefit_per_order'],color='r')\n",
        "plt.title(\"Box plot representing Product Price and Benefit Per Order \\n\", size = 15)"
      ]
    },
    {
      "cell_type": "markdown",
      "metadata": {
        "id": "HhcVGboT8j5y"
      },
      "source": [
        "### Scatterplot representing relationship between Sales per Customer and Benefit Per Order as per Delivery Status"
      ]
    },
    {
      "cell_type": "code",
      "execution_count": null,
      "metadata": {
        "colab": {
          "base_uri": "https://localhost:8080/",
          "height": 516
        },
        "id": "9ZKRUwme8kCO",
        "outputId": "c3ad63bf-dc95-4c23-bbd1-a944505f740b"
      },
      "outputs": [
        {
          "data": {
            "text/plain": [
              "Text(0.5, 1.0, 'Relationship between Sales per Customer and Benefit Per Order as per Delivery Status')"
            ]
          },
          "execution_count": 27,
          "metadata": {},
          "output_type": "execute_result"
        },
        {
          "data": {
            "image/png": "[encoded data removed]",
            "text/plain": [
              "<Figure size 1000x500 with 1 Axes>"
            ]
          },
          "metadata": {},
          "output_type": "display_data"
        }
      ],
      "source": [
        "plt.figure(figsize=(10,5))\n",
        "sns.scatterplot(x=\"Sales_per_customer\",y=\"Benefit_per_order\",hue=\"Delivery_Status\",data=df)\n",
        "plt.title('Relationship between Sales per Customer and Benefit Per Order as per Delivery Status',size=15)"
      ]
    },
    {
      "cell_type": "markdown",
      "metadata": {
        "id": "cRRxusEoO6lI"
      },
      "source": [
        "#**7. Data Preprocessing**"
      ]
    },
    {
      "cell_type": "markdown",
      "metadata": {
        "id": "hrL12XjYO6lI"
      },
      "source": [
        "Data Preprocessing is an important step in predictive analytics. It helps us to eliminate outliers, manage missing values, and handle categorical variables. Our data preprocessing steps includes:\n",
        "- Dropping Variables\n",
        "- Data Scaling(Normalization/ Standardization)\n",
        "- Missing Value Imputation (Was done earlier in the code)"
      ]
    },
    {
      "cell_type": "markdown",
      "metadata": {
        "id": "cNqffOo-O6lI"
      },
      "source": [
        "### a. Dropping Variables"
      ]
    },
    {
      "cell_type": "code",
      "execution_count": null,
      "metadata": {
        "colab": {
          "base_uri": "https://localhost:8080/"
        },
        "id": "eBViwiNBO6lI",
        "outputId": "661dd7b6-696f-4189-ddfa-d31be20847e9"
      },
      "outputs": [
        {
          "name": "stderr",
          "output_type": "stream",
          "text": [
            "<ipython-input-28-cb4b1b98ab73>:2: FutureWarning: The default value of numeric_only in DataFrame.std is deprecated. In a future version, it will default to False. In addition, specifying 'numeric_only=None' is deprecated. Select only valid columns or specify the value of numeric_only to silence this warning.\n",
            "  df.std()\n"
          ]
        },
        {
          "data": {
            "text/plain": [
              "Days_for_shipping_(real)             1.545516\n",
              "Days_for_shipment_(scheduled)        1.251830\n",
              "Benefit_per_order                  110.543832\n",
              "Sales_per_customer                 120.686932\n",
              "Late_delivery_risk                   0.498480\n",
              "Category_Id                         16.538863\n",
              "Customer_Id                       4542.817232\n",
              "Customer_Zipcode                 36684.605594\n",
              "Department_Id                        1.612280\n",
              "Latitude                             9.865790\n",
              "Longitude                           21.063133\n",
              "Order_Customer_Id                 4542.817232\n",
              "Order_Id                         21577.612697\n",
              "Order_Item_Cardprod_Id             334.010498\n",
              "Order_Item_Discount                 22.255595\n",
              "Order_Item_Discount_Rate             0.070626\n",
              "Order_Item_Id                    53008.986144\n",
              "Order_Item_Product_Price           130.234442\n",
              "Order_Item_Profit_Ratio              0.460543\n",
              "Order_Item_Quantity                  1.588501\n",
              "Sales                              133.627943\n",
              "Order_Item_Total                   120.686932\n",
              "Order_Profit_Per_Order             110.543832\n",
              "Product_Card_Id                    334.010498\n",
              "Product_Category_Id                 16.538863\n",
              "Product_Price                      130.234442\n",
              "Product_Status                       0.000000\n",
              "dtype: float64"
            ]
          },
          "execution_count": 28,
          "metadata": {},
          "output_type": "execute_result"
        }
      ],
      "source": [
        "#Dropping Numerical Variables with Zero Variance\n",
        "df.std()"
      ]
    },
    {
      "cell_type": "code",
      "execution_count": null,
      "metadata": {
        "colab": {
          "base_uri": "https://localhost:8080/"
        },
        "id": "Y9YFjHu_O6lI",
        "outputId": "6624e5ea-4850-4c82-f58b-1a602d6ba7d6"
      },
      "outputs": [
        {
          "data": {
            "text/plain": [
              "['Customer_Email', 'Customer_Password', 'Product_Description']"
            ]
          },
          "execution_count": 29,
          "metadata": {},
          "output_type": "execute_result"
        }
      ],
      "source": [
        "#Dropping Categorical Variables with zero variation\n",
        "categorical_var = list(df.select_dtypes(include=object).columns)\n",
        "zero_cardinality = []\n",
        "for column in categorical_var:\n",
        "    if len(df[column].value_counts().index)==1:\n",
        "        zero_cardinality.append(column)\n",
        "zero_cardinality"
      ]
    },
    {
      "cell_type": "code",
      "execution_count": null,
      "metadata": {
        "colab": {
          "base_uri": "https://localhost:8080/"
        },
        "id": "175w1O2XO6lJ",
        "outputId": "321cac9b-0f55-44a8-deaa-74bbe34c3db4"
      },
      "outputs": [
        {
          "data": {
            "text/plain": [
              "['Customer_City',\n",
              " 'Customer_Fname',\n",
              " 'Customer_Lname',\n",
              " 'Customer_Street',\n",
              " 'Order_City',\n",
              " 'Order_Country',\n",
              " 'order_date_(DateOrders)',\n",
              " 'Order_State',\n",
              " 'Order_Zipcode',\n",
              " 'shipping_date_(DateOrders)']"
            ]
          },
          "execution_count": 30,
          "metadata": {},
          "output_type": "execute_result"
        }
      ],
      "source": [
        "#Dropping Categorical Variables with Multiple Levels:\n",
        "high_cardinality = []\n",
        "for column in categorical_var:\n",
        "    if len(df[column].value_counts().index)>100:\n",
        "        high_cardinality.append(column)\n",
        "high_cardinality"
      ]
    },
    {
      "cell_type": "markdown",
      "metadata": {
        "id": "5UYA59dgO6lJ"
      },
      "source": [
        "The categorical variables with Multiple Levels are still important to us so we will be dropping only the ones with Zero Variance plus any columns that will not be valuable for this study. "
      ]
    },
    {
      "cell_type": "code",
      "execution_count": null,
      "metadata": {
        "id": "9y4OIyRMLBy2"
      },
      "outputs": [],
      "source": [
        "#Dropping relationship column\n",
        "df=df.drop('Customer_Email',axis=1)\n",
        "df=df.drop('Customer_Password',axis=1)\n",
        "df=df.drop('Product_Description',axis=1)\n",
        "df=df.drop('Product_Image',axis=1)\n",
        "df=df.drop('Product_Status',axis=1)\n",
        "df=df.drop('Order_Zipcode',axis=1)\n",
        "df=df.drop('Customer_City',axis=1)\n",
        "df=df.drop('Customer_Country',axis=1)\n",
        "df=df.drop('Customer_Fname',axis=1)\n",
        "df=df.drop('Customer_Lname',axis=1)\n",
        "df=df.drop('Customer_Id',axis=1)\n",
        "df=df.drop('Customer_Street',axis=1)\n",
        "df=df.drop('Customer_State',axis=1)\n",
        "df=df.drop('Customer_Zipcode',axis=1)\n",
        "df=df.drop('Latitude',axis=1)\n",
        "df=df.drop('Longitude',axis=1)\n",
        "df=df.drop('Order_City',axis=1)\n",
        "df=df.drop('Order_Id',axis=1)\n",
        "df=df.drop('Order_State',axis=1)\n",
        "df=df.drop('Market',axis=1)\n",
        "df=df.drop('Order_Customer_Id',axis=1)\n",
        "df=df.drop('Order_Item_Cardprod_Id',axis=1)\n",
        "df=df.drop('Order_Item_Id',axis=1)"
      ]
    },
    {
      "cell_type": "code",
      "execution_count": null,
      "metadata": {
        "colab": {
          "base_uri": "https://localhost:8080/"
        },
        "id": "N9DhZomXi8D3",
        "outputId": "f277563e-8516-4d63-9b35-2bfb66959115"
      },
      "outputs": [
        {
          "data": {
            "text/plain": [
              "Index(['Type', 'Days_for_shipping_(real)', 'Days_for_shipment_(scheduled)',\n",
              "       'Benefit_per_order', 'Sales_per_customer', 'Delivery_Status',\n",
              "       'Late_delivery_risk', 'Category_Id', 'Category_Name',\n",
              "       'Customer_Segment', 'Department_Id', 'Department_Name', 'Order_Country',\n",
              "       'order_date_(DateOrders)', 'Order_Item_Discount',\n",
              "       'Order_Item_Discount_Rate', 'Order_Item_Product_Price',\n",
              "       'Order_Item_Profit_Ratio', 'Order_Item_Quantity', 'Sales',\n",
              "       'Order_Item_Total', 'Order_Profit_Per_Order', 'Order_Region',\n",
              "       'Order_Status', 'Product_Card_Id', 'Product_Category_Id',\n",
              "       'Product_Name', 'Product_Price', 'shipping_date_(DateOrders)',\n",
              "       'Shipping_Mode', 'Year'],\n",
              "      dtype='object')"
            ]
          },
          "execution_count": 32,
          "metadata": {},
          "output_type": "execute_result"
        }
      ],
      "source": [
        "df.columns"
      ]
    },
    {
      "cell_type": "markdown",
      "metadata": {
        "id": "GoZOibPDpHBK"
      },
      "source": [
        "From 53 to 40 Columns"
      ]
    },
    {
      "cell_type": "markdown",
      "metadata": {
        "id": "hm-f9ujcO6lJ"
      },
      "source": [
        "### b. Standardizing Numerical Variables"
      ]
    },
    {
      "cell_type": "markdown",
      "metadata": {
        "id": "9d1UiLDzO6lK"
      },
      "source": [
        "For the purpose of this project, we will standardize the numerical variables. While there is no any specific way to determine whether to normalize or standardize, we chose standardization as our model uses multiple numerical variables. "
      ]
    },
    {
      "cell_type": "code",
      "execution_count": null,
      "metadata": {
        "id": "9HWFKS3MO6lK"
      },
      "outputs": [],
      "source": [
        "\n",
        "#Standarizing numerical variables\n",
        "numerical_var = list(df.select_dtypes(exclude=object).columns)\n",
        "array = df[numerical_var].values\n",
        "scaler = StandardScaler().fit(array)\n",
        "df[numerical_var] = pd.DataFrame(scaler.transform(array))\n"
      ]
    },
    {
      "cell_type": "code",
      "execution_count": null,
      "metadata": {
        "colab": {
          "base_uri": "https://localhost:8080/",
          "height": 270
        },
        "id": "K4bf3eSOO6lK",
        "outputId": "ed3afbc5-24ad-432d-f979-bbfa9a9a1f77"
      },
      "outputs": [
        {
          "data": {
            "text/html": [
              "\n",
              "  <div id=\"df-51691587-e447-4b5c-9047-d808afe9a936\">\n",
              "    <div class=\"colab-df-container\">\n",
              "      <div>\n",
              "<style scoped>\n",
              "    .dataframe tbody tr th:only-of-type {\n",
              "        vertical-align: middle;\n",
              "    }\n",
              "\n",
              "    .dataframe tbody tr th {\n",
              "        vertical-align: top;\n",
              "    }\n",
              "\n",
              "    .dataframe thead th {\n",
              "        text-align: right;\n",
              "    }\n",
              "</style>\n",
              "<table border=\"1\" class=\"dataframe\">\n",
              "  <thead>\n",
              "    <tr style=\"text-align: right;\">\n",
              "      <th></th>\n",
              "      <th>Days_for_shipping_(real)</th>\n",
              "      <th>Days_for_shipment_(scheduled)</th>\n",
              "      <th>Benefit_per_order</th>\n",
              "      <th>Sales_per_customer</th>\n",
              "      <th>Late_delivery_risk</th>\n",
              "      <th>Category_Id</th>\n",
              "      <th>Department_Id</th>\n",
              "      <th>Order_Item_Discount</th>\n",
              "      <th>Order_Item_Discount_Rate</th>\n",
              "      <th>Order_Item_Product_Price</th>\n",
              "      <th>Order_Item_Profit_Ratio</th>\n",
              "      <th>Order_Item_Quantity</th>\n",
              "      <th>Sales</th>\n",
              "      <th>Order_Item_Total</th>\n",
              "      <th>Order_Profit_Per_Order</th>\n",
              "      <th>Product_Card_Id</th>\n",
              "      <th>Product_Category_Id</th>\n",
              "      <th>Product_Price</th>\n",
              "    </tr>\n",
              "  </thead>\n",
              "  <tbody>\n",
              "    <tr>\n",
              "      <th>0</th>\n",
              "      <td>-0.423463</td>\n",
              "      <td>0.730703</td>\n",
              "      <td>0.630253</td>\n",
              "      <td>1.100416</td>\n",
              "      <td>-1.081791</td>\n",
              "      <td>2.835339</td>\n",
              "      <td>-1.599873</td>\n",
              "      <td>-0.351034</td>\n",
              "      <td>-0.895589</td>\n",
              "      <td>1.605608</td>\n",
              "      <td>0.364679</td>\n",
              "      <td>-0.958532</td>\n",
              "      <td>0.935385</td>\n",
              "      <td>1.100416</td>\n",
              "      <td>0.630253</td>\n",
              "      <td>2.413851</td>\n",
              "      <td>2.835339</td>\n",
              "      <td>1.605608</td>\n",
              "    </tr>\n",
              "    <tr>\n",
              "      <th>1</th>\n",
              "      <td>0.870657</td>\n",
              "      <td>0.730703</td>\n",
              "      <td>-2.448654</td>\n",
              "      <td>1.073237</td>\n",
              "      <td>0.924393</td>\n",
              "      <td>2.835339</td>\n",
              "      <td>-1.599873</td>\n",
              "      <td>-0.203649</td>\n",
              "      <td>-0.753993</td>\n",
              "      <td>1.605608</td>\n",
              "      <td>-2.002190</td>\n",
              "      <td>-0.958532</td>\n",
              "      <td>0.935385</td>\n",
              "      <td>1.073237</td>\n",
              "      <td>-2.448654</td>\n",
              "      <td>2.413851</td>\n",
              "      <td>2.835339</td>\n",
              "      <td>1.605608</td>\n",
              "    </tr>\n",
              "    <tr>\n",
              "      <th>2</th>\n",
              "      <td>0.223597</td>\n",
              "      <td>0.730703</td>\n",
              "      <td>-2.436803</td>\n",
              "      <td>1.059648</td>\n",
              "      <td>-1.081791</td>\n",
              "      <td>2.835339</td>\n",
              "      <td>-1.599873</td>\n",
              "      <td>-0.129957</td>\n",
              "      <td>-0.612397</td>\n",
              "      <td>1.605608</td>\n",
              "      <td>-2.002190</td>\n",
              "      <td>-0.958532</td>\n",
              "      <td>0.935385</td>\n",
              "      <td>1.059648</td>\n",
              "      <td>-2.436803</td>\n",
              "      <td>2.413851</td>\n",
              "      <td>2.835339</td>\n",
              "      <td>1.605608</td>\n",
              "    </tr>\n",
              "    <tr>\n",
              "      <th>3</th>\n",
              "      <td>-0.423463</td>\n",
              "      <td>0.730703</td>\n",
              "      <td>0.011559</td>\n",
              "      <td>1.018962</td>\n",
              "      <td>-1.081791</td>\n",
              "      <td>2.835339</td>\n",
              "      <td>-1.599873</td>\n",
              "      <td>0.090671</td>\n",
              "      <td>-0.470801</td>\n",
              "      <td>1.605608</td>\n",
              "      <td>-0.091323</td>\n",
              "      <td>-0.958532</td>\n",
              "      <td>0.935385</td>\n",
              "      <td>1.018962</td>\n",
              "      <td>0.011559</td>\n",
              "      <td>2.413851</td>\n",
              "      <td>2.835339</td>\n",
              "      <td>1.605608</td>\n",
              "    </tr>\n",
              "    <tr>\n",
              "      <th>4</th>\n",
              "      <td>-1.070524</td>\n",
              "      <td>0.730703</td>\n",
              "      <td>1.018894</td>\n",
              "      <td>0.964604</td>\n",
              "      <td>-1.081791</td>\n",
              "      <td>2.835339</td>\n",
              "      <td>-1.599873</td>\n",
              "      <td>0.385441</td>\n",
              "      <td>-0.187609</td>\n",
              "      <td>1.605608</td>\n",
              "      <td>0.712110</td>\n",
              "      <td>-0.958532</td>\n",
              "      <td>0.935385</td>\n",
              "      <td>0.964604</td>\n",
              "      <td>1.018894</td>\n",
              "      <td>2.413851</td>\n",
              "      <td>2.835339</td>\n",
              "      <td>1.605608</td>\n",
              "    </tr>\n",
              "  </tbody>\n",
              "</table>\n",
              "</div>\n",
              "      <button class=\"colab-df-convert\" onclick=\"convertToInteractive('df-51691587-e447-4b5c-9047-d808afe9a936')\"\n",
              "              title=\"Convert this dataframe to an interactive table.\"\n",
              "              style=\"display:none;\">\n",
              "        \n",
              "  <svg xmlns=\"http://www.w3.org/2000/svg\" height=\"24px\"viewBox=\"0 0 24 24\"\n",
              "       width=\"24px\">\n",
              "    <path d=\"M0 0h24v24H0V0z\" fill=\"none\"/>\n",
              "    <path d=\"M18.56 5.44l.94 2.06.94-2.06 2.06-.94-2.06-.94-.94-2.06-.94 2.06-2.06.94zm-11 1L8.5 8.5l.94-2.06 2.06-.94-2.06-.94L8.5 2.5l-.94 2.06-2.06.94zm10 10l.94 2.06.94-2.06 2.06-.94-2.06-.94-.94-2.06-.94 2.06-2.06.94z\"/><path d=\"M17.41 7.96l-1.37-1.37c-.4-.4-.92-.59-1.43-.59-.52 0-1.04.2-1.43.59L10.3 9.45l-7.72 7.72c-.78.78-.78 2.05 0 2.83L4 21.41c.39.39.9.59 1.41.59.51 0 1.02-.2 1.41-.59l7.78-7.78 2.81-2.81c.8-.78.8-2.07 0-2.86zM5.41 20L4 18.59l7.72-7.72 1.47 1.35L5.41 20z\"/>\n",
              "  </svg>\n",
              "      </button>\n",
              "      \n",
              "  <style>\n",
              "    .colab-df-container {\n",
              "      display:flex;\n",
              "      flex-wrap:wrap;\n",
              "      gap: 12px;\n",
              "    }\n",
              "\n",
              "    .colab-df-convert {\n",
              "      background-color: #E8F0FE;\n",
              "      border: none;\n",
              "      border-radius: 50%;\n",
              "      cursor: pointer;\n",
              "      display: none;\n",
              "      fill: #1967D2;\n",
              "      height: 32px;\n",
              "      padding: 0 0 0 0;\n",
              "      width: 32px;\n",
              "    }\n",
              "\n",
              "    .colab-df-convert:hover {\n",
              "      background-color: #E2EBFA;\n",
              "      box-shadow: 0px 1px 2px rgba(60, 64, 67, 0.3), 0px 1px 3px 1px rgba(60, 64, 67, 0.15);\n",
              "      fill: #174EA6;\n",
              "    }\n",
              "\n",
              "    [theme=dark] .colab-df-convert {\n",
              "      background-color: #3B4455;\n",
              "      fill: #D2E3FC;\n",
              "    }\n",
              "\n",
              "    [theme=dark] .colab-df-convert:hover {\n",
              "      background-color: #434B5C;\n",
              "      box-shadow: 0px 1px 3px 1px rgba(0, 0, 0, 0.15);\n",
              "      filter: drop-shadow(0px 1px 2px rgba(0, 0, 0, 0.3));\n",
              "      fill: #FFFFFF;\n",
              "    }\n",
              "  </style>\n",
              "\n",
              "      <script>\n",
              "        const buttonEl =\n",
              "          document.querySelector('#df-51691587-e447-4b5c-9047-d808afe9a936 button.colab-df-convert');\n",
              "        buttonEl.style.display =\n",
              "          google.colab.kernel.accessAllowed ? 'block' : 'none';\n",
              "\n",
              "        async function convertToInteractive(key) {\n",
              "          const element = document.querySelector('#df-51691587-e447-4b5c-9047-d808afe9a936');\n",
              "          const dataTable =\n",
              "            await google.colab.kernel.invokeFunction('convertToInteractive',\n",
              "                                                     [key], {});\n",
              "          if (!dataTable) return;\n",
              "\n",
              "          const docLinkHtml = 'Like what you see? Visit the ' +\n",
              "            '<a target=\"_blank\" href=https://colab.research.google.com/notebooks/data_table.ipynb>data table notebook</a>'\n",
              "            + ' to learn more about interactive tables.';\n",
              "          element.innerHTML = '';\n",
              "          dataTable['output_type'] = 'display_data';\n",
              "          await google.colab.output.renderOutput(dataTable, element);\n",
              "          const docLink = document.createElement('div');\n",
              "          docLink.innerHTML = docLinkHtml;\n",
              "          element.appendChild(docLink);\n",
              "        }\n",
              "      </script>\n",
              "    </div>\n",
              "  </div>\n",
              "  "
            ],
            "text/plain": [
              "   Days_for_shipping_(real)  Days_for_shipment_(scheduled)  Benefit_per_order  \\\n",
              "0                 -0.423463                       0.730703           0.630253   \n",
              "1                  0.870657                       0.730703          -2.448654   \n",
              "2                  0.223597                       0.730703          -2.436803   \n",
              "3                 -0.423463                       0.730703           0.011559   \n",
              "4                 -1.070524                       0.730703           1.018894   \n",
              "\n",
              "   Sales_per_customer  Late_delivery_risk  Category_Id  Department_Id  \\\n",
              "0            1.100416           -1.081791     2.835339      -1.599873   \n",
              "1            1.073237            0.924393     2.835339      -1.599873   \n",
              "2            1.059648           -1.081791     2.835339      -1.599873   \n",
              "3            1.018962           -1.081791     2.835339      -1.599873   \n",
              "4            0.964604           -1.081791     2.835339      -1.599873   \n",
              "\n",
              "   Order_Item_Discount  Order_Item_Discount_Rate  Order_Item_Product_Price  \\\n",
              "0            -0.351034                 -0.895589                  1.605608   \n",
              "1            -0.203649                 -0.753993                  1.605608   \n",
              "2            -0.129957                 -0.612397                  1.605608   \n",
              "3             0.090671                 -0.470801                  1.605608   \n",
              "4             0.385441                 -0.187609                  1.605608   \n",
              "\n",
              "   Order_Item_Profit_Ratio  Order_Item_Quantity     Sales  Order_Item_Total  \\\n",
              "0                 0.364679            -0.958532  0.935385          1.100416   \n",
              "1                -2.002190            -0.958532  0.935385          1.073237   \n",
              "2                -2.002190            -0.958532  0.935385          1.059648   \n",
              "3                -0.091323            -0.958532  0.935385          1.018962   \n",
              "4                 0.712110            -0.958532  0.935385          0.964604   \n",
              "\n",
              "   Order_Profit_Per_Order  Product_Card_Id  Product_Category_Id  Product_Price  \n",
              "0                0.630253         2.413851             2.835339       1.605608  \n",
              "1               -2.448654         2.413851             2.835339       1.605608  \n",
              "2               -2.436803         2.413851             2.835339       1.605608  \n",
              "3                0.011559         2.413851             2.835339       1.605608  \n",
              "4                1.018894         2.413851             2.835339       1.605608  "
            ]
          },
          "execution_count": 34,
          "metadata": {},
          "output_type": "execute_result"
        }
      ],
      "source": [
        "#checking in our numerical variables are not standarized\n",
        "df[numerical_var].head()"
      ]
    },
    {
      "cell_type": "markdown",
      "metadata": {
        "id": "zep0gJooO6lK"
      },
      "source": [
        "### c. Data Imputation"
      ]
    },
    {
      "cell_type": "markdown",
      "metadata": {
        "id": "eY_DA7HBO6lL"
      },
      "source": [
        "Was done in the Data visualization Process"
      ]
    },
    {
      "cell_type": "markdown",
      "metadata": {
        "id": "m4JH4x479gKx"
      },
      "source": [
        "#**8. Predictive analytics**"
      ]
    },
    {
      "cell_type": "markdown",
      "metadata": {
        "id": "94U8Xsnc_SM3"
      },
      "source": [
        "Fitting a Model"
      ]
    },
    {
      "cell_type": "markdown",
      "metadata": {
        "id": "gvgE1Fjz_CYp"
      },
      "source": [
        "Predictive analytics can be divided into three parts:<br>\n",
        "a) Supervised Learning <br>\n",
        "b) Unsupervised Learning<br>\n",
        "c) Reinforcement Learning<br>\n",
        "\n",
        "Our project falls under supervised learning category as have a target variable (profit) generated by feeding other input variables. Specifically, it falls under classification as we are predicting binary outcomes (i.e. whether its profit or loss). The classification algorithms used to test our model are:\n",
        "<br>\n",
        "Logistic Regression<br>\n",
        "Decision Trees<br>\n",
        "Random Forest<br>\n",
        "K-NN<br>\n",
        "Vector Machine<br>\n",
        "Neural Network<br>"
      ]
    },
    {
      "cell_type": "markdown",
      "metadata": {
        "id": "2_JoBXT-_tvx"
      },
      "source": [
        "Importing Clasification Algorithms"
      ]
    },
    {
      "cell_type": "code",
      "execution_count": null,
      "metadata": {
        "id": "VUqSi2jp_tHd"
      },
      "outputs": [],
      "source": [
        "from scipy import stats\n",
        "import matplotlib.pyplot as plt\n",
        "import seaborn as sns\n",
        "from sklearn.linear_model import LinearRegression\n",
        "from sklearn.linear_model import LogisticRegression\n",
        "from sklearn.model_selection import cross_val_score\n",
        "from sklearn.tree import DecisionTreeClassifier\n",
        "from sklearn.ensemble import RandomForestClassifier\n",
        "from sklearn.neighbors import KNeighborsClassifier\n",
        "from sklearn import svm\n",
        "from sklearn.neural_network import MLPClassifier\n",
        "from sklearn.metrics import confusion_matrix\n",
        "from sklearn.metrics import roc_curve, auc"
      ]
    },
    {
      "cell_type": "code",
      "execution_count": null,
      "metadata": {
        "colab": {
          "base_uri": "https://localhost:8080/"
        },
        "id": "IF4acxVUjVEF",
        "outputId": "af3fd7ba-7e53-4e11-f2c6-daad960eccdb"
      },
      "outputs": [
        {
          "data": {
            "text/plain": [
              "Index(['Type', 'Days_for_shipping_(real)', 'Days_for_shipment_(scheduled)',\n",
              "       'Benefit_per_order', 'Sales_per_customer', 'Delivery_Status',\n",
              "       'Late_delivery_risk', 'Category_Id', 'Category_Name',\n",
              "       'Customer_Segment', 'Department_Id', 'Department_Name', 'Order_Country',\n",
              "       'order_date_(DateOrders)', 'Order_Item_Discount',\n",
              "       'Order_Item_Discount_Rate', 'Order_Item_Product_Price',\n",
              "       'Order_Item_Profit_Ratio', 'Order_Item_Quantity', 'Sales',\n",
              "       'Order_Item_Total', 'Order_Profit_Per_Order', 'Order_Region',\n",
              "       'Order_Status', 'Product_Card_Id', 'Product_Category_Id',\n",
              "       'Product_Name', 'Product_Price', 'shipping_date_(DateOrders)',\n",
              "       'Shipping_Mode', 'Year'],\n",
              "      dtype='object')"
            ]
          },
          "execution_count": 36,
          "metadata": {},
          "output_type": "execute_result"
        }
      ],
      "source": [
        "df.columns"
      ]
    },
    {
      "cell_type": "code",
      "execution_count": null,
      "metadata": {
        "colab": {
          "base_uri": "https://localhost:8080/"
        },
        "id": "BEmBwgcTAmOU",
        "outputId": "b569b895-5e9d-4694-bfac-4d4e7682bd5b"
      },
      "outputs": [
        {
          "name": "stderr",
          "output_type": "stream",
          "text": [
            "<ipython-input-54-3ddc8993a115>:2: FutureWarning: Passing a set as an indexer is deprecated and will raise in a future version. Use a list instead.\n",
            "  X = df[input_var]\n"
          ]
        }
      ],
      "source": [
        "input_var  = set(['Sales','Order_Profit_Per_Order','Product_Price','Year'])\n",
        "X = df[input_var]\n",
        "Y = df['Benefit_per_order']\n",
        "\n",
        "models = ['LogisticReg', 'DecisionTree', 'RandomForest', 'KNN','Support Vector Machine','Neural Networks']\n",
        "\n",
        "from sklearn.model_selection import train_test_split\n",
        "X_train, X_test, Y_train, Y_test = train_test_split(X, Y, test_size=0.70, random_state=42)\n"
      ]
    },
    {
      "cell_type": "markdown",
      "metadata": {
        "id": "pdOG4xOUA54_"
      },
      "source": [
        "Logistic Regression"
      ]
    },
    {
      "cell_type": "code",
      "execution_count": null,
      "metadata": {
        "colab": {
          "background_save": true,
          "base_uri": "https://localhost:8080/",
          "height": 238
        },
        "id": "J5hRsQX-A7R0",
        "outputId": "a420c0e7-d8e7-4cd9-ad36-97779c8b2799"
      },
      "outputs": [
        {
          "name": "stderr",
          "output_type": "stream",
          "text": [
            "/usr/local/lib/python3.10/dist-packages/sklearn/linear_model/_logistic.py:458: ConvergenceWarning: lbfgs failed to converge (status=2):\n",
            "ABNORMAL_TERMINATION_IN_LNSRCH.\n",
            "\n",
            "Increase the number of iterations (max_iter) or scale the data as shown in:\n",
            "    https://scikit-learn.org/stable/modules/preprocessing.html\n",
            "Please also refer to the documentation for alternative solver options:\n",
            "    https://scikit-learn.org/stable/modules/linear_model.html#logistic-regression\n",
            "  n_iter_i = _check_optimize_result(\n"
          ]
        },
        {
          "data": {
            "text/html": [
              "<style>#sk-container-id-7 {color: black;background-color: white;}#sk-container-id-7 pre{padding: 0;}#sk-container-id-7 div.sk-toggleable {background-color: white;}#sk-container-id-7 label.sk-toggleable__label {cursor: pointer;display: block;width: 100%;margin-bottom: 0;padding: 0.3em;box-sizing: border-box;text-align: center;}#sk-container-id-7 label.sk-toggleable__label-arrow:before {content: \"▸\";float: left;margin-right: 0.25em;color: #696969;}#sk-container-id-7 label.sk-toggleable__label-arrow:hover:before {color: black;}#sk-container-id-7 div.sk-estimator:hover label.sk-toggleable__label-arrow:before {color: black;}#sk-container-id-7 div.sk-toggleable__content {max-height: 0;max-width: 0;overflow: hidden;text-align: left;background-color: #f0f8ff;}#sk-container-id-7 div.sk-toggleable__content pre {margin: 0.2em;color: black;border-radius: 0.25em;background-color: #f0f8ff;}#sk-container-id-7 input.sk-toggleable__control:checked~div.sk-toggleable__content {max-height: 200px;max-width: 100%;overflow: auto;}#sk-container-id-7 input.sk-toggleable__control:checked~label.sk-toggleable__label-arrow:before {content: \"▾\";}#sk-container-id-7 div.sk-estimator input.sk-toggleable__control:checked~label.sk-toggleable__label {background-color: #d4ebff;}#sk-container-id-7 div.sk-label input.sk-toggleable__control:checked~label.sk-toggleable__label {background-color: #d4ebff;}#sk-container-id-7 input.sk-hidden--visually {border: 0;clip: rect(1px 1px 1px 1px);clip: rect(1px, 1px, 1px, 1px);height: 1px;margin: -1px;overflow: hidden;padding: 0;position: absolute;width: 1px;}#sk-container-id-7 div.sk-estimator {font-family: monospace;background-color: #f0f8ff;border: 1px dotted black;border-radius: 0.25em;box-sizing: border-box;margin-bottom: 0.5em;}#sk-container-id-7 div.sk-estimator:hover {background-color: #d4ebff;}#sk-container-id-7 div.sk-parallel-item::after {content: \"\";width: 100%;border-bottom: 1px solid gray;flex-grow: 1;}#sk-container-id-7 div.sk-label:hover label.sk-toggleable__label {background-color: #d4ebff;}#sk-container-id-7 div.sk-serial::before {content: \"\";position: absolute;border-left: 1px solid gray;box-sizing: border-box;top: 0;bottom: 0;left: 50%;z-index: 0;}#sk-container-id-7 div.sk-serial {display: flex;flex-direction: column;align-items: center;background-color: white;padding-right: 0.2em;padding-left: 0.2em;position: relative;}#sk-container-id-7 div.sk-item {position: relative;z-index: 1;}#sk-container-id-7 div.sk-parallel {display: flex;align-items: stretch;justify-content: center;background-color: white;position: relative;}#sk-container-id-7 div.sk-item::before, #sk-container-id-7 div.sk-parallel-item::before {content: \"\";position: absolute;border-left: 1px solid gray;box-sizing: border-box;top: 0;bottom: 0;left: 50%;z-index: -1;}#sk-container-id-7 div.sk-parallel-item {display: flex;flex-direction: column;z-index: 1;position: relative;background-color: white;}#sk-container-id-7 div.sk-parallel-item:first-child::after {align-self: flex-end;width: 50%;}#sk-container-id-7 div.sk-parallel-item:last-child::after {align-self: flex-start;width: 50%;}#sk-container-id-7 div.sk-parallel-item:only-child::after {width: 0;}#sk-container-id-7 div.sk-dashed-wrapped {border: 1px dashed gray;margin: 0 0.4em 0.5em 0.4em;box-sizing: border-box;padding-bottom: 0.4em;background-color: white;}#sk-container-id-7 div.sk-label label {font-family: monospace;font-weight: bold;display: inline-block;line-height: 1.2em;}#sk-container-id-7 div.sk-label-container {text-align: center;}#sk-container-id-7 div.sk-container {/* jupyter's `normalize.less` sets `[hidden] { display: none; }` but bootstrap.min.css set `[hidden] { display: none !important; }` so we also need the `!important` here to be able to override the default hidden behavior on the sphinx rendered scikit-learn.org. See: https://github.com/scikit-learn/scikit-learn/issues/21755 */display: inline-block !important;position: relative;}#sk-container-id-7 div.sk-text-repr-fallback {display: none;}</style><div id=\"sk-container-id-7\" class=\"sk-top-container\"><div class=\"sk-text-repr-fallback\"><pre>LogisticRegression(max_iter=1000, multi_class=&#x27;ovr&#x27;, random_state=0)</pre><b>In a Jupyter environment, please rerun this cell to show the HTML representation or trust the notebook. <br />On GitHub, the HTML representation is unable to render, please try loading this page with nbviewer.org.</b></div><div class=\"sk-container\" hidden><div class=\"sk-item\"><div class=\"sk-estimator sk-toggleable\"><input class=\"sk-toggleable__control sk-hidden--visually\" id=\"sk-estimator-id-7\" type=\"checkbox\" checked><label for=\"sk-estimator-id-7\" class=\"sk-toggleable__label sk-toggleable__label-arrow\">LogisticRegression</label><div class=\"sk-toggleable__content\"><pre>LogisticRegression(max_iter=1000, multi_class=&#x27;ovr&#x27;, random_state=0)</pre></div></div></div></div></div>"
            ],
            "text/plain": [
              "LogisticRegression(max_iter=1000, multi_class='ovr', random_state=0)"
            ]
          },
          "execution_count": 97,
          "metadata": {},
          "output_type": "execute_result"
        }
      ],
      "source": [
        "# Logistic Regression\n",
        "lab = preprocessing.LabelEncoder()\n",
        "y_transformed = lab.fit_transform(Y_train)\n",
        "\n",
        "lr = LogisticRegression(random_state=0, solver='lbfgs', multi_class='ovr',max_iter=1000) # creates a lR instance\n",
        "lr.fit(X_train, y_transformed)"
      ]
    },
    {
      "cell_type": "markdown",
      "metadata": {
        "id": "XBd9iw0GBG1Q"
      },
      "source": [
        "Decision Trees"
      ]
    },
    {
      "cell_type": "code",
      "execution_count": null,
      "metadata": {
        "colab": {
          "background_save": true,
          "base_uri": "https://localhost:8080/",
          "height": 75
        },
        "id": "1sttfrxLBH0T",
        "outputId": "5cc7f547-8bfd-4ecf-bf4c-d25bc366eaff"
      },
      "outputs": [
        {
          "data": {
            "text/html": [
              "<style>#sk-container-id-8 {color: black;background-color: white;}#sk-container-id-8 pre{padding: 0;}#sk-container-id-8 div.sk-toggleable {background-color: white;}#sk-container-id-8 label.sk-toggleable__label {cursor: pointer;display: block;width: 100%;margin-bottom: 0;padding: 0.3em;box-sizing: border-box;text-align: center;}#sk-container-id-8 label.sk-toggleable__label-arrow:before {content: \"▸\";float: left;margin-right: 0.25em;color: #696969;}#sk-container-id-8 label.sk-toggleable__label-arrow:hover:before {color: black;}#sk-container-id-8 div.sk-estimator:hover label.sk-toggleable__label-arrow:before {color: black;}#sk-container-id-8 div.sk-toggleable__content {max-height: 0;max-width: 0;overflow: hidden;text-align: left;background-color: #f0f8ff;}#sk-container-id-8 div.sk-toggleable__content pre {margin: 0.2em;color: black;border-radius: 0.25em;background-color: #f0f8ff;}#sk-container-id-8 input.sk-toggleable__control:checked~div.sk-toggleable__content {max-height: 200px;max-width: 100%;overflow: auto;}#sk-container-id-8 input.sk-toggleable__control:checked~label.sk-toggleable__label-arrow:before {content: \"▾\";}#sk-container-id-8 div.sk-estimator input.sk-toggleable__control:checked~label.sk-toggleable__label {background-color: #d4ebff;}#sk-container-id-8 div.sk-label input.sk-toggleable__control:checked~label.sk-toggleable__label {background-color: #d4ebff;}#sk-container-id-8 input.sk-hidden--visually {border: 0;clip: rect(1px 1px 1px 1px);clip: rect(1px, 1px, 1px, 1px);height: 1px;margin: -1px;overflow: hidden;padding: 0;position: absolute;width: 1px;}#sk-container-id-8 div.sk-estimator {font-family: monospace;background-color: #f0f8ff;border: 1px dotted black;border-radius: 0.25em;box-sizing: border-box;margin-bottom: 0.5em;}#sk-container-id-8 div.sk-estimator:hover {background-color: #d4ebff;}#sk-container-id-8 div.sk-parallel-item::after {content: \"\";width: 100%;border-bottom: 1px solid gray;flex-grow: 1;}#sk-container-id-8 div.sk-label:hover label.sk-toggleable__label {background-color: #d4ebff;}#sk-container-id-8 div.sk-serial::before {content: \"\";position: absolute;border-left: 1px solid gray;box-sizing: border-box;top: 0;bottom: 0;left: 50%;z-index: 0;}#sk-container-id-8 div.sk-serial {display: flex;flex-direction: column;align-items: center;background-color: white;padding-right: 0.2em;padding-left: 0.2em;position: relative;}#sk-container-id-8 div.sk-item {position: relative;z-index: 1;}#sk-container-id-8 div.sk-parallel {display: flex;align-items: stretch;justify-content: center;background-color: white;position: relative;}#sk-container-id-8 div.sk-item::before, #sk-container-id-8 div.sk-parallel-item::before {content: \"\";position: absolute;border-left: 1px solid gray;box-sizing: border-box;top: 0;bottom: 0;left: 50%;z-index: -1;}#sk-container-id-8 div.sk-parallel-item {display: flex;flex-direction: column;z-index: 1;position: relative;background-color: white;}#sk-container-id-8 div.sk-parallel-item:first-child::after {align-self: flex-end;width: 50%;}#sk-container-id-8 div.sk-parallel-item:last-child::after {align-self: flex-start;width: 50%;}#sk-container-id-8 div.sk-parallel-item:only-child::after {width: 0;}#sk-container-id-8 div.sk-dashed-wrapped {border: 1px dashed gray;margin: 0 0.4em 0.5em 0.4em;box-sizing: border-box;padding-bottom: 0.4em;background-color: white;}#sk-container-id-8 div.sk-label label {font-family: monospace;font-weight: bold;display: inline-block;line-height: 1.2em;}#sk-container-id-8 div.sk-label-container {text-align: center;}#sk-container-id-8 div.sk-container {/* jupyter's `normalize.less` sets `[hidden] { display: none; }` but bootstrap.min.css set `[hidden] { display: none !important; }` so we also need the `!important` here to be able to override the default hidden behavior on the sphinx rendered scikit-learn.org. See: https://github.com/scikit-learn/scikit-learn/issues/21755 */display: inline-block !important;position: relative;}#sk-container-id-8 div.sk-text-repr-fallback {display: none;}</style><div id=\"sk-container-id-8\" class=\"sk-top-container\"><div class=\"sk-text-repr-fallback\"><pre>DecisionTreeClassifier(max_depth=15)</pre><b>In a Jupyter environment, please rerun this cell to show the HTML representation or trust the notebook. <br />On GitHub, the HTML representation is unable to render, please try loading this page with nbviewer.org.</b></div><div class=\"sk-container\" hidden><div class=\"sk-item\"><div class=\"sk-estimator sk-toggleable\"><input class=\"sk-toggleable__control sk-hidden--visually\" id=\"sk-estimator-id-8\" type=\"checkbox\" checked><label for=\"sk-estimator-id-8\" class=\"sk-toggleable__label sk-toggleable__label-arrow\">DecisionTreeClassifier</label><div class=\"sk-toggleable__content\"><pre>DecisionTreeClassifier(max_depth=15)</pre></div></div></div></div></div>"
            ],
            "text/plain": [
              "DecisionTreeClassifier(max_depth=15)"
            ]
          },
          "execution_count": 98,
          "metadata": {},
          "output_type": "execute_result"
        }
      ],
      "source": [
        "# Decision Trees\n",
        "dt = DecisionTreeClassifier(criterion = 'gini', splitter='best', max_depth=15)\n",
        "dt.fit(X_train, y_transformed)"
      ]
    },
    {
      "cell_type": "markdown",
      "metadata": {
        "id": "jAokWfxCBIUN"
      },
      "source": [
        "Random Forest"
      ]
    },
    {
      "cell_type": "code",
      "execution_count": null,
      "metadata": {
        "colab": {
          "background_save": true,
          "base_uri": "https://localhost:8080/",
          "height": 75
        },
        "id": "JllAHN-dBMR1",
        "outputId": "323a7231-8db3-4017-a184-1451a085bb98"
      },
      "outputs": [
        {
          "data": {
            "text/html": [
              "<style>#sk-container-id-9 {color: black;background-color: white;}#sk-container-id-9 pre{padding: 0;}#sk-container-id-9 div.sk-toggleable {background-color: white;}#sk-container-id-9 label.sk-toggleable__label {cursor: pointer;display: block;width: 100%;margin-bottom: 0;padding: 0.3em;box-sizing: border-box;text-align: center;}#sk-container-id-9 label.sk-toggleable__label-arrow:before {content: \"▸\";float: left;margin-right: 0.25em;color: #696969;}#sk-container-id-9 label.sk-toggleable__label-arrow:hover:before {color: black;}#sk-container-id-9 div.sk-estimator:hover label.sk-toggleable__label-arrow:before {color: black;}#sk-container-id-9 div.sk-toggleable__content {max-height: 0;max-width: 0;overflow: hidden;text-align: left;background-color: #f0f8ff;}#sk-container-id-9 div.sk-toggleable__content pre {margin: 0.2em;color: black;border-radius: 0.25em;background-color: #f0f8ff;}#sk-container-id-9 input.sk-toggleable__control:checked~div.sk-toggleable__content {max-height: 200px;max-width: 100%;overflow: auto;}#sk-container-id-9 input.sk-toggleable__control:checked~label.sk-toggleable__label-arrow:before {content: \"▾\";}#sk-container-id-9 div.sk-estimator input.sk-toggleable__control:checked~label.sk-toggleable__label {background-color: #d4ebff;}#sk-container-id-9 div.sk-label input.sk-toggleable__control:checked~label.sk-toggleable__label {background-color: #d4ebff;}#sk-container-id-9 input.sk-hidden--visually {border: 0;clip: rect(1px 1px 1px 1px);clip: rect(1px, 1px, 1px, 1px);height: 1px;margin: -1px;overflow: hidden;padding: 0;position: absolute;width: 1px;}#sk-container-id-9 div.sk-estimator {font-family: monospace;background-color: #f0f8ff;border: 1px dotted black;border-radius: 0.25em;box-sizing: border-box;margin-bottom: 0.5em;}#sk-container-id-9 div.sk-estimator:hover {background-color: #d4ebff;}#sk-container-id-9 div.sk-parallel-item::after {content: \"\";width: 100%;border-bottom: 1px solid gray;flex-grow: 1;}#sk-container-id-9 div.sk-label:hover label.sk-toggleable__label {background-color: #d4ebff;}#sk-container-id-9 div.sk-serial::before {content: \"\";position: absolute;border-left: 1px solid gray;box-sizing: border-box;top: 0;bottom: 0;left: 50%;z-index: 0;}#sk-container-id-9 div.sk-serial {display: flex;flex-direction: column;align-items: center;background-color: white;padding-right: 0.2em;padding-left: 0.2em;position: relative;}#sk-container-id-9 div.sk-item {position: relative;z-index: 1;}#sk-container-id-9 div.sk-parallel {display: flex;align-items: stretch;justify-content: center;background-color: white;position: relative;}#sk-container-id-9 div.sk-item::before, #sk-container-id-9 div.sk-parallel-item::before {content: \"\";position: absolute;border-left: 1px solid gray;box-sizing: border-box;top: 0;bottom: 0;left: 50%;z-index: -1;}#sk-container-id-9 div.sk-parallel-item {display: flex;flex-direction: column;z-index: 1;position: relative;background-color: white;}#sk-container-id-9 div.sk-parallel-item:first-child::after {align-self: flex-end;width: 50%;}#sk-container-id-9 div.sk-parallel-item:last-child::after {align-self: flex-start;width: 50%;}#sk-container-id-9 div.sk-parallel-item:only-child::after {width: 0;}#sk-container-id-9 div.sk-dashed-wrapped {border: 1px dashed gray;margin: 0 0.4em 0.5em 0.4em;box-sizing: border-box;padding-bottom: 0.4em;background-color: white;}#sk-container-id-9 div.sk-label label {font-family: monospace;font-weight: bold;display: inline-block;line-height: 1.2em;}#sk-container-id-9 div.sk-label-container {text-align: center;}#sk-container-id-9 div.sk-container {/* jupyter's `normalize.less` sets `[hidden] { display: none; }` but bootstrap.min.css set `[hidden] { display: none !important; }` so we also need the `!important` here to be able to override the default hidden behavior on the sphinx rendered scikit-learn.org. See: https://github.com/scikit-learn/scikit-learn/issues/21755 */display: inline-block !important;position: relative;}#sk-container-id-9 div.sk-text-repr-fallback {display: none;}</style><div id=\"sk-container-id-9\" class=\"sk-top-container\"><div class=\"sk-text-repr-fallback\"><pre>RandomForestClassifier(max_depth=5, random_state=0)</pre><b>In a Jupyter environment, please rerun this cell to show the HTML representation or trust the notebook. <br />On GitHub, the HTML representation is unable to render, please try loading this page with nbviewer.org.</b></div><div class=\"sk-container\" hidden><div class=\"sk-item\"><div class=\"sk-estimator sk-toggleable\"><input class=\"sk-toggleable__control sk-hidden--visually\" id=\"sk-estimator-id-9\" type=\"checkbox\" checked><label for=\"sk-estimator-id-9\" class=\"sk-toggleable__label sk-toggleable__label-arrow\">RandomForestClassifier</label><div class=\"sk-toggleable__content\"><pre>RandomForestClassifier(max_depth=5, random_state=0)</pre></div></div></div></div></div>"
            ],
            "text/plain": [
              "RandomForestClassifier(max_depth=5, random_state=0)"
            ]
          },
          "execution_count": 99,
          "metadata": {},
          "output_type": "execute_result"
        }
      ],
      "source": [
        "# Random Forests\n",
        "rf = RandomForestClassifier(n_estimators=100, max_depth=5, random_state=0)\n",
        "rf.fit(X_train, y_transformed)"
      ]
    },
    {
      "cell_type": "markdown",
      "metadata": {
        "id": "P2iW3nvIBO6E"
      },
      "source": [
        "KNN"
      ]
    },
    {
      "cell_type": "code",
      "execution_count": null,
      "metadata": {
        "colab": {
          "background_save": true,
          "base_uri": "https://localhost:8080/",
          "height": 75
        },
        "id": "LE8dvz6KBPVN",
        "outputId": "13e633b1-0ea7-4fcc-e8d8-820744c30a8f"
      },
      "outputs": [
        {
          "data": {
            "text/html": [
              "<style>#sk-container-id-10 {color: black;background-color: white;}#sk-container-id-10 pre{padding: 0;}#sk-container-id-10 div.sk-toggleable {background-color: white;}#sk-container-id-10 label.sk-toggleable__label {cursor: pointer;display: block;width: 100%;margin-bottom: 0;padding: 0.3em;box-sizing: border-box;text-align: center;}#sk-container-id-10 label.sk-toggleable__label-arrow:before {content: \"▸\";float: left;margin-right: 0.25em;color: #696969;}#sk-container-id-10 label.sk-toggleable__label-arrow:hover:before {color: black;}#sk-container-id-10 div.sk-estimator:hover label.sk-toggleable__label-arrow:before {color: black;}#sk-container-id-10 div.sk-toggleable__content {max-height: 0;max-width: 0;overflow: hidden;text-align: left;background-color: #f0f8ff;}#sk-container-id-10 div.sk-toggleable__content pre {margin: 0.2em;color: black;border-radius: 0.25em;background-color: #f0f8ff;}#sk-container-id-10 input.sk-toggleable__control:checked~div.sk-toggleable__content {max-height: 200px;max-width: 100%;overflow: auto;}#sk-container-id-10 input.sk-toggleable__control:checked~label.sk-toggleable__label-arrow:before {content: \"▾\";}#sk-container-id-10 div.sk-estimator input.sk-toggleable__control:checked~label.sk-toggleable__label {background-color: #d4ebff;}#sk-container-id-10 div.sk-label input.sk-toggleable__control:checked~label.sk-toggleable__label {background-color: #d4ebff;}#sk-container-id-10 input.sk-hidden--visually {border: 0;clip: rect(1px 1px 1px 1px);clip: rect(1px, 1px, 1px, 1px);height: 1px;margin: -1px;overflow: hidden;padding: 0;position: absolute;width: 1px;}#sk-container-id-10 div.sk-estimator {font-family: monospace;background-color: #f0f8ff;border: 1px dotted black;border-radius: 0.25em;box-sizing: border-box;margin-bottom: 0.5em;}#sk-container-id-10 div.sk-estimator:hover {background-color: #d4ebff;}#sk-container-id-10 div.sk-parallel-item::after {content: \"\";width: 100%;border-bottom: 1px solid gray;flex-grow: 1;}#sk-container-id-10 div.sk-label:hover label.sk-toggleable__label {background-color: #d4ebff;}#sk-container-id-10 div.sk-serial::before {content: \"\";position: absolute;border-left: 1px solid gray;box-sizing: border-box;top: 0;bottom: 0;left: 50%;z-index: 0;}#sk-container-id-10 div.sk-serial {display: flex;flex-direction: column;align-items: center;background-color: white;padding-right: 0.2em;padding-left: 0.2em;position: relative;}#sk-container-id-10 div.sk-item {position: relative;z-index: 1;}#sk-container-id-10 div.sk-parallel {display: flex;align-items: stretch;justify-content: center;background-color: white;position: relative;}#sk-container-id-10 div.sk-item::before, #sk-container-id-10 div.sk-parallel-item::before {content: \"\";position: absolute;border-left: 1px solid gray;box-sizing: border-box;top: 0;bottom: 0;left: 50%;z-index: -1;}#sk-container-id-10 div.sk-parallel-item {display: flex;flex-direction: column;z-index: 1;position: relative;background-color: white;}#sk-container-id-10 div.sk-parallel-item:first-child::after {align-self: flex-end;width: 50%;}#sk-container-id-10 div.sk-parallel-item:last-child::after {align-self: flex-start;width: 50%;}#sk-container-id-10 div.sk-parallel-item:only-child::after {width: 0;}#sk-container-id-10 div.sk-dashed-wrapped {border: 1px dashed gray;margin: 0 0.4em 0.5em 0.4em;box-sizing: border-box;padding-bottom: 0.4em;background-color: white;}#sk-container-id-10 div.sk-label label {font-family: monospace;font-weight: bold;display: inline-block;line-height: 1.2em;}#sk-container-id-10 div.sk-label-container {text-align: center;}#sk-container-id-10 div.sk-container {/* jupyter's `normalize.less` sets `[hidden] { display: none; }` but bootstrap.min.css set `[hidden] { display: none !important; }` so we also need the `!important` here to be able to override the default hidden behavior on the sphinx rendered scikit-learn.org. See: https://github.com/scikit-learn/scikit-learn/issues/21755 */display: inline-block !important;position: relative;}#sk-container-id-10 div.sk-text-repr-fallback {display: none;}</style><div id=\"sk-container-id-10\" class=\"sk-top-container\"><div class=\"sk-text-repr-fallback\"><pre>KNeighborsClassifier()</pre><b>In a Jupyter environment, please rerun this cell to show the HTML representation or trust the notebook. <br />On GitHub, the HTML representation is unable to render, please try loading this page with nbviewer.org.</b></div><div class=\"sk-container\" hidden><div class=\"sk-item\"><div class=\"sk-estimator sk-toggleable\"><input class=\"sk-toggleable__control sk-hidden--visually\" id=\"sk-estimator-id-10\" type=\"checkbox\" checked><label for=\"sk-estimator-id-10\" class=\"sk-toggleable__label sk-toggleable__label-arrow\">KNeighborsClassifier</label><div class=\"sk-toggleable__content\"><pre>KNeighborsClassifier()</pre></div></div></div></div></div>"
            ],
            "text/plain": [
              "KNeighborsClassifier()"
            ]
          },
          "execution_count": 100,
          "metadata": {},
          "output_type": "execute_result"
        }
      ],
      "source": [
        "# K-NN\n",
        "knn = KNeighborsClassifier(n_neighbors = 5)\n",
        "knn.fit(X_train, y_transformed)"
      ]
    },
    {
      "cell_type": "markdown",
      "metadata": {
        "id": "bpTOXuP7BS3-"
      },
      "source": [
        "Support Vector Machines"
      ]
    },
    {
      "cell_type": "code",
      "execution_count": null,
      "metadata": {
        "id": "aj4RtEt1BVFI"
      },
      "outputs": [],
      "source": [
        "#Support Vector Machines\n",
        "SVM = svm.LinearSVC()\n",
        "SVM.fit(X_train, y_transformed)"
      ]
    },
    {
      "cell_type": "markdown",
      "metadata": {
        "id": "Ci4x_g9EBXng"
      },
      "source": [
        " Neural Networks"
      ]
    },
    {
      "cell_type": "code",
      "execution_count": null,
      "metadata": {
        "colab": {
          "base_uri": "https://localhost:8080/",
          "height": 92
        },
        "id": "N35LUEJTBZCs",
        "outputId": "e877ead8-2b3c-4d7e-d1f5-73274a232ba2"
      },
      "outputs": [
        {
          "data": {
            "text/html": [
              "<style>#sk-container-id-6 {color: black;background-color: white;}#sk-container-id-6 pre{padding: 0;}#sk-container-id-6 div.sk-toggleable {background-color: white;}#sk-container-id-6 label.sk-toggleable__label {cursor: pointer;display: block;width: 100%;margin-bottom: 0;padding: 0.3em;box-sizing: border-box;text-align: center;}#sk-container-id-6 label.sk-toggleable__label-arrow:before {content: \"▸\";float: left;margin-right: 0.25em;color: #696969;}#sk-container-id-6 label.sk-toggleable__label-arrow:hover:before {color: black;}#sk-container-id-6 div.sk-estimator:hover label.sk-toggleable__label-arrow:before {color: black;}#sk-container-id-6 div.sk-toggleable__content {max-height: 0;max-width: 0;overflow: hidden;text-align: left;background-color: #f0f8ff;}#sk-container-id-6 div.sk-toggleable__content pre {margin: 0.2em;color: black;border-radius: 0.25em;background-color: #f0f8ff;}#sk-container-id-6 input.sk-toggleable__control:checked~div.sk-toggleable__content {max-height: 200px;max-width: 100%;overflow: auto;}#sk-container-id-6 input.sk-toggleable__control:checked~label.sk-toggleable__label-arrow:before {content: \"▾\";}#sk-container-id-6 div.sk-estimator input.sk-toggleable__control:checked~label.sk-toggleable__label {background-color: #d4ebff;}#sk-container-id-6 div.sk-label input.sk-toggleable__control:checked~label.sk-toggleable__label {background-color: #d4ebff;}#sk-container-id-6 input.sk-hidden--visually {border: 0;clip: rect(1px 1px 1px 1px);clip: rect(1px, 1px, 1px, 1px);height: 1px;margin: -1px;overflow: hidden;padding: 0;position: absolute;width: 1px;}#sk-container-id-6 div.sk-estimator {font-family: monospace;background-color: #f0f8ff;border: 1px dotted black;border-radius: 0.25em;box-sizing: border-box;margin-bottom: 0.5em;}#sk-container-id-6 div.sk-estimator:hover {background-color: #d4ebff;}#sk-container-id-6 div.sk-parallel-item::after {content: \"\";width: 100%;border-bottom: 1px solid gray;flex-grow: 1;}#sk-container-id-6 div.sk-label:hover label.sk-toggleable__label {background-color: #d4ebff;}#sk-container-id-6 div.sk-serial::before {content: \"\";position: absolute;border-left: 1px solid gray;box-sizing: border-box;top: 0;bottom: 0;left: 50%;z-index: 0;}#sk-container-id-6 div.sk-serial {display: flex;flex-direction: column;align-items: center;background-color: white;padding-right: 0.2em;padding-left: 0.2em;position: relative;}#sk-container-id-6 div.sk-item {position: relative;z-index: 1;}#sk-container-id-6 div.sk-parallel {display: flex;align-items: stretch;justify-content: center;background-color: white;position: relative;}#sk-container-id-6 div.sk-item::before, #sk-container-id-6 div.sk-parallel-item::before {content: \"\";position: absolute;border-left: 1px solid gray;box-sizing: border-box;top: 0;bottom: 0;left: 50%;z-index: -1;}#sk-container-id-6 div.sk-parallel-item {display: flex;flex-direction: column;z-index: 1;position: relative;background-color: white;}#sk-container-id-6 div.sk-parallel-item:first-child::after {align-self: flex-end;width: 50%;}#sk-container-id-6 div.sk-parallel-item:last-child::after {align-self: flex-start;width: 50%;}#sk-container-id-6 div.sk-parallel-item:only-child::after {width: 0;}#sk-container-id-6 div.sk-dashed-wrapped {border: 1px dashed gray;margin: 0 0.4em 0.5em 0.4em;box-sizing: border-box;padding-bottom: 0.4em;background-color: white;}#sk-container-id-6 div.sk-label label {font-family: monospace;font-weight: bold;display: inline-block;line-height: 1.2em;}#sk-container-id-6 div.sk-label-container {text-align: center;}#sk-container-id-6 div.sk-container {/* jupyter's `normalize.less` sets `[hidden] { display: none; }` but bootstrap.min.css set `[hidden] { display: none !important; }` so we also need the `!important` here to be able to override the default hidden behavior on the sphinx rendered scikit-learn.org. See: https://github.com/scikit-learn/scikit-learn/issues/21755 */display: inline-block !important;position: relative;}#sk-container-id-6 div.sk-text-repr-fallback {display: none;}</style><div id=\"sk-container-id-6\" class=\"sk-top-container\"><div class=\"sk-text-repr-fallback\"><pre>MLPClassifier(alpha=1e-05, hidden_layer_sizes=(5, 2), random_state=1,\n",
              "              solver=&#x27;lbfgs&#x27;)</pre><b>In a Jupyter environment, please rerun this cell to show the HTML representation or trust the notebook. <br />On GitHub, the HTML representation is unable to render, please try loading this page with nbviewer.org.</b></div><div class=\"sk-container\" hidden><div class=\"sk-item\"><div class=\"sk-estimator sk-toggleable\"><input class=\"sk-toggleable__control sk-hidden--visually\" id=\"sk-estimator-id-6\" type=\"checkbox\" checked><label for=\"sk-estimator-id-6\" class=\"sk-toggleable__label sk-toggleable__label-arrow\">MLPClassifier</label><div class=\"sk-toggleable__content\"><pre>MLPClassifier(alpha=1e-05, hidden_layer_sizes=(5, 2), random_state=1,\n",
              "              solver=&#x27;lbfgs&#x27;)</pre></div></div></div></div></div>"
            ],
            "text/plain": [
              "MLPClassifier(alpha=1e-05, hidden_layer_sizes=(5, 2), random_state=1,\n",
              "              solver='lbfgs')"
            ]
          },
          "execution_count": 43,
          "metadata": {},
          "output_type": "execute_result"
        }
      ],
      "source": [
        "#Neural Networks\n",
        "NN = MLPClassifier(solver='lbfgs', alpha=1e-5, hidden_layer_sizes=(5, 2), random_state=1)\n",
        "NN.fit(X_train, y_transformed)"
      ]
    },
    {
      "cell_type": "markdown",
      "metadata": {
        "id": "9VUBYbAMBbau"
      },
      "source": [
        "### Model Assessment and Making Predictions"
      ]
    },
    {
      "cell_type": "code",
      "execution_count": null,
      "metadata": {
        "id": "W1aFLsihBfJ4"
      },
      "outputs": [],
      "source": [
        "# computes the confusion matrix and performence indicators\n",
        "def get_performances(actual_Y, pred_Y):\n",
        "    cm = confusion_matrix(actual_Y, pred_Y.round())\n",
        "    total = sum(sum(cm))\n",
        "    accuracy = (cm[0,0]+cm[1,1])/total\n",
        "    sensitivity = cm[0,0]/(cm[0,0]+cm[0,1])\n",
        "    specificity = cm[1,1]/(cm[1,0]+cm[1,1])\n",
        "    return accuracy, sensitivity, specificity"
      ]
    },
    {
      "cell_type": "code",
      "execution_count": null,
      "metadata": {
        "id": "n353DXUxBtfR"
      },
      "outputs": [],
      "source": [
        "pred_Y_lr = lr.predict(X_test) # predicts the Y given the fitted model lr\n",
        "\n",
        "pred_Y_dt = dt.predict(X_test) # predicts the Y given the fitted model dt\n",
        "\n",
        "pred_Y_rf = rf.predict(X_test) # predicts the Y given the fitted model rf\n",
        "\n",
        "pred_Y_knn = knn.predict(X_test) # predicts the Y given the fitted model knn\n",
        "\n",
        "pred_Y_svm = SVM.predict(X_test) # predicts the Y given the fitted model Support Vector Machines\n",
        "\n",
        "pred_Y_nn = NN.predict(X_test) # predicts the Y given the fitted model Neural Networks"
      ]
    },
    {
      "cell_type": "code",
      "execution_count": null,
      "metadata": {
        "colab": {
          "base_uri": "https://localhost:8080/"
        },
        "id": "mALf5IcUBxO5",
        "outputId": "c24f9fba-2e0d-40fa-cba0-b36b678e665a"
      },
      "outputs": [
        {
          "name": "stderr",
          "output_type": "stream",
          "text": [
            "<ipython-input-44-b22bf3927c77>:6: RuntimeWarning: invalid value encountered in long_scalars\n",
            "  sensitivity = cm[0,0]/(cm[0,0]+cm[0,1])\n",
            "<ipython-input-44-b22bf3927c77>:7: RuntimeWarning: invalid value encountered in long_scalars\n",
            "  specificity = cm[1,1]/(cm[1,0]+cm[1,1])\n",
            "<ipython-input-44-b22bf3927c77>:6: RuntimeWarning: invalid value encountered in long_scalars\n",
            "  sensitivity = cm[0,0]/(cm[0,0]+cm[0,1])\n",
            "<ipython-input-44-b22bf3927c77>:7: RuntimeWarning: invalid value encountered in long_scalars\n",
            "  specificity = cm[1,1]/(cm[1,0]+cm[1,1])\n",
            "<ipython-input-44-b22bf3927c77>:6: RuntimeWarning: invalid value encountered in long_scalars\n",
            "  sensitivity = cm[0,0]/(cm[0,0]+cm[0,1])\n",
            "<ipython-input-44-b22bf3927c77>:7: RuntimeWarning: invalid value encountered in long_scalars\n",
            "  specificity = cm[1,1]/(cm[1,0]+cm[1,1])\n",
            "<ipython-input-44-b22bf3927c77>:6: RuntimeWarning: invalid value encountered in long_scalars\n",
            "  sensitivity = cm[0,0]/(cm[0,0]+cm[0,1])\n",
            "<ipython-input-44-b22bf3927c77>:7: RuntimeWarning: invalid value encountered in long_scalars\n",
            "  specificity = cm[1,1]/(cm[1,0]+cm[1,1])\n",
            "<ipython-input-44-b22bf3927c77>:6: RuntimeWarning: invalid value encountered in long_scalars\n",
            "  sensitivity = cm[0,0]/(cm[0,0]+cm[0,1])\n",
            "<ipython-input-44-b22bf3927c77>:7: RuntimeWarning: invalid value encountered in long_scalars\n",
            "  specificity = cm[1,1]/(cm[1,0]+cm[1,1])\n"
          ]
        }
      ],
      "source": [
        "y_transformed_test = lab.fit_transform(Y_test)\n",
        "\n",
        "# accuracy, sensitivity, and specificity for model lr\n",
        "accuracy_lr, sensitivity_lr, specificity_lr = get_performances(y_transformed_test, pred_Y_lr)\n",
        "\n",
        "\n",
        "# accuracy, sensitivity, and specificity for model dt\n",
        "accuracy_dt, sensitivity_dt, specificity_dt = get_performances(y_transformed_test, pred_Y_dt)\n",
        "\n",
        "\n",
        "# accuracy, sensitivity, and specificity for model rf\n",
        "accuracy_rf, sensitivity_rf, specificity_rf = get_performances(y_transformed_test, pred_Y_rf)\n",
        "\n",
        "# accuracy, sensitivity, and specificity for model knn\n",
        "accuracy_knn, sensitivity_knn, specificity_knn = get_performances(y_transformed_test, pred_Y_knn)\n",
        "\n",
        "# accuracy, sensitivity, and specificity for model Support Vector Machines\n",
        "accuracy_svm, sensitivity_svm, specificity_svm = get_performances(y_transformed_test, pred_Y_svm)\n",
        "\n",
        "# accuracy, sensitivity, and specificity for model Neural Networks\n",
        "accuracy_nn, sensitivity_nn, specificity_nn = get_performances(y_transformed_test, pred_Y_nn)\n"
      ]
    },
    {
      "cell_type": "markdown",
      "metadata": {
        "id": "3vOeF5reB2li"
      },
      "source": [
        "Building a dataframe using the performance indicators so that we can compare the models easily"
      ]
    },
    {
      "cell_type": "code",
      "execution_count": null,
      "metadata": {
        "colab": {
          "base_uri": "https://localhost:8080/",
          "height": 238
        },
        "id": "7KeyGioPB0bT",
        "outputId": "1bf559d3-df0e-47db-c18f-c2de52d645c0"
      },
      "outputs": [
        {
          "data": {
            "text/html": [
              "\n",
              "  <div id=\"df-010dd7e2-aaea-4262-b2ea-8e37164747b9\">\n",
              "    <div class=\"colab-df-container\">\n",
              "      <div>\n",
              "<style scoped>\n",
              "    .dataframe tbody tr th:only-of-type {\n",
              "        vertical-align: middle;\n",
              "    }\n",
              "\n",
              "    .dataframe tbody tr th {\n",
              "        vertical-align: top;\n",
              "    }\n",
              "\n",
              "    .dataframe thead th {\n",
              "        text-align: right;\n",
              "    }\n",
              "</style>\n",
              "<table border=\"1\" class=\"dataframe\">\n",
              "  <thead>\n",
              "    <tr style=\"text-align: right;\">\n",
              "      <th></th>\n",
              "      <th>accuracy</th>\n",
              "      <th>sensitivity</th>\n",
              "      <th>specificity</th>\n",
              "    </tr>\n",
              "  </thead>\n",
              "  <tbody>\n",
              "    <tr>\n",
              "      <th>Logistic Regression</th>\n",
              "      <td>0.000000</td>\n",
              "      <td>NaN</td>\n",
              "      <td>NaN</td>\n",
              "    </tr>\n",
              "    <tr>\n",
              "      <th>Decision Trees</th>\n",
              "      <td>0.000000</td>\n",
              "      <td>NaN</td>\n",
              "      <td>NaN</td>\n",
              "    </tr>\n",
              "    <tr>\n",
              "      <th>Random Forest</th>\n",
              "      <td>0.000000</td>\n",
              "      <td>NaN</td>\n",
              "      <td>NaN</td>\n",
              "    </tr>\n",
              "    <tr>\n",
              "      <th>K-NN</th>\n",
              "      <td>0.000109</td>\n",
              "      <td>1.0</td>\n",
              "      <td>0.0</td>\n",
              "    </tr>\n",
              "    <tr>\n",
              "      <th>Support Vector Machine</th>\n",
              "      <td>0.000000</td>\n",
              "      <td>NaN</td>\n",
              "      <td>NaN</td>\n",
              "    </tr>\n",
              "    <tr>\n",
              "      <th>Neural Networks</th>\n",
              "      <td>0.000000</td>\n",
              "      <td>NaN</td>\n",
              "      <td>NaN</td>\n",
              "    </tr>\n",
              "  </tbody>\n",
              "</table>\n",
              "</div>\n",
              "      <button class=\"colab-df-convert\" onclick=\"convertToInteractive('df-010dd7e2-aaea-4262-b2ea-8e37164747b9')\"\n",
              "              title=\"Convert this dataframe to an interactive table.\"\n",
              "              style=\"display:none;\">\n",
              "        \n",
              "  <svg xmlns=\"http://www.w3.org/2000/svg\" height=\"24px\"viewBox=\"0 0 24 24\"\n",
              "       width=\"24px\">\n",
              "    <path d=\"M0 0h24v24H0V0z\" fill=\"none\"/>\n",
              "    <path d=\"M18.56 5.44l.94 2.06.94-2.06 2.06-.94-2.06-.94-.94-2.06-.94 2.06-2.06.94zm-11 1L8.5 8.5l.94-2.06 2.06-.94-2.06-.94L8.5 2.5l-.94 2.06-2.06.94zm10 10l.94 2.06.94-2.06 2.06-.94-2.06-.94-.94-2.06-.94 2.06-2.06.94z\"/><path d=\"M17.41 7.96l-1.37-1.37c-.4-.4-.92-.59-1.43-.59-.52 0-1.04.2-1.43.59L10.3 9.45l-7.72 7.72c-.78.78-.78 2.05 0 2.83L4 21.41c.39.39.9.59 1.41.59.51 0 1.02-.2 1.41-.59l7.78-7.78 2.81-2.81c.8-.78.8-2.07 0-2.86zM5.41 20L4 18.59l7.72-7.72 1.47 1.35L5.41 20z\"/>\n",
              "  </svg>\n",
              "      </button>\n",
              "      \n",
              "  <style>\n",
              "    .colab-df-container {\n",
              "      display:flex;\n",
              "      flex-wrap:wrap;\n",
              "      gap: 12px;\n",
              "    }\n",
              "\n",
              "    .colab-df-convert {\n",
              "      background-color: #E8F0FE;\n",
              "      border: none;\n",
              "      border-radius: 50%;\n",
              "      cursor: pointer;\n",
              "      display: none;\n",
              "      fill: #1967D2;\n",
              "      height: 32px;\n",
              "      padding: 0 0 0 0;\n",
              "      width: 32px;\n",
              "    }\n",
              "\n",
              "    .colab-df-convert:hover {\n",
              "      background-color: #E2EBFA;\n",
              "      box-shadow: 0px 1px 2px rgba(60, 64, 67, 0.3), 0px 1px 3px 1px rgba(60, 64, 67, 0.15);\n",
              "      fill: #174EA6;\n",
              "    }\n",
              "\n",
              "    [theme=dark] .colab-df-convert {\n",
              "      background-color: #3B4455;\n",
              "      fill: #D2E3FC;\n",
              "    }\n",
              "\n",
              "    [theme=dark] .colab-df-convert:hover {\n",
              "      background-color: #434B5C;\n",
              "      box-shadow: 0px 1px 3px 1px rgba(0, 0, 0, 0.15);\n",
              "      filter: drop-shadow(0px 1px 2px rgba(0, 0, 0, 0.3));\n",
              "      fill: #FFFFFF;\n",
              "    }\n",
              "  </style>\n",
              "\n",
              "      <script>\n",
              "        const buttonEl =\n",
              "          document.querySelector('#df-010dd7e2-aaea-4262-b2ea-8e37164747b9 button.colab-df-convert');\n",
              "        buttonEl.style.display =\n",
              "          google.colab.kernel.accessAllowed ? 'block' : 'none';\n",
              "\n",
              "        async function convertToInteractive(key) {\n",
              "          const element = document.querySelector('#df-010dd7e2-aaea-4262-b2ea-8e37164747b9');\n",
              "          const dataTable =\n",
              "            await google.colab.kernel.invokeFunction('convertToInteractive',\n",
              "                                                     [key], {});\n",
              "          if (!dataTable) return;\n",
              "\n",
              "          const docLinkHtml = 'Like what you see? Visit the ' +\n",
              "            '<a target=\"_blank\" href=https://colab.research.google.com/notebooks/data_table.ipynb>data table notebook</a>'\n",
              "            + ' to learn more about interactive tables.';\n",
              "          element.innerHTML = '';\n",
              "          dataTable['output_type'] = 'display_data';\n",
              "          await google.colab.output.renderOutput(dataTable, element);\n",
              "          const docLink = document.createElement('div');\n",
              "          docLink.innerHTML = docLinkHtml;\n",
              "          element.appendChild(docLink);\n",
              "        }\n",
              "      </script>\n",
              "    </div>\n",
              "  </div>\n",
              "  "
            ],
            "text/plain": [
              "                        accuracy  sensitivity  specificity\n",
              "Logistic Regression     0.000000          NaN          NaN\n",
              "Decision Trees          0.000000          NaN          NaN\n",
              "Random Forest           0.000000          NaN          NaN\n",
              "K-NN                    0.000109          1.0          0.0\n",
              "Support Vector Machine  0.000000          NaN          NaN\n",
              "Neural Networks         0.000000          NaN          NaN"
            ]
          },
          "execution_count": 47,
          "metadata": {},
          "output_type": "execute_result"
        }
      ],
      "source": [
        "\n",
        "perf = pd.DataFrame([accuracy_lr, accuracy_dt,accuracy_rf,accuracy_knn,accuracy_svm,accuracy_nn], \n",
        "                    columns = ['accuracy'], \n",
        "                    index = ['Logistic Regression',\n",
        "                             'Decision Trees', 'Random Forest','K-NN','Support Vector Machine','Neural Networks'])\n",
        "\n",
        "perf['sensitivity'] = np.asarray([sensitivity_lr,\n",
        "                                  sensitivity_dt, \n",
        "                                  sensitivity_rf,\n",
        "                                  sensitivity_knn,sensitivity_svm,sensitivity_nn])\n",
        "\n",
        "perf['specificity'] = np.asarray([specificity_lr,\n",
        "                                  specificity_dt,\n",
        "                                  specificity_rf,\n",
        "                                  specificity_knn,specificity_svm,specificity_nn])\n",
        "perf"
      ]
    },
    {
      "cell_type": "markdown",
      "metadata": {
        "id": "f1utDQT4B7oz"
      },
      "source": [
        "### ROC Curves"
      ]
    },
    {
      "cell_type": "code",
      "execution_count": null,
      "metadata": {
        "id": "phNduUfHB8qW"
      },
      "outputs": [],
      "source": [
        "from sklearn.metrics import roc_curve, auc"
      ]
    },
    {
      "cell_type": "code",
      "execution_count": null,
      "metadata": {
        "colab": {
          "base_uri": "https://localhost:8080/"
        },
        "id": "dvcQseNwCAmo",
        "outputId": "005e8f06-171a-4cc9-89bd-9b6446249e6f"
      },
      "outputs": [
        {
          "data": {
            "text/plain": [
              "array([[0.00036012, 0.0003614 , 0.00036698, ..., 0.00036022, 0.00035797,\n",
              "        0.00036569],\n",
              "       [0.00036012, 0.0003614 , 0.00036698, ..., 0.00036022, 0.00035797,\n",
              "        0.00036569],\n",
              "       [0.00036012, 0.0003614 , 0.00036698, ..., 0.00036022, 0.00035797,\n",
              "        0.00036569],\n",
              "       ...,\n",
              "       [0.00036012, 0.0003614 , 0.00036698, ..., 0.00036022, 0.00035797,\n",
              "        0.00036569],\n",
              "       [0.00036012, 0.0003614 , 0.00036698, ..., 0.00036022, 0.00035797,\n",
              "        0.00036569],\n",
              "       [0.00036012, 0.0003614 , 0.00036698, ..., 0.00036022, 0.00035797,\n",
              "        0.00036569]])"
            ]
          },
          "execution_count": 49,
          "metadata": {},
          "output_type": "execute_result"
        }
      ],
      "source": [
        "score_Y_nn = NN.predict_proba(X_test)\n",
        "score_Y_nn "
      ]
    },
    {
      "cell_type": "code",
      "execution_count": null,
      "metadata": {
        "colab": {
          "base_uri": "https://localhost:8080/",
          "height": 371
        },
        "id": "VRp28UfgCC0K",
        "outputId": "9ae62753-2d3f-4a0c-f98d-e768590fed54"
      },
      "outputs": [
        {
          "ename": "ValueError",
          "evalue": "ignored",
          "output_type": "error",
          "traceback": [
            "\u001b[0;31m---------------------------------------------------------------------------\u001b[0m",
            "\u001b[0;31mValueError\u001b[0m                                Traceback (most recent call last)",
            "\u001b[0;32m<ipython-input-50-e45fe16d59d7>\u001b[0m in \u001b[0;36m<cell line: 2>\u001b[0;34m()\u001b[0m\n\u001b[1;32m      1\u001b[0m \u001b[0mscore_Y_nn\u001b[0m \u001b[0;34m=\u001b[0m \u001b[0mNN\u001b[0m\u001b[0;34m.\u001b[0m\u001b[0mpredict_proba\u001b[0m\u001b[0;34m(\u001b[0m\u001b[0mX_test\u001b[0m\u001b[0;34m)\u001b[0m\u001b[0;34m\u001b[0m\u001b[0;34m\u001b[0m\u001b[0m\n\u001b[0;32m----> 2\u001b[0;31m \u001b[0mfpr\u001b[0m\u001b[0;34m,\u001b[0m \u001b[0mtpr\u001b[0m\u001b[0;34m,\u001b[0m \u001b[0m_\u001b[0m \u001b[0;34m=\u001b[0m \u001b[0mroc_curve\u001b[0m\u001b[0;34m(\u001b[0m\u001b[0my_transformed_test\u001b[0m\u001b[0;34m,\u001b[0m \u001b[0mscore_Y_nn\u001b[0m\u001b[0;34m[\u001b[0m\u001b[0;34m:\u001b[0m\u001b[0;34m,\u001b[0m\u001b[0;36m1\u001b[0m\u001b[0;34m]\u001b[0m\u001b[0;34m)\u001b[0m\u001b[0;34m\u001b[0m\u001b[0;34m\u001b[0m\u001b[0m\n\u001b[0m\u001b[1;32m      3\u001b[0m \u001b[0mroc_auc\u001b[0m \u001b[0;34m=\u001b[0m \u001b[0mauc\u001b[0m\u001b[0;34m(\u001b[0m\u001b[0mfpr\u001b[0m\u001b[0;34m,\u001b[0m \u001b[0mtpr\u001b[0m\u001b[0;34m)\u001b[0m\u001b[0;34m\u001b[0m\u001b[0;34m\u001b[0m\u001b[0m\n",
            "\u001b[0;32m/usr/local/lib/python3.10/dist-packages/sklearn/metrics/_ranking.py\u001b[0m in \u001b[0;36mroc_curve\u001b[0;34m(y_true, y_score, pos_label, sample_weight, drop_intermediate)\u001b[0m\n\u001b[1;32m    990\u001b[0m     \u001b[0marray\u001b[0m\u001b[0;34m(\u001b[0m\u001b[0;34m[\u001b[0m\u001b[0;36m1.8\u001b[0m \u001b[0;34m,\u001b[0m \u001b[0;36m0.8\u001b[0m \u001b[0;34m,\u001b[0m \u001b[0;36m0.4\u001b[0m \u001b[0;34m,\u001b[0m \u001b[0;36m0.35\u001b[0m\u001b[0;34m,\u001b[0m \u001b[0;36m0.1\u001b[0m \u001b[0;34m]\u001b[0m\u001b[0;34m)\u001b[0m\u001b[0;34m\u001b[0m\u001b[0;34m\u001b[0m\u001b[0m\n\u001b[1;32m    991\u001b[0m     \"\"\"\n\u001b[0;32m--> 992\u001b[0;31m     fps, tps, thresholds = _binary_clf_curve(\n\u001b[0m\u001b[1;32m    993\u001b[0m         \u001b[0my_true\u001b[0m\u001b[0;34m,\u001b[0m \u001b[0my_score\u001b[0m\u001b[0;34m,\u001b[0m \u001b[0mpos_label\u001b[0m\u001b[0;34m=\u001b[0m\u001b[0mpos_label\u001b[0m\u001b[0;34m,\u001b[0m \u001b[0msample_weight\u001b[0m\u001b[0;34m=\u001b[0m\u001b[0msample_weight\u001b[0m\u001b[0;34m\u001b[0m\u001b[0;34m\u001b[0m\u001b[0m\n\u001b[1;32m    994\u001b[0m     )\n",
            "\u001b[0;32m/usr/local/lib/python3.10/dist-packages/sklearn/metrics/_ranking.py\u001b[0m in \u001b[0;36m_binary_clf_curve\u001b[0;34m(y_true, y_score, pos_label, sample_weight)\u001b[0m\n\u001b[1;32m    747\u001b[0m     \u001b[0my_type\u001b[0m \u001b[0;34m=\u001b[0m \u001b[0mtype_of_target\u001b[0m\u001b[0;34m(\u001b[0m\u001b[0my_true\u001b[0m\u001b[0;34m,\u001b[0m \u001b[0minput_name\u001b[0m\u001b[0;34m=\u001b[0m\u001b[0;34m\"y_true\"\u001b[0m\u001b[0;34m)\u001b[0m\u001b[0;34m\u001b[0m\u001b[0;34m\u001b[0m\u001b[0m\n\u001b[1;32m    748\u001b[0m     \u001b[0;32mif\u001b[0m \u001b[0;32mnot\u001b[0m \u001b[0;34m(\u001b[0m\u001b[0my_type\u001b[0m \u001b[0;34m==\u001b[0m \u001b[0;34m\"binary\"\u001b[0m \u001b[0;32mor\u001b[0m \u001b[0;34m(\u001b[0m\u001b[0my_type\u001b[0m \u001b[0;34m==\u001b[0m \u001b[0;34m\"multiclass\"\u001b[0m \u001b[0;32mand\u001b[0m \u001b[0mpos_label\u001b[0m \u001b[0;32mis\u001b[0m \u001b[0;32mnot\u001b[0m \u001b[0;32mNone\u001b[0m\u001b[0;34m)\u001b[0m\u001b[0;34m)\u001b[0m\u001b[0;34m:\u001b[0m\u001b[0;34m\u001b[0m\u001b[0;34m\u001b[0m\u001b[0m\n\u001b[0;32m--> 749\u001b[0;31m         \u001b[0;32mraise\u001b[0m \u001b[0mValueError\u001b[0m\u001b[0;34m(\u001b[0m\u001b[0;34m\"{0} format is not supported\"\u001b[0m\u001b[0;34m.\u001b[0m\u001b[0mformat\u001b[0m\u001b[0;34m(\u001b[0m\u001b[0my_type\u001b[0m\u001b[0;34m)\u001b[0m\u001b[0;34m)\u001b[0m\u001b[0;34m\u001b[0m\u001b[0;34m\u001b[0m\u001b[0m\n\u001b[0m\u001b[1;32m    750\u001b[0m \u001b[0;34m\u001b[0m\u001b[0m\n\u001b[1;32m    751\u001b[0m     \u001b[0mcheck_consistent_length\u001b[0m\u001b[0;34m(\u001b[0m\u001b[0my_true\u001b[0m\u001b[0;34m,\u001b[0m \u001b[0my_score\u001b[0m\u001b[0;34m,\u001b[0m \u001b[0msample_weight\u001b[0m\u001b[0;34m)\u001b[0m\u001b[0;34m\u001b[0m\u001b[0;34m\u001b[0m\u001b[0m\n",
            "\u001b[0;31mValueError\u001b[0m: multiclass format is not supported"
          ]
        }
      ],
      "source": [
        "score_Y_nn = NN.predict_proba(X_test)\n",
        "fpr, tpr, _ = roc_curve(y_transformed_test, score_Y_nn[:,1])\n",
        "roc_auc = auc(fpr, tpr)"
      ]
    },
    {
      "cell_type": "code",
      "execution_count": null,
      "metadata": {
        "id": "2YqjcVZJCEEb"
      },
      "outputs": [],
      "source": [
        "score_Y_nn = NN.predict_proba(X_test)\n",
        "fpr, tpr, _ = roc_curve(y_transformed_test, score_Y_nn[:,1])\n",
        "roc_auc = auc(fpr, tpr)\n",
        "\n",
        "plt.figure()\n",
        "lw = 2\n",
        "plt.plot(fpr, tpr, color='darkred',lw=lw, label='ROC curve (area = %0.2f)' % roc_auc)\n",
        "plt.plot([0, 1], [0, 1], color='pink', lw=lw, linestyle='--')\n",
        "plt.xlim([0.0, 1.0])\n",
        "plt.ylim([0.0, 1.05])\n",
        "plt.xlabel('False Positive Rate')\n",
        "plt.ylabel('True Positive Rate')\n",
        "plt.title('Receiver operating characteristic example')\n",
        "plt.legend(loc=\"lower right\")\n",
        "plt.show()"
      ]
    },
    {
      "cell_type": "markdown",
      "metadata": {
        "id": "nAoR7De4DIyb"
      },
      "source": [
        "### Feature Importance using Random Forest\n"
      ]
    },
    {
      "cell_type": "code",
      "execution_count": null,
      "metadata": {
        "colab": {
          "base_uri": "https://localhost:8080/",
          "height": 75
        },
        "id": "4-jtPbNCDJbv",
        "outputId": "1411ea9b-6c0e-46b7-e17b-0fc976355965"
      },
      "outputs": [
        {
          "data": {
            "text/html": [
              "<style>#sk-container-id-7 {color: black;background-color: white;}#sk-container-id-7 pre{padding: 0;}#sk-container-id-7 div.sk-toggleable {background-color: white;}#sk-container-id-7 label.sk-toggleable__label {cursor: pointer;display: block;width: 100%;margin-bottom: 0;padding: 0.3em;box-sizing: border-box;text-align: center;}#sk-container-id-7 label.sk-toggleable__label-arrow:before {content: \"▸\";float: left;margin-right: 0.25em;color: #696969;}#sk-container-id-7 label.sk-toggleable__label-arrow:hover:before {color: black;}#sk-container-id-7 div.sk-estimator:hover label.sk-toggleable__label-arrow:before {color: black;}#sk-container-id-7 div.sk-toggleable__content {max-height: 0;max-width: 0;overflow: hidden;text-align: left;background-color: #f0f8ff;}#sk-container-id-7 div.sk-toggleable__content pre {margin: 0.2em;color: black;border-radius: 0.25em;background-color: #f0f8ff;}#sk-container-id-7 input.sk-toggleable__control:checked~div.sk-toggleable__content {max-height: 200px;max-width: 100%;overflow: auto;}#sk-container-id-7 input.sk-toggleable__control:checked~label.sk-toggleable__label-arrow:before {content: \"▾\";}#sk-container-id-7 div.sk-estimator input.sk-toggleable__control:checked~label.sk-toggleable__label {background-color: #d4ebff;}#sk-container-id-7 div.sk-label input.sk-toggleable__control:checked~label.sk-toggleable__label {background-color: #d4ebff;}#sk-container-id-7 input.sk-hidden--visually {border: 0;clip: rect(1px 1px 1px 1px);clip: rect(1px, 1px, 1px, 1px);height: 1px;margin: -1px;overflow: hidden;padding: 0;position: absolute;width: 1px;}#sk-container-id-7 div.sk-estimator {font-family: monospace;background-color: #f0f8ff;border: 1px dotted black;border-radius: 0.25em;box-sizing: border-box;margin-bottom: 0.5em;}#sk-container-id-7 div.sk-estimator:hover {background-color: #d4ebff;}#sk-container-id-7 div.sk-parallel-item::after {content: \"\";width: 100%;border-bottom: 1px solid gray;flex-grow: 1;}#sk-container-id-7 div.sk-label:hover label.sk-toggleable__label {background-color: #d4ebff;}#sk-container-id-7 div.sk-serial::before {content: \"\";position: absolute;border-left: 1px solid gray;box-sizing: border-box;top: 0;bottom: 0;left: 50%;z-index: 0;}#sk-container-id-7 div.sk-serial {display: flex;flex-direction: column;align-items: center;background-color: white;padding-right: 0.2em;padding-left: 0.2em;position: relative;}#sk-container-id-7 div.sk-item {position: relative;z-index: 1;}#sk-container-id-7 div.sk-parallel {display: flex;align-items: stretch;justify-content: center;background-color: white;position: relative;}#sk-container-id-7 div.sk-item::before, #sk-container-id-7 div.sk-parallel-item::before {content: \"\";position: absolute;border-left: 1px solid gray;box-sizing: border-box;top: 0;bottom: 0;left: 50%;z-index: -1;}#sk-container-id-7 div.sk-parallel-item {display: flex;flex-direction: column;z-index: 1;position: relative;background-color: white;}#sk-container-id-7 div.sk-parallel-item:first-child::after {align-self: flex-end;width: 50%;}#sk-container-id-7 div.sk-parallel-item:last-child::after {align-self: flex-start;width: 50%;}#sk-container-id-7 div.sk-parallel-item:only-child::after {width: 0;}#sk-container-id-7 div.sk-dashed-wrapped {border: 1px dashed gray;margin: 0 0.4em 0.5em 0.4em;box-sizing: border-box;padding-bottom: 0.4em;background-color: white;}#sk-container-id-7 div.sk-label label {font-family: monospace;font-weight: bold;display: inline-block;line-height: 1.2em;}#sk-container-id-7 div.sk-label-container {text-align: center;}#sk-container-id-7 div.sk-container {/* jupyter's `normalize.less` sets `[hidden] { display: none; }` but bootstrap.min.css set `[hidden] { display: none !important; }` so we also need the `!important` here to be able to override the default hidden behavior on the sphinx rendered scikit-learn.org. See: https://github.com/scikit-learn/scikit-learn/issues/21755 */display: inline-block !important;position: relative;}#sk-container-id-7 div.sk-text-repr-fallback {display: none;}</style><div id=\"sk-container-id-7\" class=\"sk-top-container\"><div class=\"sk-text-repr-fallback\"><pre>RandomForestClassifier(random_state=0)</pre><b>In a Jupyter environment, please rerun this cell to show the HTML representation or trust the notebook. <br />On GitHub, the HTML representation is unable to render, please try loading this page with nbviewer.org.</b></div><div class=\"sk-container\" hidden><div class=\"sk-item\"><div class=\"sk-estimator sk-toggleable\"><input class=\"sk-toggleable__control sk-hidden--visually\" id=\"sk-estimator-id-7\" type=\"checkbox\" checked><label for=\"sk-estimator-id-7\" class=\"sk-toggleable__label sk-toggleable__label-arrow\">RandomForestClassifier</label><div class=\"sk-toggleable__content\"><pre>RandomForestClassifier(random_state=0)</pre></div></div></div></div></div>"
            ],
            "text/plain": [
              "RandomForestClassifier(random_state=0)"
            ]
          },
          "execution_count": 51,
          "metadata": {},
          "output_type": "execute_result"
        }
      ],
      "source": [
        "clf = RandomForestClassifier(n_estimators=100, random_state=0)\n",
        "\n",
        "clf.fit(X_train, y_transformed)"
      ]
    },
    {
      "cell_type": "markdown",
      "metadata": {
        "id": "ojQDYaVOqH11"
      },
      "source": [
        "Plotting Predicted Sales per Year"
      ]
    },
    {
      "cell_type": "code",
      "execution_count": null,
      "metadata": {
        "colab": {
          "base_uri": "https://localhost:8080/",
          "height": 389
        },
        "id": "cOlhmFD4qHLu",
        "outputId": "9f691a19-7f37-4a46-d8c8-005142ef1a79"
      },
      "outputs": [
        {
          "ename": "ValueError",
          "evalue": "ignored",
          "output_type": "error",
          "traceback": [
            "\u001b[0;31m---------------------------------------------------------------------------\u001b[0m",
            "\u001b[0;31mValueError\u001b[0m                                Traceback (most recent call last)",
            "\u001b[0;32m<ipython-input-53-8fabf08619f6>\u001b[0m in \u001b[0;36m<cell line: 4>\u001b[0;34m()\u001b[0m\n\u001b[1;32m      2\u001b[0m \u001b[0;34m\u001b[0m\u001b[0m\n\u001b[1;32m      3\u001b[0m \u001b[0mplt\u001b[0m\u001b[0;34m.\u001b[0m\u001b[0mfigure\u001b[0m\u001b[0;34m(\u001b[0m\u001b[0mfigsize\u001b[0m\u001b[0;34m=\u001b[0m\u001b[0;34m(\u001b[0m\u001b[0;36m10\u001b[0m\u001b[0;34m,\u001b[0m\u001b[0;36m5\u001b[0m\u001b[0;34m)\u001b[0m\u001b[0;34m)\u001b[0m\u001b[0;34m\u001b[0m\u001b[0;34m\u001b[0m\u001b[0m\n\u001b[0;32m----> 4\u001b[0;31m \u001b[0msns\u001b[0m\u001b[0;34m.\u001b[0m\u001b[0mlineplot\u001b[0m\u001b[0;34m(\u001b[0m\u001b[0mx\u001b[0m\u001b[0;34m=\u001b[0m\u001b[0msample_df\u001b[0m\u001b[0;34m[\u001b[0m\u001b[0;34m'Year'\u001b[0m\u001b[0;34m]\u001b[0m\u001b[0;34m,\u001b[0m\u001b[0my\u001b[0m\u001b[0;34m=\u001b[0m\u001b[0mpred_Y_lr\u001b[0m\u001b[0;34m,\u001b[0m\u001b[0mhue\u001b[0m\u001b[0;34m=\u001b[0m\u001b[0;32mNone\u001b[0m\u001b[0;34m)\u001b[0m\u001b[0;34m\u001b[0m\u001b[0;34m\u001b[0m\u001b[0m\n\u001b[0m\u001b[1;32m      5\u001b[0m \u001b[0mplt\u001b[0m\u001b[0;34m.\u001b[0m\u001b[0mtitle\u001b[0m\u001b[0;34m(\u001b[0m\u001b[0;34m'Predicting Sales per Year'\u001b[0m\u001b[0;34m,\u001b[0m\u001b[0msize\u001b[0m\u001b[0;34m=\u001b[0m\u001b[0;36m15\u001b[0m\u001b[0;34m)\u001b[0m\u001b[0;34m\u001b[0m\u001b[0;34m\u001b[0m\u001b[0m\n",
            "\u001b[0;32m/usr/local/lib/python3.10/dist-packages/seaborn/relational.py\u001b[0m in \u001b[0;36mlineplot\u001b[0;34m(data, x, y, hue, size, style, units, palette, hue_order, hue_norm, sizes, size_order, size_norm, dashes, markers, style_order, estimator, errorbar, n_boot, seed, orient, sort, err_style, err_kws, legend, ci, ax, **kwargs)\u001b[0m\n\u001b[1;32m    616\u001b[0m \u001b[0;34m\u001b[0m\u001b[0m\n\u001b[1;32m    617\u001b[0m     \u001b[0mvariables\u001b[0m \u001b[0;34m=\u001b[0m \u001b[0m_LinePlotter\u001b[0m\u001b[0;34m.\u001b[0m\u001b[0mget_semantics\u001b[0m\u001b[0;34m(\u001b[0m\u001b[0mlocals\u001b[0m\u001b[0;34m(\u001b[0m\u001b[0;34m)\u001b[0m\u001b[0;34m)\u001b[0m\u001b[0;34m\u001b[0m\u001b[0;34m\u001b[0m\u001b[0m\n\u001b[0;32m--> 618\u001b[0;31m     p = _LinePlotter(\n\u001b[0m\u001b[1;32m    619\u001b[0m         \u001b[0mdata\u001b[0m\u001b[0;34m=\u001b[0m\u001b[0mdata\u001b[0m\u001b[0;34m,\u001b[0m \u001b[0mvariables\u001b[0m\u001b[0;34m=\u001b[0m\u001b[0mvariables\u001b[0m\u001b[0;34m,\u001b[0m\u001b[0;34m\u001b[0m\u001b[0;34m\u001b[0m\u001b[0m\n\u001b[1;32m    620\u001b[0m         \u001b[0mestimator\u001b[0m\u001b[0;34m=\u001b[0m\u001b[0mestimator\u001b[0m\u001b[0;34m,\u001b[0m \u001b[0mn_boot\u001b[0m\u001b[0;34m=\u001b[0m\u001b[0mn_boot\u001b[0m\u001b[0;34m,\u001b[0m \u001b[0mseed\u001b[0m\u001b[0;34m=\u001b[0m\u001b[0mseed\u001b[0m\u001b[0;34m,\u001b[0m \u001b[0merrorbar\u001b[0m\u001b[0;34m=\u001b[0m\u001b[0merrorbar\u001b[0m\u001b[0;34m,\u001b[0m\u001b[0;34m\u001b[0m\u001b[0;34m\u001b[0m\u001b[0m\n",
            "\u001b[0;32m/usr/local/lib/python3.10/dist-packages/seaborn/relational.py\u001b[0m in \u001b[0;36m__init__\u001b[0;34m(self, data, variables, estimator, n_boot, seed, errorbar, sort, orient, err_style, err_kws, legend)\u001b[0m\n\u001b[1;32m    363\u001b[0m         )\n\u001b[1;32m    364\u001b[0m \u001b[0;34m\u001b[0m\u001b[0m\n\u001b[0;32m--> 365\u001b[0;31m         \u001b[0msuper\u001b[0m\u001b[0;34m(\u001b[0m\u001b[0;34m)\u001b[0m\u001b[0;34m.\u001b[0m\u001b[0m__init__\u001b[0m\u001b[0;34m(\u001b[0m\u001b[0mdata\u001b[0m\u001b[0;34m=\u001b[0m\u001b[0mdata\u001b[0m\u001b[0;34m,\u001b[0m \u001b[0mvariables\u001b[0m\u001b[0;34m=\u001b[0m\u001b[0mvariables\u001b[0m\u001b[0;34m)\u001b[0m\u001b[0;34m\u001b[0m\u001b[0;34m\u001b[0m\u001b[0m\n\u001b[0m\u001b[1;32m    366\u001b[0m \u001b[0;34m\u001b[0m\u001b[0m\n\u001b[1;32m    367\u001b[0m         \u001b[0mself\u001b[0m\u001b[0;34m.\u001b[0m\u001b[0mestimator\u001b[0m \u001b[0;34m=\u001b[0m \u001b[0mestimator\u001b[0m\u001b[0;34m\u001b[0m\u001b[0;34m\u001b[0m\u001b[0m\n",
            "\u001b[0;32m/usr/local/lib/python3.10/dist-packages/seaborn/_oldcore.py\u001b[0m in \u001b[0;36m__init__\u001b[0;34m(self, data, variables)\u001b[0m\n\u001b[1;32m    638\u001b[0m         \u001b[0;31m# information for numeric axes would be information about log scales.\u001b[0m\u001b[0;34m\u001b[0m\u001b[0;34m\u001b[0m\u001b[0m\n\u001b[1;32m    639\u001b[0m         \u001b[0mself\u001b[0m\u001b[0;34m.\u001b[0m\u001b[0m_var_ordered\u001b[0m \u001b[0;34m=\u001b[0m \u001b[0;34m{\u001b[0m\u001b[0;34m\"x\"\u001b[0m\u001b[0;34m:\u001b[0m \u001b[0;32mFalse\u001b[0m\u001b[0;34m,\u001b[0m \u001b[0;34m\"y\"\u001b[0m\u001b[0;34m:\u001b[0m \u001b[0;32mFalse\u001b[0m\u001b[0;34m}\u001b[0m  \u001b[0;31m# alt., used DefaultDict\u001b[0m\u001b[0;34m\u001b[0m\u001b[0;34m\u001b[0m\u001b[0m\n\u001b[0;32m--> 640\u001b[0;31m         \u001b[0mself\u001b[0m\u001b[0;34m.\u001b[0m\u001b[0massign_variables\u001b[0m\u001b[0;34m(\u001b[0m\u001b[0mdata\u001b[0m\u001b[0;34m,\u001b[0m \u001b[0mvariables\u001b[0m\u001b[0;34m)\u001b[0m\u001b[0;34m\u001b[0m\u001b[0;34m\u001b[0m\u001b[0m\n\u001b[0m\u001b[1;32m    641\u001b[0m \u001b[0;34m\u001b[0m\u001b[0m\n\u001b[1;32m    642\u001b[0m         \u001b[0;32mfor\u001b[0m \u001b[0mvar\u001b[0m\u001b[0;34m,\u001b[0m \u001b[0mcls\u001b[0m \u001b[0;32min\u001b[0m \u001b[0mself\u001b[0m\u001b[0;34m.\u001b[0m\u001b[0m_semantic_mappings\u001b[0m\u001b[0;34m.\u001b[0m\u001b[0mitems\u001b[0m\u001b[0;34m(\u001b[0m\u001b[0;34m)\u001b[0m\u001b[0;34m:\u001b[0m\u001b[0;34m\u001b[0m\u001b[0;34m\u001b[0m\u001b[0m\n",
            "\u001b[0;32m/usr/local/lib/python3.10/dist-packages/seaborn/_oldcore.py\u001b[0m in \u001b[0;36massign_variables\u001b[0;34m(self, data, variables)\u001b[0m\n\u001b[1;32m    699\u001b[0m         \u001b[0;32melse\u001b[0m\u001b[0;34m:\u001b[0m\u001b[0;34m\u001b[0m\u001b[0;34m\u001b[0m\u001b[0m\n\u001b[1;32m    700\u001b[0m             \u001b[0mself\u001b[0m\u001b[0;34m.\u001b[0m\u001b[0minput_format\u001b[0m \u001b[0;34m=\u001b[0m \u001b[0;34m\"long\"\u001b[0m\u001b[0;34m\u001b[0m\u001b[0;34m\u001b[0m\u001b[0m\n\u001b[0;32m--> 701\u001b[0;31m             plot_data, variables = self._assign_variables_longform(\n\u001b[0m\u001b[1;32m    702\u001b[0m                 \u001b[0mdata\u001b[0m\u001b[0;34m,\u001b[0m \u001b[0;34m**\u001b[0m\u001b[0mvariables\u001b[0m\u001b[0;34m,\u001b[0m\u001b[0;34m\u001b[0m\u001b[0;34m\u001b[0m\u001b[0m\n\u001b[1;32m    703\u001b[0m             )\n",
            "\u001b[0;32m/usr/local/lib/python3.10/dist-packages/seaborn/_oldcore.py\u001b[0m in \u001b[0;36m_assign_variables_longform\u001b[0;34m(self, data, **kwargs)\u001b[0m\n\u001b[1;32m    960\u001b[0m         \u001b[0;31m# Construct a tidy plot DataFrame. This will convert a number of\u001b[0m\u001b[0;34m\u001b[0m\u001b[0;34m\u001b[0m\u001b[0m\n\u001b[1;32m    961\u001b[0m         \u001b[0;31m# types automatically, aligning on index in case of pandas objects\u001b[0m\u001b[0;34m\u001b[0m\u001b[0;34m\u001b[0m\u001b[0m\n\u001b[0;32m--> 962\u001b[0;31m         \u001b[0mplot_data\u001b[0m \u001b[0;34m=\u001b[0m \u001b[0mpd\u001b[0m\u001b[0;34m.\u001b[0m\u001b[0mDataFrame\u001b[0m\u001b[0;34m(\u001b[0m\u001b[0mplot_data\u001b[0m\u001b[0;34m)\u001b[0m\u001b[0;34m\u001b[0m\u001b[0;34m\u001b[0m\u001b[0m\n\u001b[0m\u001b[1;32m    963\u001b[0m \u001b[0;34m\u001b[0m\u001b[0m\n\u001b[1;32m    964\u001b[0m         \u001b[0;31m# Reduce the variables dictionary to fields with valid data\u001b[0m\u001b[0;34m\u001b[0m\u001b[0;34m\u001b[0m\u001b[0m\n",
            "\u001b[0;32m/usr/local/lib/python3.10/dist-packages/pandas/core/frame.py\u001b[0m in \u001b[0;36m__init__\u001b[0;34m(self, data, index, columns, dtype, copy)\u001b[0m\n\u001b[1;32m    662\u001b[0m         \u001b[0;32melif\u001b[0m \u001b[0misinstance\u001b[0m\u001b[0;34m(\u001b[0m\u001b[0mdata\u001b[0m\u001b[0;34m,\u001b[0m \u001b[0mdict\u001b[0m\u001b[0;34m)\u001b[0m\u001b[0;34m:\u001b[0m\u001b[0;34m\u001b[0m\u001b[0;34m\u001b[0m\u001b[0m\n\u001b[1;32m    663\u001b[0m             \u001b[0;31m# GH#38939 de facto copy defaults to False only in non-dict cases\u001b[0m\u001b[0;34m\u001b[0m\u001b[0;34m\u001b[0m\u001b[0m\n\u001b[0;32m--> 664\u001b[0;31m             \u001b[0mmgr\u001b[0m \u001b[0;34m=\u001b[0m \u001b[0mdict_to_mgr\u001b[0m\u001b[0;34m(\u001b[0m\u001b[0mdata\u001b[0m\u001b[0;34m,\u001b[0m \u001b[0mindex\u001b[0m\u001b[0;34m,\u001b[0m \u001b[0mcolumns\u001b[0m\u001b[0;34m,\u001b[0m \u001b[0mdtype\u001b[0m\u001b[0;34m=\u001b[0m\u001b[0mdtype\u001b[0m\u001b[0;34m,\u001b[0m \u001b[0mcopy\u001b[0m\u001b[0;34m=\u001b[0m\u001b[0mcopy\u001b[0m\u001b[0;34m,\u001b[0m \u001b[0mtyp\u001b[0m\u001b[0;34m=\u001b[0m\u001b[0mmanager\u001b[0m\u001b[0;34m)\u001b[0m\u001b[0;34m\u001b[0m\u001b[0;34m\u001b[0m\u001b[0m\n\u001b[0m\u001b[1;32m    665\u001b[0m         \u001b[0;32melif\u001b[0m \u001b[0misinstance\u001b[0m\u001b[0;34m(\u001b[0m\u001b[0mdata\u001b[0m\u001b[0;34m,\u001b[0m \u001b[0mma\u001b[0m\u001b[0;34m.\u001b[0m\u001b[0mMaskedArray\u001b[0m\u001b[0;34m)\u001b[0m\u001b[0;34m:\u001b[0m\u001b[0;34m\u001b[0m\u001b[0;34m\u001b[0m\u001b[0m\n\u001b[1;32m    666\u001b[0m             \u001b[0;32mimport\u001b[0m \u001b[0mnumpy\u001b[0m\u001b[0;34m.\u001b[0m\u001b[0mma\u001b[0m\u001b[0;34m.\u001b[0m\u001b[0mmrecords\u001b[0m \u001b[0;32mas\u001b[0m \u001b[0mmrecords\u001b[0m\u001b[0;34m\u001b[0m\u001b[0;34m\u001b[0m\u001b[0m\n",
            "\u001b[0;32m/usr/local/lib/python3.10/dist-packages/pandas/core/internals/construction.py\u001b[0m in \u001b[0;36mdict_to_mgr\u001b[0;34m(data, index, columns, dtype, typ, copy)\u001b[0m\n\u001b[1;32m    491\u001b[0m             \u001b[0marrays\u001b[0m \u001b[0;34m=\u001b[0m \u001b[0;34m[\u001b[0m\u001b[0mx\u001b[0m\u001b[0;34m.\u001b[0m\u001b[0mcopy\u001b[0m\u001b[0;34m(\u001b[0m\u001b[0;34m)\u001b[0m \u001b[0;32mif\u001b[0m \u001b[0mhasattr\u001b[0m\u001b[0;34m(\u001b[0m\u001b[0mx\u001b[0m\u001b[0;34m,\u001b[0m \u001b[0;34m\"dtype\"\u001b[0m\u001b[0;34m)\u001b[0m \u001b[0;32melse\u001b[0m \u001b[0mx\u001b[0m \u001b[0;32mfor\u001b[0m \u001b[0mx\u001b[0m \u001b[0;32min\u001b[0m \u001b[0marrays\u001b[0m\u001b[0;34m]\u001b[0m\u001b[0;34m\u001b[0m\u001b[0;34m\u001b[0m\u001b[0m\n\u001b[1;32m    492\u001b[0m \u001b[0;34m\u001b[0m\u001b[0m\n\u001b[0;32m--> 493\u001b[0;31m     \u001b[0;32mreturn\u001b[0m \u001b[0marrays_to_mgr\u001b[0m\u001b[0;34m(\u001b[0m\u001b[0marrays\u001b[0m\u001b[0;34m,\u001b[0m \u001b[0mcolumns\u001b[0m\u001b[0;34m,\u001b[0m \u001b[0mindex\u001b[0m\u001b[0;34m,\u001b[0m \u001b[0mdtype\u001b[0m\u001b[0;34m=\u001b[0m\u001b[0mdtype\u001b[0m\u001b[0;34m,\u001b[0m \u001b[0mtyp\u001b[0m\u001b[0;34m=\u001b[0m\u001b[0mtyp\u001b[0m\u001b[0;34m,\u001b[0m \u001b[0mconsolidate\u001b[0m\u001b[0;34m=\u001b[0m\u001b[0mcopy\u001b[0m\u001b[0;34m)\u001b[0m\u001b[0;34m\u001b[0m\u001b[0;34m\u001b[0m\u001b[0m\n\u001b[0m\u001b[1;32m    494\u001b[0m \u001b[0;34m\u001b[0m\u001b[0m\n\u001b[1;32m    495\u001b[0m \u001b[0;34m\u001b[0m\u001b[0m\n",
            "\u001b[0;32m/usr/local/lib/python3.10/dist-packages/pandas/core/internals/construction.py\u001b[0m in \u001b[0;36marrays_to_mgr\u001b[0;34m(arrays, columns, index, dtype, verify_integrity, typ, consolidate)\u001b[0m\n\u001b[1;32m    116\u001b[0m         \u001b[0;31m# figure out the index, if necessary\u001b[0m\u001b[0;34m\u001b[0m\u001b[0;34m\u001b[0m\u001b[0m\n\u001b[1;32m    117\u001b[0m         \u001b[0;32mif\u001b[0m \u001b[0mindex\u001b[0m \u001b[0;32mis\u001b[0m \u001b[0;32mNone\u001b[0m\u001b[0;34m:\u001b[0m\u001b[0;34m\u001b[0m\u001b[0;34m\u001b[0m\u001b[0m\n\u001b[0;32m--> 118\u001b[0;31m             \u001b[0mindex\u001b[0m \u001b[0;34m=\u001b[0m \u001b[0m_extract_index\u001b[0m\u001b[0;34m(\u001b[0m\u001b[0marrays\u001b[0m\u001b[0;34m)\u001b[0m\u001b[0;34m\u001b[0m\u001b[0;34m\u001b[0m\u001b[0m\n\u001b[0m\u001b[1;32m    119\u001b[0m         \u001b[0;32melse\u001b[0m\u001b[0;34m:\u001b[0m\u001b[0;34m\u001b[0m\u001b[0;34m\u001b[0m\u001b[0m\n\u001b[1;32m    120\u001b[0m             \u001b[0mindex\u001b[0m \u001b[0;34m=\u001b[0m \u001b[0mensure_index\u001b[0m\u001b[0;34m(\u001b[0m\u001b[0mindex\u001b[0m\u001b[0;34m)\u001b[0m\u001b[0;34m\u001b[0m\u001b[0;34m\u001b[0m\u001b[0m\n",
            "\u001b[0;32m/usr/local/lib/python3.10/dist-packages/pandas/core/internals/construction.py\u001b[0m in \u001b[0;36m_extract_index\u001b[0;34m(data)\u001b[0m\n\u001b[1;32m    678\u001b[0m                         \u001b[0;34mf\"length {len(index)}\"\u001b[0m\u001b[0;34m\u001b[0m\u001b[0;34m\u001b[0m\u001b[0m\n\u001b[1;32m    679\u001b[0m                     )\n\u001b[0;32m--> 680\u001b[0;31m                     \u001b[0;32mraise\u001b[0m \u001b[0mValueError\u001b[0m\u001b[0;34m(\u001b[0m\u001b[0mmsg\u001b[0m\u001b[0;34m)\u001b[0m\u001b[0;34m\u001b[0m\u001b[0;34m\u001b[0m\u001b[0m\n\u001b[0m\u001b[1;32m    681\u001b[0m             \u001b[0;32melse\u001b[0m\u001b[0;34m:\u001b[0m\u001b[0;34m\u001b[0m\u001b[0;34m\u001b[0m\u001b[0m\n\u001b[1;32m    682\u001b[0m                 \u001b[0mindex\u001b[0m \u001b[0;34m=\u001b[0m \u001b[0mdefault_index\u001b[0m\u001b[0;34m(\u001b[0m\u001b[0mlengths\u001b[0m\u001b[0;34m[\u001b[0m\u001b[0;36m0\u001b[0m\u001b[0;34m]\u001b[0m\u001b[0;34m)\u001b[0m\u001b[0;34m\u001b[0m\u001b[0;34m\u001b[0m\u001b[0m\n",
            "\u001b[0;31mValueError\u001b[0m: array length 9197 does not match index length 9196"
          ]
        },
        {
          "data": {
            "text/plain": [
              "<Figure size 1000x500 with 0 Axes>"
            ]
          },
          "metadata": {},
          "output_type": "display_data"
        }
      ],
      "source": [
        "sample_df = df.sample(frac=0.70)\n",
        "\n",
        "plt.figure(figsize=(10,5))\n",
        "sns.lineplot(x=sample_df['Year'],y=pred_Y_lr,hue=None)\n",
        "plt.title('Predicting Sales per Year',size=15)"
      ]
    },
    {
      "cell_type": "code",
      "execution_count": null,
      "metadata": {
        "id": "we9QAMC7DLIo"
      },
      "outputs": [],
      "source": [
        "\n",
        "ft_scores = pd.Series(clf.feature_importances_, index=X_train.columns).sort_values(ascending=False)\n",
        "\n",
        "ft_scores"
      ]
    },
    {
      "cell_type": "code",
      "execution_count": null,
      "metadata": {
        "id": "BWznG2wYDPZ2"
      },
      "outputs": [],
      "source": [
        "#plotting ft_scores to visualize significance of individual column\n",
        "plt.figure(figsize = (17,10))\n",
        "plt.xlabel('Columns')\n",
        "plt.ylabel('feature_scores \\n')\n",
        "plt.tight_layout()\n",
        "\n",
        "ft_scores.plot.bar()\n",
        "\n"
      ]
    },
    {
      "cell_type": "markdown",
      "metadata": {
        "id": "g5lRroHUO6la"
      },
      "source": [
        "#**9. Implications of the project for future studies**\n"
      ]
    },
    {
      "cell_type": "markdown",
      "metadata": {
        "id": "8awFc9BMO6la"
      },
      "source": [
        "This data set can be very useful to analize trends in the market. Studying a supply chain data set can provide a real-world understanding of the complex interdependencies and relationships between various components of a supply chain. By analyzing data related to sourcing, production, distribution, and delivery of goods or services, students can gain insights into the challenges, risks, and opportunities that companies face in managing their supply chains. Studying supply chain data can also help students develop skills in data analysis, critical thinking, problem-solving, and decision-making, which are highly valued in today's business world. \n",
        "\n",
        " This model can be used to analyze data of any year an if updated, the dataset could be analized again so new predictions and conclusions could be made according to the new data. By adding more recent sales data to the dataset, we can also build a predictive model which  will be able to aid the company in its decisions.\n"
      ]
    },
    {
      "cell_type": "markdown",
      "metadata": {
        "id": "QSBZX_xZO6lb"
      },
      "source": [
        "#**10. Why this model is better?**"
      ]
    },
    {
      "cell_type": "markdown",
      "metadata": {
        "id": "nUfsPIVdO6lb"
      },
      "source": [
        "Because we approached the dataset with curiosity and in our attempts to read the data we were able to analize different patterns and comprehend better the relationship between different attributes, such as Order Benefit and Delivery Status."
      ]
    }
  ],
  "metadata": {
    "colab": {
      "collapsed_sections": [
        "ZrW3qfgywF9p",
        "sKbOlNhE2SQ9"
      ],
      "provenance": []
    },
    "kernelspec": {
      "display_name": "Python 3",
      "name": "python3"
    },
    "language_info": {
      "name": "python"
    }
  },
  "nbformat": 4,
  "nbformat_minor": 0
}